{
 "cells": [
  {
   "cell_type": "code",
   "execution_count": 1,
   "id": "2c53f67f",
   "metadata": {
    "_cell_guid": "b1076dfc-b9ad-4769-8c92-a6c4dae69d19",
    "_uuid": "8f2839f25d086af736a60e9eeb907d3b93b6e0e5",
    "execution": {
     "iopub.execute_input": "2025-06-22T09:52:48.900011Z",
     "iopub.status.busy": "2025-06-22T09:52:48.899797Z",
     "iopub.status.idle": "2025-06-22T09:52:50.810658Z",
     "shell.execute_reply": "2025-06-22T09:52:50.809792Z"
    },
    "papermill": {
     "duration": 1.917867,
     "end_time": "2025-06-22T09:52:50.812115",
     "exception": false,
     "start_time": "2025-06-22T09:52:48.894248",
     "status": "completed"
    },
    "tags": []
   },
   "outputs": [
    {
     "name": "stdout",
     "output_type": "stream",
     "text": [
      "/kaggle/input/fertilizer-prediction/Fertilizer Prediction.csv\n",
      "/kaggle/input/playground-series-s5e6/sample_submission.csv\n",
      "/kaggle/input/playground-series-s5e6/train.csv\n",
      "/kaggle/input/playground-series-s5e6/test.csv\n"
     ]
    }
   ],
   "source": [
    "# This Python 3 environment comes with many helpful analytics libraries installed\n",
    "# It is defined by the kaggle/python Docker image: https://github.com/kaggle/docker-python\n",
    "# For example, here's several helpful packages to load\n",
    "\n",
    "import numpy as np # linear algebra\n",
    "import pandas as pd # data processing, CSV file I/O (e.g. pd.read_csv)\n",
    "\n",
    "# Input data files are available in the read-only \"../input/\" directory\n",
    "# For example, running this (by clicking run or pressing Shift+Enter) will list all files under the input directory\n",
    "\n",
    "import os\n",
    "for dirname, _, filenames in os.walk('/kaggle/input'):\n",
    "    for filename in filenames:\n",
    "        print(os.path.join(dirname, filename))\n",
    "\n",
    "# You can write up to 20GB to the current directory (/kaggle/working/) that gets preserved as output when you create a version using \"Save & Run All\" \n",
    "# You can also write temporary files to /kaggle/temp/, but they won't be saved outside of the current session"
   ]
  },
  {
   "cell_type": "code",
   "execution_count": 2,
   "id": "83c55af7",
   "metadata": {
    "execution": {
     "iopub.execute_input": "2025-06-22T09:52:50.821283Z",
     "iopub.status.busy": "2025-06-22T09:52:50.820968Z",
     "iopub.status.idle": "2025-06-22T09:53:00.608163Z",
     "shell.execute_reply": "2025-06-22T09:53:00.607411Z"
    },
    "papermill": {
     "duration": 9.793167,
     "end_time": "2025-06-22T09:53:00.609625",
     "exception": false,
     "start_time": "2025-06-22T09:52:50.816458",
     "status": "completed"
    },
    "tags": []
   },
   "outputs": [
    {
     "name": "stdout",
     "output_type": "stream",
     "text": [
      "\u001b[2K   \u001b[90m━━━━━━━━━━━━━━━━━━━━━━━━━━━━━━━━━━━━━━━━\u001b[0m \u001b[32m13.3/13.3 MB\u001b[0m \u001b[31m94.4 MB/s\u001b[0m eta \u001b[36m0:00:00\u001b[0m\r\n",
      "\u001b[?25h\u001b[31mERROR: pip's dependency resolver does not currently take into account all the packages that are installed. This behaviour is the source of the following dependency conflicts.\r\n",
      "cesium 0.12.4 requires numpy<3.0,>=2.0, but you have numpy 1.26.4 which is incompatible.\u001b[0m\u001b[31m\r\n",
      "\u001b[0m"
     ]
    }
   ],
   "source": [
    "!pip install -q scikit-learn==1.5.2"
   ]
  },
  {
   "cell_type": "code",
   "execution_count": 3,
   "id": "963e3b53",
   "metadata": {
    "execution": {
     "iopub.execute_input": "2025-06-22T09:53:00.620098Z",
     "iopub.status.busy": "2025-06-22T09:53:00.619561Z",
     "iopub.status.idle": "2025-06-22T09:53:08.750823Z",
     "shell.execute_reply": "2025-06-22T09:53:08.750251Z"
    },
    "papermill": {
     "duration": 8.137587,
     "end_time": "2025-06-22T09:53:08.752128",
     "exception": false,
     "start_time": "2025-06-22T09:53:00.614541",
     "status": "completed"
    },
    "tags": []
   },
   "outputs": [],
   "source": [
    "from lightgbm import LGBMClassifier, log_evaluation, early_stopping\n",
    "from sklearn.feature_selection import mutual_info_classif\n",
    "from sklearn.linear_model import LogisticRegression\n",
    "from sklearn.model_selection import StratifiedKFold\n",
    "from sklearn.preprocessing import LabelEncoder\n",
    "from sklearn.base import clone\n",
    "from xgboost import XGBClassifier\n",
    "import matplotlib.pyplot as plt\n",
    "import seaborn as sns\n",
    "import pandas as pd\n",
    "import numpy as np\n",
    "import warnings\n",
    "import joblib\n",
    "import optuna\n",
    "import shutil\n",
    "import glob\n",
    "import json\n",
    "import gc\n",
    "\n",
    "warnings.filterwarnings(\"ignore\")"
   ]
  },
  {
   "cell_type": "code",
   "execution_count": 4,
   "id": "fc5e98c3",
   "metadata": {
    "execution": {
     "iopub.execute_input": "2025-06-22T09:53:08.762587Z",
     "iopub.status.busy": "2025-06-22T09:53:08.761782Z",
     "iopub.status.idle": "2025-06-22T09:53:08.765900Z",
     "shell.execute_reply": "2025-06-22T09:53:08.765356Z"
    },
    "papermill": {
     "duration": 0.009938,
     "end_time": "2025-06-22T09:53:08.766875",
     "exception": false,
     "start_time": "2025-06-22T09:53:08.756937",
     "status": "completed"
    },
    "tags": []
   },
   "outputs": [],
   "source": [
    "class CFG:\n",
    "    train_path = \"/kaggle/input/playground-series-s5e6/train.csv\"\n",
    "    test_path = \"/kaggle/input/playground-series-s5e6/test.csv\"\n",
    "    sample_sub_path = \"/kaggle/input/playground-series-s5e6/sample_submission.csv\"\n",
    "\n",
    "    original_path = \"/kaggle/input/fertilizer-prediction/Fertilizer Prediction.csv\"\n",
    "    \n",
    "    target = \"Fertilizer Name\"\n",
    "    n_folds = 5\n",
    "    seed = 42"
   ]
  },
  {
   "cell_type": "markdown",
   "id": "343a667d",
   "metadata": {
    "papermill": {
     "duration": 0.004125,
     "end_time": "2025-06-22T09:53:08.775138",
     "exception": false,
     "start_time": "2025-06-22T09:53:08.771013",
     "status": "completed"
    },
    "tags": []
   },
   "source": [
    "Data loading and preprocessing"
   ]
  },
  {
   "cell_type": "code",
   "execution_count": 5,
   "id": "9b042337",
   "metadata": {
    "execution": {
     "iopub.execute_input": "2025-06-22T09:53:08.784081Z",
     "iopub.status.busy": "2025-06-22T09:53:08.783824Z",
     "iopub.status.idle": "2025-06-22T09:53:12.383189Z",
     "shell.execute_reply": "2025-06-22T09:53:12.382248Z"
    },
    "papermill": {
     "duration": 3.605642,
     "end_time": "2025-06-22T09:53:12.384794",
     "exception": false,
     "start_time": "2025-06-22T09:53:08.779152",
     "status": "completed"
    },
    "tags": []
   },
   "outputs": [],
   "source": [
    "train = pd.read_csv(CFG.train_path, index_col=\"id\")\n",
    "test = pd.read_csv(CFG.test_path, index_col=\"id\")\n",
    "original = pd.read_csv(CFG.original_path)\n",
    "\n",
    "features = test.columns.tolist()\n",
    "train[features] = train[features].astype(str).astype(\"category\")\n",
    "test[features] = test[features].astype(str).astype(\"category\")\n",
    "original[features] = original[features].astype(str).astype(\"category\")\n",
    "\n",
    "label_encoder = LabelEncoder()\n",
    "train[CFG.target] = label_encoder.fit_transform(train[CFG.target])\n",
    "original[CFG.target] = label_encoder.transform(original[CFG.target])\n",
    "\n",
    "X = train.drop(CFG.target, axis=1)\n",
    "y = train[CFG.target]\n",
    "X_test = test\n",
    "\n",
    "X_original = original.drop(CFG.target, axis=1)\n",
    "y_original = original[CFG.target]"
   ]
  },
  {
   "cell_type": "code",
   "execution_count": 6,
   "id": "ef9faf3e",
   "metadata": {
    "execution": {
     "iopub.execute_input": "2025-06-22T09:53:12.394622Z",
     "iopub.status.busy": "2025-06-22T09:53:12.394389Z",
     "iopub.status.idle": "2025-06-22T09:53:20.450869Z",
     "shell.execute_reply": "2025-06-22T09:53:20.450066Z"
    },
    "papermill": {
     "duration": 8.062745,
     "end_time": "2025-06-22T09:53:20.452107",
     "exception": false,
     "start_time": "2025-06-22T09:53:12.389362",
     "status": "completed"
    },
    "tags": []
   },
   "outputs": [
    {
     "data": {
      "text/html": [
       "<style type=\"text/css\">\n",
       "#T_514cb_row0_col0 {\n",
       "  width: 10em;\n",
       "  background: linear-gradient(90deg, #006837 100.0%, transparent 100.0%);\n",
       "}\n",
       "#T_514cb_row1_col0 {\n",
       "  width: 10em;\n",
       "  background: linear-gradient(90deg, #199750 90.2%, transparent 90.2%);\n",
       "}\n",
       "#T_514cb_row2_col0 {\n",
       "  width: 10em;\n",
       "  background: linear-gradient(90deg, #9bd469 71.7%, transparent 71.7%);\n",
       "}\n",
       "#T_514cb_row3_col0 {\n",
       "  width: 10em;\n",
       "  background: linear-gradient(90deg, #c9e881 63.1%, transparent 63.1%);\n",
       "}\n",
       "#T_514cb_row4_col0 {\n",
       "  width: 10em;\n",
       "  background: linear-gradient(90deg, #fee491 41.3%, transparent 41.3%);\n",
       "}\n",
       "#T_514cb_row5_col0 {\n",
       "  width: 10em;\n",
       "  background: linear-gradient(90deg, #fdb163 30.7%, transparent 30.7%);\n",
       "}\n",
       "#T_514cb_row6_col0 {\n",
       "  width: 10em;\n",
       "  background: linear-gradient(90deg, #fca85e 29.2%, transparent 29.2%);\n",
       "}\n",
       "#T_514cb_row7_col0 {\n",
       "  width: 10em;\n",
       "  background: linear-gradient(90deg, #ef633f 18.6%, transparent 18.6%);\n",
       "}\n",
       "</style>\n",
       "<table id=\"T_514cb\">\n",
       "  <thead>\n",
       "    <tr>\n",
       "      <th class=\"blank level0\" >&nbsp;</th>\n",
       "      <th id=\"T_514cb_level0_col0\" class=\"col_heading level0 col0\" >Mutual Information</th>\n",
       "    </tr>\n",
       "  </thead>\n",
       "  <tbody>\n",
       "    <tr>\n",
       "      <th id=\"T_514cb_level0_row0\" class=\"row_heading level0 row0\" >Moisture</th>\n",
       "      <td id=\"T_514cb_row0_col0\" class=\"data row0 col0\" >0.003308</td>\n",
       "    </tr>\n",
       "    <tr>\n",
       "      <th id=\"T_514cb_level0_row1\" class=\"row_heading level0 row1\" >Phosphorous</th>\n",
       "      <td id=\"T_514cb_row1_col0\" class=\"data row1 col0\" >0.002984</td>\n",
       "    </tr>\n",
       "    <tr>\n",
       "      <th id=\"T_514cb_level0_row2\" class=\"row_heading level0 row2\" >Nitrogen</th>\n",
       "      <td id=\"T_514cb_row2_col0\" class=\"data row2 col0\" >0.002373</td>\n",
       "    </tr>\n",
       "    <tr>\n",
       "      <th id=\"T_514cb_level0_row3\" class=\"row_heading level0 row3\" >Crop Type</th>\n",
       "      <td id=\"T_514cb_row3_col0\" class=\"data row3 col0\" >0.002088</td>\n",
       "    </tr>\n",
       "    <tr>\n",
       "      <th id=\"T_514cb_level0_row4\" class=\"row_heading level0 row4\" >Potassium</th>\n",
       "      <td id=\"T_514cb_row4_col0\" class=\"data row4 col0\" >0.001367</td>\n",
       "    </tr>\n",
       "    <tr>\n",
       "      <th id=\"T_514cb_level0_row5\" class=\"row_heading level0 row5\" >Humidity</th>\n",
       "      <td id=\"T_514cb_row5_col0\" class=\"data row5 col0\" >0.001015</td>\n",
       "    </tr>\n",
       "    <tr>\n",
       "      <th id=\"T_514cb_level0_row6\" class=\"row_heading level0 row6\" >Temparature</th>\n",
       "      <td id=\"T_514cb_row6_col0\" class=\"data row6 col0\" >0.000966</td>\n",
       "    </tr>\n",
       "    <tr>\n",
       "      <th id=\"T_514cb_level0_row7\" class=\"row_heading level0 row7\" >Soil Type</th>\n",
       "      <td id=\"T_514cb_row7_col0\" class=\"data row7 col0\" >0.000617</td>\n",
       "    </tr>\n",
       "  </tbody>\n",
       "</table>\n"
      ],
      "text/plain": [
       "<pandas.io.formats.style.Styler at 0x78259d73e810>"
      ]
     },
     "execution_count": 6,
     "metadata": {},
     "output_type": "execute_result"
    }
   ],
   "source": [
    "mutual_info = mutual_info_classif(X, y, random_state=CFG.seed, discrete_features=True)\n",
    "\n",
    "mutual_info = pd.Series(mutual_info)\n",
    "mutual_info.index = X.columns\n",
    "mutual_info = pd.DataFrame(mutual_info.sort_values(ascending=False), columns=['Mutual Information'])\n",
    "mutual_info.style.bar(subset=['Mutual Information'], cmap='RdYlGn')"
   ]
  },
  {
   "cell_type": "code",
   "execution_count": 7,
   "id": "afe7eb08",
   "metadata": {
    "execution": {
     "iopub.execute_input": "2025-06-22T09:53:20.462511Z",
     "iopub.status.busy": "2025-06-22T09:53:20.461895Z",
     "iopub.status.idle": "2025-06-22T09:53:21.338089Z",
     "shell.execute_reply": "2025-06-22T09:53:21.337301Z"
    },
    "papermill": {
     "duration": 0.882541,
     "end_time": "2025-06-22T09:53:21.339435",
     "exception": false,
     "start_time": "2025-06-22T09:53:20.456894",
     "status": "completed"
    },
    "tags": []
   },
   "outputs": [
    {
     "data": {
      "text/html": [
       "<style type=\"text/css\">\n",
       "#T_76e2e_row0_col0 {\n",
       "  width: 10em;\n",
       "  background: linear-gradient(90deg, #006837 100.0%, transparent 100.0%);\n",
       "}\n",
       "#T_76e2e_row1_col0 {\n",
       "  width: 10em;\n",
       "  background: linear-gradient(90deg, #016a38 99.5%, transparent 99.5%);\n",
       "}\n",
       "#T_76e2e_row2_col0 {\n",
       "  width: 10em;\n",
       "  background: linear-gradient(90deg, #70c164 78.4%, transparent 78.4%);\n",
       "}\n",
       "#T_76e2e_row3_col0 {\n",
       "  width: 10em;\n",
       "  background: linear-gradient(90deg, #fff2aa 45.9%, transparent 45.9%);\n",
       "}\n",
       "#T_76e2e_row4_col0 {\n",
       "  width: 10em;\n",
       "  background: linear-gradient(90deg, #fecc7b 36.3%, transparent 36.3%);\n",
       "}\n",
       "#T_76e2e_row5_col0 {\n",
       "  width: 10em;\n",
       "  background: linear-gradient(90deg, #fdb768 31.7%, transparent 31.7%);\n",
       "}\n",
       "#T_76e2e_row6_col0 {\n",
       "  width: 10em;\n",
       "  background: linear-gradient(90deg, #f7844e 23.5%, transparent 23.5%);\n",
       "}\n",
       "#T_76e2e_row7_col0 {\n",
       "  width: 10em;\n",
       "  background: linear-gradient(90deg, #cc2627 7.9%, transparent 7.9%);\n",
       "}\n",
       "</style>\n",
       "<table id=\"T_76e2e\">\n",
       "  <thead>\n",
       "    <tr>\n",
       "      <th class=\"blank level0\" >&nbsp;</th>\n",
       "      <th id=\"T_76e2e_level0_col0\" class=\"col_heading level0 col0\" >Mutual Information</th>\n",
       "    </tr>\n",
       "  </thead>\n",
       "  <tbody>\n",
       "    <tr>\n",
       "      <th id=\"T_76e2e_level0_row0\" class=\"row_heading level0 row0\" >Phosphorous</th>\n",
       "      <td id=\"T_76e2e_row0_col0\" class=\"data row0 col0\" >0.001362</td>\n",
       "    </tr>\n",
       "    <tr>\n",
       "      <th id=\"T_76e2e_level0_row1\" class=\"row_heading level0 row1\" >Moisture</th>\n",
       "      <td id=\"T_76e2e_row1_col0\" class=\"data row1 col0\" >0.001355</td>\n",
       "    </tr>\n",
       "    <tr>\n",
       "      <th id=\"T_76e2e_level0_row2\" class=\"row_heading level0 row2\" >Nitrogen</th>\n",
       "      <td id=\"T_76e2e_row2_col0\" class=\"data row2 col0\" >0.001068</td>\n",
       "    </tr>\n",
       "    <tr>\n",
       "      <th id=\"T_76e2e_level0_row3\" class=\"row_heading level0 row3\" >Potassium</th>\n",
       "      <td id=\"T_76e2e_row3_col0\" class=\"data row3 col0\" >0.000626</td>\n",
       "    </tr>\n",
       "    <tr>\n",
       "      <th id=\"T_76e2e_level0_row4\" class=\"row_heading level0 row4\" >Humidity</th>\n",
       "      <td id=\"T_76e2e_row4_col0\" class=\"data row4 col0\" >0.000494</td>\n",
       "    </tr>\n",
       "    <tr>\n",
       "      <th id=\"T_76e2e_level0_row5\" class=\"row_heading level0 row5\" >Temparature</th>\n",
       "      <td id=\"T_76e2e_row5_col0\" class=\"data row5 col0\" >0.000432</td>\n",
       "    </tr>\n",
       "    <tr>\n",
       "      <th id=\"T_76e2e_level0_row6\" class=\"row_heading level0 row6\" >Crop Type</th>\n",
       "      <td id=\"T_76e2e_row6_col0\" class=\"data row6 col0\" >0.000320</td>\n",
       "    </tr>\n",
       "    <tr>\n",
       "      <th id=\"T_76e2e_level0_row7\" class=\"row_heading level0 row7\" >Soil Type</th>\n",
       "      <td id=\"T_76e2e_row7_col0\" class=\"data row7 col0\" >0.000107</td>\n",
       "    </tr>\n",
       "  </tbody>\n",
       "</table>\n"
      ],
      "text/plain": [
       "<pandas.io.formats.style.Styler at 0x7825be880250>"
      ]
     },
     "execution_count": 7,
     "metadata": {},
     "output_type": "execute_result"
    }
   ],
   "source": [
    "mutual_info = mutual_info_classif(X_original, y_original, random_state=CFG.seed, discrete_features=True)\n",
    "\n",
    "mutual_info = pd.Series(mutual_info)\n",
    "mutual_info.index = X_original.columns\n",
    "mutual_info = pd.DataFrame(mutual_info.sort_values(ascending=False), columns=['Mutual Information'])\n",
    "mutual_info.style.bar(subset=['Mutual Information'], cmap='RdYlGn')"
   ]
  },
  {
   "cell_type": "markdown",
   "id": "544ade0a",
   "metadata": {
    "papermill": {
     "duration": 0.00474,
     "end_time": "2025-06-22T09:53:21.349210",
     "exception": false,
     "start_time": "2025-06-22T09:53:21.344470",
     "status": "completed"
    },
    "tags": []
   },
   "source": [
    "Training base models"
   ]
  },
  {
   "cell_type": "code",
   "execution_count": 8,
   "id": "fcf78c57",
   "metadata": {
    "execution": {
     "iopub.execute_input": "2025-06-22T09:53:21.359803Z",
     "iopub.status.busy": "2025-06-22T09:53:21.359479Z",
     "iopub.status.idle": "2025-06-22T09:53:21.365220Z",
     "shell.execute_reply": "2025-06-22T09:53:21.364563Z"
    },
    "papermill": {
     "duration": 0.012267,
     "end_time": "2025-06-22T09:53:21.366438",
     "exception": false,
     "start_time": "2025-06-22T09:53:21.354171",
     "status": "completed"
    },
    "tags": []
   },
   "outputs": [],
   "source": [
    "def map3(y_true, y_pred_probs):\n",
    "    y_true = [[x] for x in y_true]\n",
    "    y_pred_probs = np.argsort(y_pred_probs, axis=1)[:, -3:][:, ::-1].tolist()\n",
    "    \n",
    "    def ap3(y_true, y_pred_probs):\n",
    "        y_pred_probs = y_pred_probs[:3]\n",
    "\n",
    "        score = 0.0\n",
    "        num_hits = 0.0\n",
    "\n",
    "        for i,p in enumerate(y_pred_probs):\n",
    "            if p in y_true and p not in y_pred_probs[:i]:\n",
    "                num_hits += 1.0\n",
    "                score += num_hits / (i+1.0)\n",
    "\n",
    "        if not y_true:\n",
    "            return 0.0\n",
    "\n",
    "        return score\n",
    "    \n",
    "    return np.mean([ap3(a,p) for a,p in zip(y_true, y_pred_probs)])"
   ]
  },
  {
   "cell_type": "code",
   "execution_count": 9,
   "id": "b43bd226",
   "metadata": {
    "execution": {
     "iopub.execute_input": "2025-06-22T09:53:21.376531Z",
     "iopub.status.busy": "2025-06-22T09:53:21.376287Z",
     "iopub.status.idle": "2025-06-22T09:53:21.387094Z",
     "shell.execute_reply": "2025-06-22T09:53:21.386390Z"
    },
    "papermill": {
     "duration": 0.017478,
     "end_time": "2025-06-22T09:53:21.388275",
     "exception": false,
     "start_time": "2025-06-22T09:53:21.370797",
     "status": "completed"
    },
    "tags": []
   },
   "outputs": [],
   "source": [
    "class Trainer:\n",
    "    def __init__(self, model, config=CFG):\n",
    "        self.model = model\n",
    "        self.config = config\n",
    "\n",
    "    def fit_predict(self, X, y, X_test, X_original=None, y_original=None, fit_args={}):\n",
    "        print(f\"Training {self.model.__class__.__name__}\\n\")\n",
    "        \n",
    "        scores = []        \n",
    "        oof_pred_probs = np.zeros((X.shape[0], 7))\n",
    "        test_pred_probs = np.zeros((X_test.shape[0], 7))\n",
    "        \n",
    "        skf = StratifiedKFold(n_splits=self.config.n_folds, random_state=self.config.seed, shuffle=True)\n",
    "        for fold_idx, (train_idx, val_idx) in enumerate(skf.split(X, y)):\n",
    "            X_train, X_val = X.iloc[train_idx], X.iloc[val_idx]\n",
    "            y_train, y_val = y[train_idx], y[val_idx]\n",
    "\n",
    "            if X_original is not None and y_original is not None:\n",
    "                X_train = pd.concat([X_train, X_original])\n",
    "                y_train = pd.concat([y_train, y_original])\n",
    "            \n",
    "            model = clone(self.model)\n",
    "            \n",
    "            if fit_args:\n",
    "                model.fit(X_train, y_train, **fit_args, eval_set=[(X_val, y_val)])\n",
    "            else:\n",
    "                model.fit(X_train, y_train)\n",
    "            \n",
    "            y_pred_probs = model.predict_proba(X_val)\n",
    "            oof_pred_probs[val_idx] = y_pred_probs\n",
    "            \n",
    "            temp_test_pred_probs = model.predict_proba(X_test)\n",
    "            test_pred_probs += temp_test_pred_probs / self.config.n_folds\n",
    "            \n",
    "            score = map3(y_val, y_pred_probs)\n",
    "            scores.append(score)\n",
    "            \n",
    "            del model, X_train, y_train, X_val, y_val, y_pred_probs\n",
    "            gc.collect()\n",
    "            \n",
    "            if fit_args:\n",
    "                print(f\"\\n--- Fold {fold_idx + 1} - MAP@3: {score:.6f}\\n\\n\")\n",
    "            else:\n",
    "                print(f\"--- Fold {fold_idx + 1} - MAP@3: {score:.6f}\")\n",
    "                            \n",
    "        overall_score = map3(y, oof_pred_probs)\n",
    "            \n",
    "        print(f\"\\n------ Overall MAP@3: {overall_score:.6f} | Average MAP@3: {np.mean(scores):.6f} ± {np.std(scores):.6f}\")\n",
    "        \n",
    "        return oof_pred_probs, test_pred_probs, scores\n",
    "\n",
    "    def tune(self, X, y):        \n",
    "        scores = []        \n",
    "        \n",
    "        skf = StratifiedKFold(n_splits=self.config.n_folds, random_state=self.config.seed, shuffle=True)\n",
    "        for fold_idx, (train_idx, val_idx) in enumerate(skf.split(X, y)):\n",
    "            X_train, X_val = X.iloc[train_idx], X.iloc[val_idx]\n",
    "            y_train, y_val = y[train_idx], y[val_idx]\n",
    "            \n",
    "            model = clone(self.model)\n",
    "            model.fit(X_train, y_train)\n",
    "            \n",
    "            y_pred_probs = model.predict_proba(X_val)            \n",
    "            score = map3(y_val, y_pred_probs)\n",
    "            scores.append(score)\n",
    "            \n",
    "            del model, X_train, y_train, X_val, y_val, y_pred_probs\n",
    "            gc.collect()\n",
    "            \n",
    "        return np.mean(scores)"
   ]
  },
  {
   "cell_type": "code",
   "execution_count": 10,
   "id": "81354243",
   "metadata": {
    "execution": {
     "iopub.execute_input": "2025-06-22T09:53:21.398725Z",
     "iopub.status.busy": "2025-06-22T09:53:21.398169Z",
     "iopub.status.idle": "2025-06-22T09:53:21.403485Z",
     "shell.execute_reply": "2025-06-22T09:53:21.402921Z"
    },
    "papermill": {
     "duration": 0.01188,
     "end_time": "2025-06-22T09:53:21.404662",
     "exception": false,
     "start_time": "2025-06-22T09:53:21.392782",
     "status": "completed"
    },
    "tags": []
   },
   "outputs": [],
   "source": [
    "lgbm_params = {\n",
    "    \"boosting_type\": \"gbdt\",\n",
    "    \"device\": \"gpu\",\n",
    "    \"colsample_bytree\": 0.4366677273946288,\n",
    "    \"learning_rate\": 0.016164161953515117,\n",
    "    \"max_depth\": 12,\n",
    "    \"min_child_samples\": 67,\n",
    "    \"n_estimators\": 10000,\n",
    "    \"n_jobs\": -1,\n",
    "    \"num_leaves\": 243,\n",
    "    \"random_state\": 42,\n",
    "    \"reg_alpha\": 6.38288560443373,\n",
    "    \"reg_lambda\": 9.392999314379155,\n",
    "    \"subsample\": 0.7989164499431718,\n",
    "    \"verbose\": -1\n",
    "}\n",
    "\n",
    "lgbm_goss_params = {\n",
    "    \"boosting_type\": \"goss\",\n",
    "    \"device\": \"gpu\",\n",
    "    \"colsample_bytree\": 0.32751831793031183,\n",
    "    \"learning_rate\": 0.006700715059604966,\n",
    "    \"max_depth\": 12,\n",
    "    \"min_child_samples\": 84,\n",
    "    \"n_estimators\": 10000,\n",
    "    \"n_jobs\": -1,\n",
    "    \"num_leaves\": 229,\n",
    "    \"random_state\": 42,\n",
    "    \"reg_alpha\": 6.879977008084246,\n",
    "    \"reg_lambda\": 4.739518466581721,\n",
    "    \"subsample\": 0.5411572049978781,\n",
    "    \"verbose\": -1\n",
    "}\n",
    "\n",
    "xgb_params = {\n",
    "    # https://www.kaggle.com/code/patrykszcz/simple-xgb-model-5-fold\n",
    "    \"device\": \"gpu\",\n",
    "    \"max_depth\": 12,\n",
    "    \"colsample_bytree\": 0.467,\n",
    "    \"subsample\": 0.86,\n",
    "    \"n_estimators\": 10000,\n",
    "    \"learning_rate\": 0.03,\n",
    "    \"gamma\": 0.26,\n",
    "    \"max_delta_step\": 4,\n",
    "    \"reg_alpha\": 2.7,\n",
    "    \"reg_lambda\": 1.4,\n",
    "    \"early_stopping_rounds\": 100,\n",
    "    \"objective\": 'multi:softprob',\n",
    "    \"random_state\": 13,\n",
    "    \"enable_categorical\": True,\n",
    "}"
   ]
  },
  {
   "cell_type": "code",
   "execution_count": 11,
   "id": "a70c0e35",
   "metadata": {
    "execution": {
     "iopub.execute_input": "2025-06-22T09:53:21.416409Z",
     "iopub.status.busy": "2025-06-22T09:53:21.416149Z",
     "iopub.status.idle": "2025-06-22T09:53:21.419348Z",
     "shell.execute_reply": "2025-06-22T09:53:21.418802Z"
    },
    "papermill": {
     "duration": 0.00973,
     "end_time": "2025-06-22T09:53:21.420423",
     "exception": false,
     "start_time": "2025-06-22T09:53:21.410693",
     "status": "completed"
    },
    "tags": []
   },
   "outputs": [],
   "source": [
    "scores = {}\n",
    "oof_pred_probs = {}\n",
    "test_pred_probs = {}"
   ]
  },
  {
   "cell_type": "markdown",
   "id": "7027bd1f",
   "metadata": {
    "papermill": {
     "duration": 0.004447,
     "end_time": "2025-06-22T09:53:21.429840",
     "exception": false,
     "start_time": "2025-06-22T09:53:21.425393",
     "status": "completed"
    },
    "tags": []
   },
   "source": [
    "LightGBM (gbdt)"
   ]
  },
  {
   "cell_type": "code",
   "execution_count": 12,
   "id": "5dfce08c",
   "metadata": {
    "execution": {
     "iopub.execute_input": "2025-06-22T09:53:21.439465Z",
     "iopub.status.busy": "2025-06-22T09:53:21.439241Z",
     "iopub.status.idle": "2025-06-22T12:35:10.404502Z",
     "shell.execute_reply": "2025-06-22T12:35:10.403473Z"
    },
    "papermill": {
     "duration": 9708.971951,
     "end_time": "2025-06-22T12:35:10.406072",
     "exception": false,
     "start_time": "2025-06-22T09:53:21.434121",
     "status": "completed"
    },
    "tags": []
   },
   "outputs": [
    {
     "name": "stdout",
     "output_type": "stream",
     "text": [
      "Training LGBMClassifier\n",
      "\n"
     ]
    },
    {
     "name": "stderr",
     "output_type": "stream",
     "text": [
      "1 warning generated.\n",
      "1 warning generated.\n",
      "1 warning generated.\n",
      "1 warning generated.\n",
      "1 warning generated.\n",
      "1 warning generated.\n",
      "1 warning generated.\n",
      "1 warning generated.\n",
      "1 warning generated.\n",
      "1 warning generated.\n",
      "1 warning generated.\n",
      "1 warning generated.\n",
      "1 warning generated.\n",
      "1 warning generated.\n",
      "1 warning generated.\n",
      "1 warning generated.\n",
      "1 warning generated.\n",
      "1 warning generated.\n",
      "1 warning generated.\n",
      "1 warning generated.\n",
      "1 warning generated.\n",
      "1 warning generated.\n",
      "1 warning generated.\n",
      "1 warning generated.\n",
      "1 warning generated.\n",
      "1 warning generated.\n",
      "1 warning generated.\n",
      "1 warning generated.\n",
      "1 warning generated.\n",
      "1 warning generated.\n",
      "1 warning generated.\n",
      "1 warning generated.\n",
      "1 warning generated.\n"
     ]
    },
    {
     "name": "stdout",
     "output_type": "stream",
     "text": [
      "Training until validation scores don't improve for 100 rounds\n",
      "[1000]\tvalid_0's multi_logloss: 1.89544\n",
      "Early stopping, best iteration is:\n",
      "[1799]\tvalid_0's multi_logloss: 1.89043\n",
      "\n",
      "--- Fold 1 - MAP@3: 0.365319\n",
      "\n",
      "\n",
      "Training until validation scores don't improve for 100 rounds\n",
      "[1000]\tvalid_0's multi_logloss: 1.89535\n",
      "[2000]\tvalid_0's multi_logloss: 1.89001\n",
      "Early stopping, best iteration is:\n",
      "[1909]\tvalid_0's multi_logloss: 1.88997\n",
      "\n",
      "--- Fold 2 - MAP@3: 0.365950\n",
      "\n",
      "\n",
      "Training until validation scores don't improve for 100 rounds\n",
      "[1000]\tvalid_0's multi_logloss: 1.89375\n",
      "[2000]\tvalid_0's multi_logloss: 1.88771\n",
      "Early stopping, best iteration is:\n",
      "[2082]\tvalid_0's multi_logloss: 1.88767\n",
      "\n",
      "--- Fold 3 - MAP@3: 0.368083\n",
      "\n",
      "\n",
      "Training until validation scores don't improve for 100 rounds\n",
      "[1000]\tvalid_0's multi_logloss: 1.89599\n",
      "Early stopping, best iteration is:\n",
      "[1898]\tvalid_0's multi_logloss: 1.89066\n",
      "\n",
      "--- Fold 4 - MAP@3: 0.365314\n",
      "\n",
      "\n",
      "Training until validation scores don't improve for 100 rounds\n",
      "[1000]\tvalid_0's multi_logloss: 1.89434\n",
      "Early stopping, best iteration is:\n",
      "[1887]\tvalid_0's multi_logloss: 1.88908\n",
      "\n",
      "--- Fold 5 - MAP@3: 0.366256\n",
      "\n",
      "\n",
      "\n",
      "------ Overall MAP@3: 0.366184 | Average MAP@3: 0.366184 ± 0.001017\n"
     ]
    }
   ],
   "source": [
    "lgbm_model = LGBMClassifier(**lgbm_params)\n",
    "lgbm_trainer = Trainer(lgbm_model)\n",
    "\n",
    "fit_args = {\n",
    "    \"callbacks\": [\n",
    "        log_evaluation(period=1000), \n",
    "        early_stopping(stopping_rounds=100)\n",
    "    ]\n",
    "}\n",
    "\n",
    "oof_pred_probs[\"LightGBM (gbdt)\"], test_pred_probs[\"LightGBM (gbdt)\"], scores[\"LightGBM (gbdt)\"] = lgbm_trainer.fit_predict(X, y, X_test, X_original, y_original, fit_args)"
   ]
  },
  {
   "cell_type": "markdown",
   "id": "97dab88e",
   "metadata": {
    "papermill": {
     "duration": 0.006054,
     "end_time": "2025-06-22T12:35:10.418461",
     "exception": false,
     "start_time": "2025-06-22T12:35:10.412407",
     "status": "completed"
    },
    "tags": []
   },
   "source": [
    "LightGBM (goss)"
   ]
  },
  {
   "cell_type": "code",
   "execution_count": 13,
   "id": "56be11cf",
   "metadata": {
    "execution": {
     "iopub.execute_input": "2025-06-22T12:35:10.431269Z",
     "iopub.status.busy": "2025-06-22T12:35:10.431024Z",
     "iopub.status.idle": "2025-06-22T18:29:13.255950Z",
     "shell.execute_reply": "2025-06-22T18:29:13.254965Z"
    },
    "papermill": {
     "duration": 21242.833004,
     "end_time": "2025-06-22T18:29:13.257372",
     "exception": false,
     "start_time": "2025-06-22T12:35:10.424368",
     "status": "completed"
    },
    "tags": []
   },
   "outputs": [
    {
     "name": "stdout",
     "output_type": "stream",
     "text": [
      "Training LGBMClassifier\n",
      "\n",
      "Training until validation scores don't improve for 100 rounds\n",
      "[1000]\tvalid_0's multi_logloss: 1.90751\n",
      "[2000]\tvalid_0's multi_logloss: 1.8965\n",
      "[3000]\tvalid_0's multi_logloss: 1.8922\n",
      "Early stopping, best iteration is:\n",
      "[3700]\tvalid_0's multi_logloss: 1.89154\n",
      "\n",
      "--- Fold 1 - MAP@3: 0.364424\n",
      "\n",
      "\n",
      "Training until validation scores don't improve for 100 rounds\n",
      "[1000]\tvalid_0's multi_logloss: 1.90778\n",
      "[2000]\tvalid_0's multi_logloss: 1.89652\n",
      "[3000]\tvalid_0's multi_logloss: 1.892\n",
      "Early stopping, best iteration is:\n",
      "[3490]\tvalid_0's multi_logloss: 1.89114\n",
      "\n",
      "--- Fold 2 - MAP@3: 0.364682\n",
      "\n",
      "\n",
      "Training until validation scores don't improve for 100 rounds\n",
      "[1000]\tvalid_0's multi_logloss: 1.90673\n",
      "[2000]\tvalid_0's multi_logloss: 1.89513\n",
      "[3000]\tvalid_0's multi_logloss: 1.89031\n",
      "Early stopping, best iteration is:\n",
      "[3696]\tvalid_0's multi_logloss: 1.88911\n",
      "\n",
      "--- Fold 3 - MAP@3: 0.366162\n",
      "\n",
      "\n",
      "Training until validation scores don't improve for 100 rounds\n",
      "[1000]\tvalid_0's multi_logloss: 1.90796\n",
      "[2000]\tvalid_0's multi_logloss: 1.8968\n",
      "[3000]\tvalid_0's multi_logloss: 1.89254\n",
      "Early stopping, best iteration is:\n",
      "[3680]\tvalid_0's multi_logloss: 1.8917\n",
      "\n",
      "--- Fold 4 - MAP@3: 0.364457\n",
      "\n",
      "\n",
      "Training until validation scores don't improve for 100 rounds\n",
      "[1000]\tvalid_0's multi_logloss: 1.90687\n",
      "[2000]\tvalid_0's multi_logloss: 1.89558\n",
      "[3000]\tvalid_0's multi_logloss: 1.8911\n",
      "Early stopping, best iteration is:\n",
      "[3785]\tvalid_0's multi_logloss: 1.89038\n",
      "\n",
      "--- Fold 5 - MAP@3: 0.365169\n",
      "\n",
      "\n",
      "\n",
      "------ Overall MAP@3: 0.364979 | Average MAP@3: 0.364979 ± 0.000649\n"
     ]
    }
   ],
   "source": [
    "lgb_goss_model = LGBMClassifier(**lgbm_goss_params)\n",
    "lgb_goss_trainer = Trainer(lgb_goss_model)\n",
    "\n",
    "fit_args = {\n",
    "    \"callbacks\": [\n",
    "        log_evaluation(period=1000), \n",
    "        early_stopping(stopping_rounds=100)\n",
    "    ]\n",
    "}\n",
    "\n",
    "oof_pred_probs[\"LightGBM (goss)\"], test_pred_probs[\"LightGBM (goss)\"], scores[\"LightGBM (goss)\"] = lgb_goss_trainer.fit_predict(X, y, X_test, X_original, y_original, fit_args)"
   ]
  },
  {
   "cell_type": "markdown",
   "id": "e76cd5d2",
   "metadata": {
    "papermill": {
     "duration": 0.007128,
     "end_time": "2025-06-22T18:29:13.272294",
     "exception": false,
     "start_time": "2025-06-22T18:29:13.265166",
     "status": "completed"
    },
    "tags": []
   },
   "source": [
    "XGBoost"
   ]
  },
  {
   "cell_type": "code",
   "execution_count": 14,
   "id": "cda8eca7",
   "metadata": {
    "execution": {
     "iopub.execute_input": "2025-06-22T18:29:13.287828Z",
     "iopub.status.busy": "2025-06-22T18:29:13.287616Z",
     "iopub.status.idle": "2025-06-22T18:50:39.807434Z",
     "shell.execute_reply": "2025-06-22T18:50:39.806392Z"
    },
    "papermill": {
     "duration": 1286.529526,
     "end_time": "2025-06-22T18:50:39.809097",
     "exception": false,
     "start_time": "2025-06-22T18:29:13.279571",
     "status": "completed"
    },
    "tags": []
   },
   "outputs": [
    {
     "name": "stdout",
     "output_type": "stream",
     "text": [
      "Training XGBClassifier\n",
      "\n",
      "[0]\tvalidation_0-mlogloss:1.94553\n",
      "[912]\tvalidation_0-mlogloss:1.88990\n",
      "\n",
      "--- Fold 1 - MAP@3: 0.366436\n",
      "\n",
      "\n",
      "[0]\tvalidation_0-mlogloss:1.94553\n",
      "[895]\tvalidation_0-mlogloss:1.88909\n",
      "\n",
      "--- Fold 2 - MAP@3: 0.366754\n",
      "\n",
      "\n",
      "[0]\tvalidation_0-mlogloss:1.94553\n",
      "[946]\tvalidation_0-mlogloss:1.88769\n",
      "\n",
      "--- Fold 3 - MAP@3: 0.368023\n",
      "\n",
      "\n",
      "[0]\tvalidation_0-mlogloss:1.94553\n",
      "[871]\tvalidation_0-mlogloss:1.89012\n",
      "\n",
      "--- Fold 4 - MAP@3: 0.365927\n",
      "\n",
      "\n",
      "[0]\tvalidation_0-mlogloss:1.94552\n",
      "[883]\tvalidation_0-mlogloss:1.88864\n",
      "\n",
      "--- Fold 5 - MAP@3: 0.366706\n",
      "\n",
      "\n",
      "\n",
      "------ Overall MAP@3: 0.366769 | Average MAP@3: 0.366769 ± 0.000693\n"
     ]
    }
   ],
   "source": [
    "xgb_model = XGBClassifier(**xgb_params)\n",
    "xgb_trainer = Trainer(xgb_model)\n",
    "\n",
    "fit_args = {\n",
    "    \"verbose\": 1000\n",
    "}\n",
    "\n",
    "oof_pred_probs[\"XGBoost\"], test_pred_probs[\"XGBoost\"], scores[\"XGBoost\"] = xgb_trainer.fit_predict(X, y, X_test, X_original, y_original, fit_args)"
   ]
  },
  {
   "cell_type": "markdown",
   "id": "f96daa71",
   "metadata": {
    "papermill": {
     "duration": 0.009705,
     "end_time": "2025-06-22T18:50:39.829577",
     "exception": false,
     "start_time": "2025-06-22T18:50:39.819872",
     "status": "completed"
    },
    "tags": []
   },
   "source": [
    "LogisticRegression"
   ]
  },
  {
   "cell_type": "code",
   "execution_count": 15,
   "id": "255f6868",
   "metadata": {
    "execution": {
     "iopub.execute_input": "2025-06-22T18:50:39.850181Z",
     "iopub.status.busy": "2025-06-22T18:50:39.849343Z",
     "iopub.status.idle": "2025-06-22T19:02:32.393491Z",
     "shell.execute_reply": "2025-06-22T19:02:32.392630Z"
    },
    "papermill": {
     "duration": 712.556208,
     "end_time": "2025-06-22T19:02:32.395063",
     "exception": false,
     "start_time": "2025-06-22T18:50:39.838855",
     "status": "completed"
    },
    "tags": []
   },
   "outputs": [
    {
     "name": "stderr",
     "output_type": "stream",
     "text": [
      "100%|██████████| 56/56 [11:34<00:00, 12.41s/it]\n"
     ]
    }
   ],
   "source": [
    "\n",
    "from itertools import combinations\n",
    "from sklearn.preprocessing import LabelEncoder\n",
    "from sklearn.metrics import mutual_info_score\n",
    "from sklearn.utils.parallel import Parallel, delayed\n",
    "from tqdm import tqdm\n",
    "from sklearn.preprocessing import OneHotEncoder\n",
    "from sklearn.pipeline import make_pipeline\n",
    "from sklearn.linear_model import LogisticRegression\n",
    "from sklearn.base import BaseEstimator, ClassifierMixin, clone\n",
    "\n",
    "X = pd.read_csv(CFG.train_path, index_col='id')\n",
    "X_test = pd.read_csv(CFG.test_path, index_col='id')\n",
    "\n",
    "le = LabelEncoder()\n",
    "y = X.pop('Fertilizer Name')\n",
    "y = le.fit_transform(y)\n",
    "\n",
    "X = X.astype(str)\n",
    "X_test = X_test.astype(str)\n",
    "\n",
    "def adjusted_mutual_info(x, y, n_iter=5):\n",
    "    x, y = x.astype(str), y.astype(str)\n",
    "    m0 = mutual_info_score(x, y)\n",
    "    m1 = Parallel(n_jobs=-1)(\n",
    "        delayed(lambda rs: mutual_info_score(\n",
    "            y, np.random.default_rng(rs).permutation(x)\n",
    "        ))(rs)\n",
    "        for rs in range(n_iter)\n",
    "    )\n",
    "    return m0 - np.mean(m1)\n",
    "\n",
    "mi = {}\n",
    "e =  mutual_info_score(y, y)\n",
    "for c1, c2, c3 in tqdm(list(combinations(list(X.columns), 3))):\n",
    "    c = c1+'_'+c2+'_'+c3\n",
    "    mi[c] = adjusted_mutual_info(X[c1]+'_'+X[c2]+'_'+X[c3], y)/e\n",
    "\n",
    "comb3 = sorted(mi, key=mi.get, reverse=True)\n",
    "\n",
    "def Augmented(model, X_o, y_o, weight_arg='sample_weight', weight=1.0):\n",
    "    class AugmentedModel(ClassifierMixin, BaseEstimator):\n",
    "        def fit(self, X, y):\n",
    "            sample_weight = np.array([1.0]*len(X)+[weight]*len(X_o))\n",
    "            X = pd.concat([X, X_o])\n",
    "            y = np.concatenate([y, y_o])\n",
    "            self.m = clone(model).fit(X, y, **{weight_arg: sample_weight})\n",
    "            self.classes_ = self.m.classes_\n",
    "            return self\n",
    "        def predict_proba(self, X):\n",
    "            return self.m.predict_proba(X)\n",
    "    return AugmentedModel()\n",
    "\n",
    "X_o = pd.read_csv(CFG.original_path)\n",
    "y_o = le.transform(X_o.pop('Fertilizer Name'))\n",
    "\n",
    "X_all = pd.concat([X, X_o]).astype(str)\n",
    "\n",
    "X_all_e = X_all.copy()\n",
    "X_test_e = X_test.copy()\n",
    "for c1, c2 in combinations(X_all.columns, 2):\n",
    "    X_all_e[c1+'_'+c2] = X_all[c1]+'_'+X_all[c2]\n",
    "    X_test_e[c1+'_'+c2] = X_test[c1]+'_'+X_test[c2]\n",
    "\n",
    "topk = 25\n",
    "for c1_c2_c3 in comb3[:topk]:\n",
    "    c1, c2, c3 = c1_c2_c3.split('_')\n",
    "    X_all_e[c1_c2_c3] = X_all[c1]+'_'+X_all[c2]+'_'+X_all[c3]\n",
    "    X_test_e[c1_c2_c3] = X_test[c1]+'_'+X_test[c2]+'_'+X_test[c3]\n",
    "\n",
    "X_e = X_all_e.iloc[:len(X)]\n",
    "X_o_e = X_all_e.iloc[len(X):]"
   ]
  },
  {
   "cell_type": "code",
   "execution_count": 16,
   "id": "9b8391bf",
   "metadata": {
    "execution": {
     "iopub.execute_input": "2025-06-22T19:02:32.417310Z",
     "iopub.status.busy": "2025-06-22T19:02:32.417025Z",
     "iopub.status.idle": "2025-06-22T19:23:37.444610Z",
     "shell.execute_reply": "2025-06-22T19:23:37.443467Z"
    },
    "papermill": {
     "duration": 1265.040132,
     "end_time": "2025-06-22T19:23:37.446135",
     "exception": false,
     "start_time": "2025-06-22T19:02:32.406003",
     "status": "completed"
    },
    "tags": []
   },
   "outputs": [
    {
     "name": "stdout",
     "output_type": "stream",
     "text": [
      "Training AugmentedModel\n",
      "\n",
      "--- Fold 1 - MAP@3: 0.374382\n",
      "--- Fold 2 - MAP@3: 0.373953\n",
      "--- Fold 3 - MAP@3: 0.376254\n",
      "--- Fold 4 - MAP@3: 0.373357\n",
      "--- Fold 5 - MAP@3: 0.375070\n",
      "\n",
      "------ Overall MAP@3: 0.374603 | Average MAP@3: 0.374603 ± 0.000997\n"
     ]
    }
   ],
   "source": [
    "lr_model = Augmented(\n",
    "    make_pipeline(\n",
    "        OneHotEncoder(handle_unknown='ignore'),\n",
    "        LogisticRegression(C=1e-2, max_iter=10000, random_state=0)\n",
    "    ), X_o_e, y_o, weight_arg='logisticregression__sample_weight', \n",
    "    weight=4.0\n",
    ")\n",
    "\n",
    "lr_trainer = Trainer(lr_model)\n",
    "oof_pred_probs[\"LogisticRegression\"], test_pred_probs[\"LogisticRegression\"], scores[\"LogisticRegression\"] = lr_trainer.fit_predict(X_e, y, X_test_e)"
   ]
  },
  {
   "cell_type": "markdown",
   "id": "761576ea",
   "metadata": {
    "papermill": {
     "duration": 0.010424,
     "end_time": "2025-06-22T19:23:37.468355",
     "exception": false,
     "start_time": "2025-06-22T19:23:37.457931",
     "status": "completed"
    },
    "tags": []
   },
   "source": [
    "Ensembling with LogisticRegression"
   ]
  },
  {
   "cell_type": "code",
   "execution_count": 17,
   "id": "cbafce4e",
   "metadata": {
    "execution": {
     "iopub.execute_input": "2025-06-22T19:23:37.489634Z",
     "iopub.status.busy": "2025-06-22T19:23:37.489408Z",
     "iopub.status.idle": "2025-06-22T19:23:37.659987Z",
     "shell.execute_reply": "2025-06-22T19:23:37.659419Z"
    },
    "papermill": {
     "duration": 0.182807,
     "end_time": "2025-06-22T19:23:37.661346",
     "exception": false,
     "start_time": "2025-06-22T19:23:37.478539",
     "status": "completed"
    },
    "tags": []
   },
   "outputs": [],
   "source": [
    "X = pd.DataFrame(np.concatenate(list(oof_pred_probs.values()), axis=1))\n",
    "X_test = pd.DataFrame(np.concatenate(list(test_pred_probs.values()), axis=1))"
   ]
  },
  {
   "cell_type": "code",
   "execution_count": 18,
   "id": "ab3b3228",
   "metadata": {
    "execution": {
     "iopub.execute_input": "2025-06-22T19:23:37.684302Z",
     "iopub.status.busy": "2025-06-22T19:23:37.684005Z",
     "iopub.status.idle": "2025-06-22T19:23:37.897115Z",
     "shell.execute_reply": "2025-06-22T19:23:37.896449Z"
    },
    "papermill": {
     "duration": 0.225634,
     "end_time": "2025-06-22T19:23:37.898219",
     "exception": false,
     "start_time": "2025-06-22T19:23:37.672585",
     "status": "completed"
    },
    "tags": []
   },
   "outputs": [
    {
     "data": {
      "text/plain": [
       "['test_pred_probs.pkl']"
      ]
     },
     "execution_count": 18,
     "metadata": {},
     "output_type": "execute_result"
    }
   ],
   "source": [
    "joblib.dump(X, \"oof_pred_probs.pkl\")\n",
    "joblib.dump(X_test, \"test_pred_probs.pkl\")"
   ]
  },
  {
   "cell_type": "code",
   "execution_count": 19,
   "id": "18eb8195",
   "metadata": {
    "execution": {
     "iopub.execute_input": "2025-06-22T19:23:37.920087Z",
     "iopub.status.busy": "2025-06-22T19:23:37.919843Z",
     "iopub.status.idle": "2025-06-22T19:25:45.813308Z",
     "shell.execute_reply": "2025-06-22T19:25:45.812453Z"
    },
    "papermill": {
     "duration": 127.905432,
     "end_time": "2025-06-22T19:25:45.814435",
     "exception": false,
     "start_time": "2025-06-22T19:23:37.909003",
     "status": "completed"
    },
    "tags": []
   },
   "outputs": [
    {
     "name": "stdout",
     "output_type": "stream",
     "text": [
      "Training LogisticRegression\n",
      "\n",
      "--- Fold 1 - MAP@3: 0.375827\n",
      "--- Fold 2 - MAP@3: 0.375341\n",
      "--- Fold 3 - MAP@3: 0.377570\n",
      "--- Fold 4 - MAP@3: 0.374616\n",
      "--- Fold 5 - MAP@3: 0.375921\n",
      "\n",
      "------ Overall MAP@3: 0.375855 | Average MAP@3: 0.375855 ± 0.000974\n"
     ]
    }
   ],
   "source": [
    "lr_model = LogisticRegression(\n",
    "    random_state=42, \n",
    "    max_iter=1000, \n",
    "    solver='liblinear', \n",
    "    penalty='l2', \n",
    "    C=32.89802104596641,\n",
    "    tol=0.0029878837974181643,\n",
    "    fit_intercept=True\n",
    ") \n",
    "lr_trainer = Trainer(lr_model)\n",
    "_, lr_test_pred_probs, scores[\"Ensemble\"] = lr_trainer.fit_predict(X, y, X_test)"
   ]
  },
  {
   "cell_type": "code",
   "execution_count": 20,
   "id": "b0678c4a",
   "metadata": {
    "execution": {
     "iopub.execute_input": "2025-06-22T19:25:45.837011Z",
     "iopub.status.busy": "2025-06-22T19:25:45.836754Z",
     "iopub.status.idle": "2025-06-22T19:25:45.840317Z",
     "shell.execute_reply": "2025-06-22T19:25:45.839642Z"
    },
    "papermill": {
     "duration": 0.015678,
     "end_time": "2025-06-22T19:25:45.841364",
     "exception": false,
     "start_time": "2025-06-22T19:25:45.825686",
     "status": "completed"
    },
    "tags": []
   },
   "outputs": [],
   "source": [
    "final_predictions = []"
   ]
  },
  {
   "cell_type": "code",
   "execution_count": 21,
   "id": "49d4e601",
   "metadata": {
    "execution": {
     "iopub.execute_input": "2025-06-22T19:25:45.863542Z",
     "iopub.status.busy": "2025-06-22T19:25:45.863297Z",
     "iopub.status.idle": "2025-06-22T19:26:09.877874Z",
     "shell.execute_reply": "2025-06-22T19:26:09.876885Z"
    },
    "papermill": {
     "duration": 24.02728,
     "end_time": "2025-06-22T19:26:09.879523",
     "exception": false,
     "start_time": "2025-06-22T19:25:45.852243",
     "status": "completed"
    },
    "tags": []
   },
   "outputs": [],
   "source": [
    "final_predictions = []\n",
    "for i in np.argsort(lr_test_pred_probs)[:, -3:][:, ::-1]:\n",
    "    prediction = label_encoder.inverse_transform(i)\n",
    "    final_predictions.append(\" \".join(prediction))"
   ]
  },
  {
   "cell_type": "code",
   "execution_count": 22,
   "id": "51aeb20e",
   "metadata": {
    "execution": {
     "iopub.execute_input": "2025-06-22T19:26:09.905541Z",
     "iopub.status.busy": "2025-06-22T19:26:09.905292Z",
     "iopub.status.idle": "2025-06-22T19:26:10.442852Z",
     "shell.execute_reply": "2025-06-22T19:26:10.442158Z"
    },
    "papermill": {
     "duration": 0.551829,
     "end_time": "2025-06-22T19:26:10.444038",
     "exception": false,
     "start_time": "2025-06-22T19:26:09.892209",
     "status": "completed"
    },
    "tags": []
   },
   "outputs": [
    {
     "data": {
      "text/html": [
       "<div>\n",
       "<style scoped>\n",
       "    .dataframe tbody tr th:only-of-type {\n",
       "        vertical-align: middle;\n",
       "    }\n",
       "\n",
       "    .dataframe tbody tr th {\n",
       "        vertical-align: top;\n",
       "    }\n",
       "\n",
       "    .dataframe thead th {\n",
       "        text-align: right;\n",
       "    }\n",
       "</style>\n",
       "<table border=\"1\" class=\"dataframe\">\n",
       "  <thead>\n",
       "    <tr style=\"text-align: right;\">\n",
       "      <th></th>\n",
       "      <th>id</th>\n",
       "      <th>Fertilizer Name</th>\n",
       "    </tr>\n",
       "  </thead>\n",
       "  <tbody>\n",
       "    <tr>\n",
       "      <th>0</th>\n",
       "      <td>750000</td>\n",
       "      <td>10-26-26 20-20 DAP</td>\n",
       "    </tr>\n",
       "    <tr>\n",
       "      <th>1</th>\n",
       "      <td>750001</td>\n",
       "      <td>17-17-17 28-28 10-26-26</td>\n",
       "    </tr>\n",
       "    <tr>\n",
       "      <th>2</th>\n",
       "      <td>750002</td>\n",
       "      <td>20-20 Urea DAP</td>\n",
       "    </tr>\n",
       "    <tr>\n",
       "      <th>3</th>\n",
       "      <td>750003</td>\n",
       "      <td>14-35-14 17-17-17 10-26-26</td>\n",
       "    </tr>\n",
       "    <tr>\n",
       "      <th>4</th>\n",
       "      <td>750004</td>\n",
       "      <td>Urea 20-20 28-28</td>\n",
       "    </tr>\n",
       "  </tbody>\n",
       "</table>\n",
       "</div>"
      ],
      "text/plain": [
       "       id             Fertilizer Name\n",
       "0  750000          10-26-26 20-20 DAP\n",
       "1  750001     17-17-17 28-28 10-26-26\n",
       "2  750002              20-20 Urea DAP\n",
       "3  750003  14-35-14 17-17-17 10-26-26\n",
       "4  750004            Urea 20-20 28-28"
      ]
     },
     "execution_count": 22,
     "metadata": {},
     "output_type": "execute_result"
    }
   ],
   "source": [
    "sub = pd.read_csv(CFG.sample_sub_path)\n",
    "sub[CFG.target] = final_predictions\n",
    "sub.to_csv(f\"sub_logistic-regression_{np.mean(scores['Ensemble']):.6f}.csv\", index=False)\n",
    "sub.head()"
   ]
  }
 ],
 "metadata": {
  "kaggle": {
   "accelerator": "nvidiaTeslaT4",
   "dataSources": [
    {
     "databundleVersionId": 12184666,
     "sourceId": 91717,
     "sourceType": "competition"
    },
    {
     "datasetId": 7712787,
     "sourceId": 12240802,
     "sourceType": "datasetVersion"
    }
   ],
   "dockerImageVersionId": 31041,
   "isGpuEnabled": true,
   "isInternetEnabled": true,
   "language": "python",
   "sourceType": "notebook"
  },
  "kernelspec": {
   "display_name": "Python 3",
   "language": "python",
   "name": "python3"
  },
  "language_info": {
   "codemirror_mode": {
    "name": "ipython",
    "version": 3
   },
   "file_extension": ".py",
   "mimetype": "text/x-python",
   "name": "python",
   "nbconvert_exporter": "python",
   "pygments_lexer": "ipython3",
   "version": "3.11.11"
  },
  "papermill": {
   "default_parameters": {},
   "duration": 34410.628629,
   "end_time": "2025-06-22T19:26:13.716898",
   "environment_variables": {},
   "exception": null,
   "input_path": "__notebook__.ipynb",
   "output_path": "__notebook__.ipynb",
   "parameters": {},
   "start_time": "2025-06-22T09:52:43.088269",
   "version": "2.6.0"
  }
 },
 "nbformat": 4,
 "nbformat_minor": 5
}
