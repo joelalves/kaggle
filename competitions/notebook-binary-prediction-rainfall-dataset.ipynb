{
 "cells": [
  {
   "cell_type": "code",
   "execution_count": 1,
   "id": "e18f1ebe",
   "metadata": {
    "_cell_guid": "b1076dfc-b9ad-4769-8c92-a6c4dae69d19",
    "_uuid": "8f2839f25d086af736a60e9eeb907d3b93b6e0e5",
    "execution": {
     "iopub.execute_input": "2025-06-26T13:53:51.134355Z",
     "iopub.status.busy": "2025-06-26T13:53:51.133914Z",
     "iopub.status.idle": "2025-06-26T13:53:53.087023Z",
     "shell.execute_reply": "2025-06-26T13:53:53.085956Z"
    },
    "papermill": {
     "duration": 1.959282,
     "end_time": "2025-06-26T13:53:53.088768",
     "exception": false,
     "start_time": "2025-06-26T13:53:51.129486",
     "status": "completed"
    },
    "tags": []
   },
   "outputs": [
    {
     "name": "stdout",
     "output_type": "stream",
     "text": [
      "/kaggle/input/lb-195/submission.csv\n",
      "/kaggle/input/playground-series-s5e3/sample_submission.csv\n",
      "/kaggle/input/playground-series-s5e3/train.csv\n",
      "/kaggle/input/playground-series-s5e3/test.csv\n",
      "/kaggle/input/rainfall-prediction-using-machine-learning/Rainfall.csv\n"
     ]
    }
   ],
   "source": [
    "# This Python 3 environment comes with many helpful analytics libraries installed\n",
    "# It is defined by the kaggle/python Docker image: https://github.com/kaggle/docker-python\n",
    "# For example, here's several helpful packages to load\n",
    "\n",
    "import numpy as np # linear algebra\n",
    "import pandas as pd # data processing, CSV file I/O (e.g. pd.read_csv)\n",
    "\n",
    "# Input data files are available in the read-only \"../input/\" directory\n",
    "# For example, running this (by clicking run or pressing Shift+Enter) will list all files under the input directory\n",
    "\n",
    "import os\n",
    "for dirname, _, filenames in os.walk('/kaggle/input'):\n",
    "    for filename in filenames:\n",
    "        print(os.path.join(dirname, filename))\n",
    "\n",
    "# You can write up to 20GB to the current directory (/kaggle/working/) that gets preserved as output when you create a version using \"Save & Run All\" \n",
    "# You can also write temporary files to /kaggle/temp/, but they won't be saved outside of the current session"
   ]
  },
  {
   "cell_type": "code",
   "execution_count": 2,
   "id": "3b0deacd",
   "metadata": {
    "execution": {
     "iopub.execute_input": "2025-06-26T13:53:53.096309Z",
     "iopub.status.busy": "2025-06-26T13:53:53.095835Z",
     "iopub.status.idle": "2025-06-26T13:53:53.150357Z",
     "shell.execute_reply": "2025-06-26T13:53:53.149442Z"
    },
    "papermill": {
     "duration": 0.059821,
     "end_time": "2025-06-26T13:53:53.151931",
     "exception": false,
     "start_time": "2025-06-26T13:53:53.092110",
     "status": "completed"
    },
    "tags": []
   },
   "outputs": [
    {
     "name": "stdout",
     "output_type": "stream",
     "text": [
      "Train shape (2190, 13)\n"
     ]
    },
    {
     "data": {
      "text/html": [
       "<div>\n",
       "<style scoped>\n",
       "    .dataframe tbody tr th:only-of-type {\n",
       "        vertical-align: middle;\n",
       "    }\n",
       "\n",
       "    .dataframe tbody tr th {\n",
       "        vertical-align: top;\n",
       "    }\n",
       "\n",
       "    .dataframe thead th {\n",
       "        text-align: right;\n",
       "    }\n",
       "</style>\n",
       "<table border=\"1\" class=\"dataframe\">\n",
       "  <thead>\n",
       "    <tr style=\"text-align: right;\">\n",
       "      <th></th>\n",
       "      <th>id</th>\n",
       "      <th>day</th>\n",
       "      <th>pressure</th>\n",
       "      <th>maxtemp</th>\n",
       "      <th>temparature</th>\n",
       "      <th>mintemp</th>\n",
       "      <th>dewpoint</th>\n",
       "      <th>humidity</th>\n",
       "      <th>cloud</th>\n",
       "      <th>sunshine</th>\n",
       "      <th>winddirection</th>\n",
       "      <th>windspeed</th>\n",
       "      <th>rainfall</th>\n",
       "    </tr>\n",
       "  </thead>\n",
       "  <tbody>\n",
       "    <tr>\n",
       "      <th>0</th>\n",
       "      <td>0</td>\n",
       "      <td>1</td>\n",
       "      <td>1017.4</td>\n",
       "      <td>21.2</td>\n",
       "      <td>20.6</td>\n",
       "      <td>19.9</td>\n",
       "      <td>19.4</td>\n",
       "      <td>87.0</td>\n",
       "      <td>88.0</td>\n",
       "      <td>1.1</td>\n",
       "      <td>60.0</td>\n",
       "      <td>17.2</td>\n",
       "      <td>1</td>\n",
       "    </tr>\n",
       "    <tr>\n",
       "      <th>1</th>\n",
       "      <td>1</td>\n",
       "      <td>2</td>\n",
       "      <td>1019.5</td>\n",
       "      <td>16.2</td>\n",
       "      <td>16.9</td>\n",
       "      <td>15.8</td>\n",
       "      <td>15.4</td>\n",
       "      <td>95.0</td>\n",
       "      <td>91.0</td>\n",
       "      <td>0.0</td>\n",
       "      <td>50.0</td>\n",
       "      <td>21.9</td>\n",
       "      <td>1</td>\n",
       "    </tr>\n",
       "    <tr>\n",
       "      <th>2</th>\n",
       "      <td>2</td>\n",
       "      <td>3</td>\n",
       "      <td>1024.1</td>\n",
       "      <td>19.4</td>\n",
       "      <td>16.1</td>\n",
       "      <td>14.6</td>\n",
       "      <td>9.3</td>\n",
       "      <td>75.0</td>\n",
       "      <td>47.0</td>\n",
       "      <td>8.3</td>\n",
       "      <td>70.0</td>\n",
       "      <td>18.1</td>\n",
       "      <td>1</td>\n",
       "    </tr>\n",
       "    <tr>\n",
       "      <th>3</th>\n",
       "      <td>3</td>\n",
       "      <td>4</td>\n",
       "      <td>1013.4</td>\n",
       "      <td>18.1</td>\n",
       "      <td>17.8</td>\n",
       "      <td>16.9</td>\n",
       "      <td>16.8</td>\n",
       "      <td>95.0</td>\n",
       "      <td>95.0</td>\n",
       "      <td>0.0</td>\n",
       "      <td>60.0</td>\n",
       "      <td>35.6</td>\n",
       "      <td>1</td>\n",
       "    </tr>\n",
       "    <tr>\n",
       "      <th>4</th>\n",
       "      <td>4</td>\n",
       "      <td>5</td>\n",
       "      <td>1021.8</td>\n",
       "      <td>21.3</td>\n",
       "      <td>18.4</td>\n",
       "      <td>15.2</td>\n",
       "      <td>9.6</td>\n",
       "      <td>52.0</td>\n",
       "      <td>45.0</td>\n",
       "      <td>3.6</td>\n",
       "      <td>40.0</td>\n",
       "      <td>24.8</td>\n",
       "      <td>0</td>\n",
       "    </tr>\n",
       "  </tbody>\n",
       "</table>\n",
       "</div>"
      ],
      "text/plain": [
       "   id  day  pressure  maxtemp  temparature  mintemp  dewpoint  humidity  \\\n",
       "0   0    1    1017.4     21.2         20.6     19.9      19.4      87.0   \n",
       "1   1    2    1019.5     16.2         16.9     15.8      15.4      95.0   \n",
       "2   2    3    1024.1     19.4         16.1     14.6       9.3      75.0   \n",
       "3   3    4    1013.4     18.1         17.8     16.9      16.8      95.0   \n",
       "4   4    5    1021.8     21.3         18.4     15.2       9.6      52.0   \n",
       "\n",
       "   cloud  sunshine  winddirection  windspeed  rainfall  \n",
       "0   88.0       1.1           60.0       17.2         1  \n",
       "1   91.0       0.0           50.0       21.9         1  \n",
       "2   47.0       8.3           70.0       18.1         1  \n",
       "3   95.0       0.0           60.0       35.6         1  \n",
       "4   45.0       3.6           40.0       24.8         0  "
      ]
     },
     "execution_count": 2,
     "metadata": {},
     "output_type": "execute_result"
    }
   ],
   "source": [
    "train = pd.read_csv(\"/kaggle/input/playground-series-s5e3/train.csv\")\n",
    "print(\"Train shape\", train.shape )\n",
    "train.head()"
   ]
  },
  {
   "cell_type": "code",
   "execution_count": 3,
   "id": "4cd80f29",
   "metadata": {
    "execution": {
     "iopub.execute_input": "2025-06-26T13:53:53.159310Z",
     "iopub.status.busy": "2025-06-26T13:53:53.158988Z",
     "iopub.status.idle": "2025-06-26T13:53:53.180835Z",
     "shell.execute_reply": "2025-06-26T13:53:53.179962Z"
    },
    "papermill": {
     "duration": 0.027395,
     "end_time": "2025-06-26T13:53:53.182325",
     "exception": false,
     "start_time": "2025-06-26T13:53:53.154930",
     "status": "completed"
    },
    "tags": []
   },
   "outputs": [
    {
     "name": "stdout",
     "output_type": "stream",
     "text": [
      "Test shape: (730, 12)\n"
     ]
    },
    {
     "data": {
      "text/html": [
       "<div>\n",
       "<style scoped>\n",
       "    .dataframe tbody tr th:only-of-type {\n",
       "        vertical-align: middle;\n",
       "    }\n",
       "\n",
       "    .dataframe tbody tr th {\n",
       "        vertical-align: top;\n",
       "    }\n",
       "\n",
       "    .dataframe thead th {\n",
       "        text-align: right;\n",
       "    }\n",
       "</style>\n",
       "<table border=\"1\" class=\"dataframe\">\n",
       "  <thead>\n",
       "    <tr style=\"text-align: right;\">\n",
       "      <th></th>\n",
       "      <th>id</th>\n",
       "      <th>day</th>\n",
       "      <th>pressure</th>\n",
       "      <th>maxtemp</th>\n",
       "      <th>temparature</th>\n",
       "      <th>mintemp</th>\n",
       "      <th>dewpoint</th>\n",
       "      <th>humidity</th>\n",
       "      <th>cloud</th>\n",
       "      <th>sunshine</th>\n",
       "      <th>winddirection</th>\n",
       "      <th>windspeed</th>\n",
       "    </tr>\n",
       "  </thead>\n",
       "  <tbody>\n",
       "    <tr>\n",
       "      <th>0</th>\n",
       "      <td>2190</td>\n",
       "      <td>1</td>\n",
       "      <td>1019.5</td>\n",
       "      <td>17.5</td>\n",
       "      <td>15.8</td>\n",
       "      <td>12.7</td>\n",
       "      <td>14.9</td>\n",
       "      <td>96.0</td>\n",
       "      <td>99.0</td>\n",
       "      <td>0.0</td>\n",
       "      <td>50.0</td>\n",
       "      <td>24.3</td>\n",
       "    </tr>\n",
       "    <tr>\n",
       "      <th>1</th>\n",
       "      <td>2191</td>\n",
       "      <td>2</td>\n",
       "      <td>1016.5</td>\n",
       "      <td>17.5</td>\n",
       "      <td>16.5</td>\n",
       "      <td>15.8</td>\n",
       "      <td>15.1</td>\n",
       "      <td>97.0</td>\n",
       "      <td>99.0</td>\n",
       "      <td>0.0</td>\n",
       "      <td>50.0</td>\n",
       "      <td>35.3</td>\n",
       "    </tr>\n",
       "    <tr>\n",
       "      <th>2</th>\n",
       "      <td>2192</td>\n",
       "      <td>3</td>\n",
       "      <td>1023.9</td>\n",
       "      <td>11.2</td>\n",
       "      <td>10.4</td>\n",
       "      <td>9.4</td>\n",
       "      <td>8.9</td>\n",
       "      <td>86.0</td>\n",
       "      <td>96.0</td>\n",
       "      <td>0.0</td>\n",
       "      <td>40.0</td>\n",
       "      <td>16.9</td>\n",
       "    </tr>\n",
       "    <tr>\n",
       "      <th>3</th>\n",
       "      <td>2193</td>\n",
       "      <td>4</td>\n",
       "      <td>1022.9</td>\n",
       "      <td>20.6</td>\n",
       "      <td>17.3</td>\n",
       "      <td>15.2</td>\n",
       "      <td>9.5</td>\n",
       "      <td>75.0</td>\n",
       "      <td>45.0</td>\n",
       "      <td>7.1</td>\n",
       "      <td>20.0</td>\n",
       "      <td>50.6</td>\n",
       "    </tr>\n",
       "    <tr>\n",
       "      <th>4</th>\n",
       "      <td>2194</td>\n",
       "      <td>5</td>\n",
       "      <td>1022.2</td>\n",
       "      <td>16.1</td>\n",
       "      <td>13.8</td>\n",
       "      <td>6.4</td>\n",
       "      <td>4.3</td>\n",
       "      <td>68.0</td>\n",
       "      <td>49.0</td>\n",
       "      <td>9.2</td>\n",
       "      <td>20.0</td>\n",
       "      <td>19.4</td>\n",
       "    </tr>\n",
       "  </tbody>\n",
       "</table>\n",
       "</div>"
      ],
      "text/plain": [
       "     id  day  pressure  maxtemp  temparature  mintemp  dewpoint  humidity  \\\n",
       "0  2190    1    1019.5     17.5         15.8     12.7      14.9      96.0   \n",
       "1  2191    2    1016.5     17.5         16.5     15.8      15.1      97.0   \n",
       "2  2192    3    1023.9     11.2         10.4      9.4       8.9      86.0   \n",
       "3  2193    4    1022.9     20.6         17.3     15.2       9.5      75.0   \n",
       "4  2194    5    1022.2     16.1         13.8      6.4       4.3      68.0   \n",
       "\n",
       "   cloud  sunshine  winddirection  windspeed  \n",
       "0   99.0       0.0           50.0       24.3  \n",
       "1   99.0       0.0           50.0       35.3  \n",
       "2   96.0       0.0           40.0       16.9  \n",
       "3   45.0       7.1           20.0       50.6  \n",
       "4   49.0       9.2           20.0       19.4  "
      ]
     },
     "execution_count": 3,
     "metadata": {},
     "output_type": "execute_result"
    }
   ],
   "source": [
    "test = pd.read_csv(\"/kaggle/input/playground-series-s5e3/test.csv\")\n",
    "print(\"Test shape:\", test.shape )\n",
    "test.head()"
   ]
  },
  {
   "cell_type": "code",
   "execution_count": 4,
   "id": "c175d518",
   "metadata": {
    "execution": {
     "iopub.execute_input": "2025-06-26T13:53:53.190510Z",
     "iopub.status.busy": "2025-06-26T13:53:53.190201Z",
     "iopub.status.idle": "2025-06-26T13:53:53.195737Z",
     "shell.execute_reply": "2025-06-26T13:53:53.194754Z"
    },
    "papermill": {
     "duration": 0.011564,
     "end_time": "2025-06-26T13:53:53.197464",
     "exception": false,
     "start_time": "2025-06-26T13:53:53.185900",
     "status": "completed"
    },
    "tags": []
   },
   "outputs": [
    {
     "name": "stdout",
     "output_type": "stream",
     "text": [
      "Our features are:\n",
      "['day', 'pressure', 'maxtemp', 'temparature', 'mintemp', 'dewpoint', 'humidity', 'cloud', 'sunshine', 'winddirection', 'windspeed']\n"
     ]
    }
   ],
   "source": [
    "RMV = ['rainfall','id']\n",
    "FEATURES = [c for c in train.columns if not c in RMV]\n",
    "print(\"Our features are:\")\n",
    "print( FEATURES )"
   ]
  },
  {
   "cell_type": "code",
   "execution_count": 5,
   "id": "0d66957a",
   "metadata": {
    "execution": {
     "iopub.execute_input": "2025-06-26T13:53:53.205202Z",
     "iopub.status.busy": "2025-06-26T13:53:53.204877Z",
     "iopub.status.idle": "2025-06-26T13:53:55.219307Z",
     "shell.execute_reply": "2025-06-26T13:53:55.217619Z"
    },
    "papermill": {
     "duration": 2.020639,
     "end_time": "2025-06-26T13:53:55.221463",
     "exception": false,
     "start_time": "2025-06-26T13:53:53.200824",
     "status": "completed"
    },
    "tags": []
   },
   "outputs": [
    {
     "name": "stdout",
     "output_type": "stream",
     "text": [
      "Using XGBoost version 2.0.3\n"
     ]
    }
   ],
   "source": [
    "from sklearn.model_selection import KFold\n",
    "from xgboost import XGBRegressor, XGBClassifier\n",
    "import xgboost\n",
    "print(\"Using XGBoost version\",xgboost.__version__)"
   ]
  },
  {
   "cell_type": "code",
   "execution_count": 6,
   "id": "e3986f17",
   "metadata": {
    "execution": {
     "iopub.execute_input": "2025-06-26T13:53:55.230061Z",
     "iopub.status.busy": "2025-06-26T13:53:55.229545Z",
     "iopub.status.idle": "2025-06-26T13:53:56.477302Z",
     "shell.execute_reply": "2025-06-26T13:53:56.475995Z"
    },
    "papermill": {
     "duration": 1.254135,
     "end_time": "2025-06-26T13:53:56.479221",
     "exception": false,
     "start_time": "2025-06-26T13:53:55.225086",
     "status": "completed"
    },
    "tags": []
   },
   "outputs": [
    {
     "name": "stdout",
     "output_type": "stream",
     "text": [
      "#########################\n",
      "### Fold 1\n",
      "#########################\n",
      "[0]\tvalidation_0-auc:0.84830\n",
      "[100]\tvalidation_0-auc:0.86668\n",
      "[149]\tvalidation_0-auc:0.86223\n",
      "#########################\n",
      "### Fold 2\n",
      "#########################\n",
      "[0]\tvalidation_0-auc:0.86713\n",
      "[100]\tvalidation_0-auc:0.87534\n",
      "[124]\tvalidation_0-auc:0.87287\n",
      "#########################\n",
      "### Fold 3\n",
      "#########################\n",
      "[0]\tvalidation_0-auc:0.87075\n",
      "[100]\tvalidation_0-auc:0.90394\n",
      "[164]\tvalidation_0-auc:0.90044\n",
      "#########################\n",
      "### Fold 4\n",
      "#########################\n",
      "[0]\tvalidation_0-auc:0.90608\n",
      "[100]\tvalidation_0-auc:0.91653\n",
      "[115]\tvalidation_0-auc:0.91404\n",
      "#########################\n",
      "### Fold 5\n",
      "#########################\n",
      "[0]\tvalidation_0-auc:0.84984\n",
      "[100]\tvalidation_0-auc:0.87461\n",
      "[131]\tvalidation_0-auc:0.87474\n",
      "CPU times: user 4.49 s, sys: 69.5 ms, total: 4.56 s\n",
      "Wall time: 1.24 s\n"
     ]
    }
   ],
   "source": [
    "%%time\n",
    "FOLDS = 5\n",
    "kf = KFold(n_splits=FOLDS, shuffle=True, random_state=42)\n",
    "    \n",
    "oof_xgb = np.zeros(len(train))\n",
    "pred_xgb = np.zeros(len(test))\n",
    "\n",
    "for i, (train_index, test_index) in enumerate(kf.split(train)):\n",
    "\n",
    "    print(\"#\"*25)\n",
    "    print(f\"### Fold {i+1}\")\n",
    "    print(\"#\"*25)\n",
    "    \n",
    "    x_train = train.loc[train_index,FEATURES].copy()\n",
    "    y_train = train.loc[train_index,\"rainfall\"]    \n",
    "    x_valid = train.loc[test_index,FEATURES].copy()\n",
    "    y_valid = train.loc[test_index,\"rainfall\"]\n",
    "    x_test = test[FEATURES].copy()\n",
    "\n",
    "    model = XGBClassifier(\n",
    "        max_depth=6,  \n",
    "        colsample_bytree=0.9, \n",
    "        subsample=0.9, \n",
    "        n_estimators=10_000,  \n",
    "        learning_rate=0.1, \n",
    "        eval_metric=\"auc\",\n",
    "        early_stopping_rounds=100,\n",
    "        alpha=1,\n",
    "    )\n",
    "    model.fit(\n",
    "        x_train, y_train,\n",
    "        eval_set=[(x_valid, y_valid)],  \n",
    "        verbose=100 \n",
    "    )\n",
    "\n",
    "    # INFER OOF\n",
    "    oof_xgb[test_index] = model.predict_proba(x_valid)[:,1]\n",
    "    # INFER TEST\n",
    "    pred_xgb += model.predict_proba(x_test)[:,1]\n",
    "\n",
    "# COMPUTE AVERAGE TEST PREDS\n",
    "pred_xgb /= FOLDS"
   ]
  },
  {
   "cell_type": "code",
   "execution_count": 7,
   "id": "636a9219",
   "metadata": {
    "execution": {
     "iopub.execute_input": "2025-06-26T13:53:56.490887Z",
     "iopub.status.busy": "2025-06-26T13:53:56.490558Z",
     "iopub.status.idle": "2025-06-26T13:53:56.502083Z",
     "shell.execute_reply": "2025-06-26T13:53:56.500884Z"
    },
    "papermill": {
     "duration": 0.018205,
     "end_time": "2025-06-26T13:53:56.503492",
     "exception": false,
     "start_time": "2025-06-26T13:53:56.485287",
     "status": "completed"
    },
    "tags": []
   },
   "outputs": [
    {
     "name": "stdout",
     "output_type": "stream",
     "text": [
      "XGBoost CV Score AUC = 0.881\n"
     ]
    }
   ],
   "source": [
    "from sklearn.metrics import roc_auc_score\n",
    "true = train.rainfall.values\n",
    "m = roc_auc_score(true, oof_xgb)\n",
    "print(f\"XGBoost CV Score AUC = {m:.3f}\")"
   ]
  },
  {
   "cell_type": "code",
   "execution_count": 8,
   "id": "d79ab417",
   "metadata": {
    "execution": {
     "iopub.execute_input": "2025-06-26T13:53:56.513358Z",
     "iopub.status.busy": "2025-06-26T13:53:56.513017Z",
     "iopub.status.idle": "2025-06-26T13:53:56.808324Z",
     "shell.execute_reply": "2025-06-26T13:53:56.806767Z"
    },
    "papermill": {
     "duration": 0.302315,
     "end_time": "2025-06-26T13:53:56.809997",
     "exception": false,
     "start_time": "2025-06-26T13:53:56.507682",
     "status": "completed"
    },
    "tags": []
   },
   "outputs": [
    {
     "data": {
      "image/png": "[encoded data removed]",
      "text/plain": [
       "<Figure size 1000x500 with 1 Axes>"
      ]
     },
     "metadata": {},
     "output_type": "display_data"
    }
   ],
   "source": [
    "import matplotlib.pyplot as plt\n",
    "feature_importance = model.feature_importances_\n",
    "importance_df = pd.DataFrame({\n",
    "    \"Feature\": FEATURES,  \n",
    "    \"Importance\": feature_importance\n",
    "}).sort_values(by=\"Importance\", ascending=False)\n",
    "plt.figure(figsize=(10, 5))\n",
    "plt.barh(importance_df[\"Feature\"], importance_df[\"Importance\"])\n",
    "plt.xlabel(\"Importance\")\n",
    "plt.ylabel(\"Feature\")\n",
    "plt.title(\"XGBoost Feature Importance\")\n",
    "plt.gca().invert_yaxis()  \n",
    "plt.show()"
   ]
  },
  {
   "cell_type": "code",
   "execution_count": 9,
   "id": "c9d1b4ce",
   "metadata": {
    "execution": {
     "iopub.execute_input": "2025-06-26T13:53:56.821088Z",
     "iopub.status.busy": "2025-06-26T13:53:56.820774Z",
     "iopub.status.idle": "2025-06-26T13:53:56.837083Z",
     "shell.execute_reply": "2025-06-26T13:53:56.835777Z"
    },
    "papermill": {
     "duration": 0.024257,
     "end_time": "2025-06-26T13:53:56.839031",
     "exception": false,
     "start_time": "2025-06-26T13:53:56.814774",
     "status": "completed"
    },
    "tags": []
   },
   "outputs": [
    {
     "name": "stdout",
     "output_type": "stream",
     "text": [
      "Best Public Notebook achieves LB = 0.915!\n"
     ]
    },
    {
     "data": {
      "text/html": [
       "<div>\n",
       "<style scoped>\n",
       "    .dataframe tbody tr th:only-of-type {\n",
       "        vertical-align: middle;\n",
       "    }\n",
       "\n",
       "    .dataframe tbody tr th {\n",
       "        vertical-align: top;\n",
       "    }\n",
       "\n",
       "    .dataframe thead th {\n",
       "        text-align: right;\n",
       "    }\n",
       "</style>\n",
       "<table border=\"1\" class=\"dataframe\">\n",
       "  <thead>\n",
       "    <tr style=\"text-align: right;\">\n",
       "      <th></th>\n",
       "      <th>id</th>\n",
       "      <th>rainfall</th>\n",
       "    </tr>\n",
       "  </thead>\n",
       "  <tbody>\n",
       "    <tr>\n",
       "      <th>0</th>\n",
       "      <td>2190</td>\n",
       "      <td>0.978408</td>\n",
       "    </tr>\n",
       "    <tr>\n",
       "      <th>1</th>\n",
       "      <td>2191</td>\n",
       "      <td>0.983057</td>\n",
       "    </tr>\n",
       "    <tr>\n",
       "      <th>2</th>\n",
       "      <td>2192</td>\n",
       "      <td>0.812125</td>\n",
       "    </tr>\n",
       "    <tr>\n",
       "      <th>3</th>\n",
       "      <td>2193</td>\n",
       "      <td>0.160289</td>\n",
       "    </tr>\n",
       "    <tr>\n",
       "      <th>4</th>\n",
       "      <td>2194</td>\n",
       "      <td>0.091565</td>\n",
       "    </tr>\n",
       "  </tbody>\n",
       "</table>\n",
       "</div>"
      ],
      "text/plain": [
       "     id  rainfall\n",
       "0  2190  0.978408\n",
       "1  2191  0.983057\n",
       "2  2192  0.812125\n",
       "3  2193  0.160289\n",
       "4  2194  0.091565"
      ]
     },
     "metadata": {},
     "output_type": "display_data"
    }
   ],
   "source": [
    "print(\"Best Public Notebook achieves LB = 0.915!\")\n",
    "best_public = pd.read_csv(\"/kaggle/input/lb-195/submission.csv\")\n",
    "display( best_public.head() )\n",
    "best_public = best_public.rainfall.values"
   ]
  },
  {
   "cell_type": "code",
   "execution_count": 10,
   "id": "c5fef290",
   "metadata": {
    "execution": {
     "iopub.execute_input": "2025-06-26T13:53:56.850308Z",
     "iopub.status.busy": "2025-06-26T13:53:56.849990Z",
     "iopub.status.idle": "2025-06-26T13:53:56.880802Z",
     "shell.execute_reply": "2025-06-26T13:53:56.879774Z"
    },
    "papermill": {
     "duration": 0.03827,
     "end_time": "2025-06-26T13:53:56.882513",
     "exception": false,
     "start_time": "2025-06-26T13:53:56.844243",
     "status": "completed"
    },
    "tags": []
   },
   "outputs": [
    {
     "name": "stdout",
     "output_type": "stream",
     "text": [
      "Ensemble achieves LB = 0.935! Hooray!\n",
      "(730, 2)\n"
     ]
    },
    {
     "data": {
      "text/html": [
       "<div>\n",
       "<style scoped>\n",
       "    .dataframe tbody tr th:only-of-type {\n",
       "        vertical-align: middle;\n",
       "    }\n",
       "\n",
       "    .dataframe tbody tr th {\n",
       "        vertical-align: top;\n",
       "    }\n",
       "\n",
       "    .dataframe thead th {\n",
       "        text-align: right;\n",
       "    }\n",
       "</style>\n",
       "<table border=\"1\" class=\"dataframe\">\n",
       "  <thead>\n",
       "    <tr style=\"text-align: right;\">\n",
       "      <th></th>\n",
       "      <th>id</th>\n",
       "      <th>rainfall</th>\n",
       "    </tr>\n",
       "  </thead>\n",
       "  <tbody>\n",
       "    <tr>\n",
       "      <th>0</th>\n",
       "      <td>2190</td>\n",
       "      <td>0.869178</td>\n",
       "    </tr>\n",
       "    <tr>\n",
       "      <th>1</th>\n",
       "      <td>2191</td>\n",
       "      <td>0.908904</td>\n",
       "    </tr>\n",
       "    <tr>\n",
       "      <th>2</th>\n",
       "      <td>2192</td>\n",
       "      <td>0.304110</td>\n",
       "    </tr>\n",
       "    <tr>\n",
       "      <th>3</th>\n",
       "      <td>2193</td>\n",
       "      <td>0.081507</td>\n",
       "    </tr>\n",
       "    <tr>\n",
       "      <th>4</th>\n",
       "      <td>2194</td>\n",
       "      <td>0.015753</td>\n",
       "    </tr>\n",
       "  </tbody>\n",
       "</table>\n",
       "</div>"
      ],
      "text/plain": [
       "     id  rainfall\n",
       "0  2190  0.869178\n",
       "1  2191  0.908904\n",
       "2  2192  0.304110\n",
       "3  2193  0.081507\n",
       "4  2194  0.015753"
      ]
     },
     "execution_count": 10,
     "metadata": {},
     "output_type": "execute_result"
    }
   ],
   "source": [
    "from scipy.stats import rankdata\n",
    "\n",
    "print(\"Ensemble achieves LB = 0.935! Hooray!\")\n",
    "sub = pd.read_csv(\"/kaggle/input/playground-series-s5e3/sample_submission.csv\")\n",
    "sub.rainfall = -1 * rankdata( pred_xgb ) + 2 * rankdata( best_public )\n",
    "sub.rainfall = rankdata( sub.rainfall ) / len(sub)\n",
    "print( sub.shape )\n",
    "sub.to_csv(f\"submission.csv\",index=False)\n",
    "sub.head()"
   ]
  }
 ],
 "metadata": {
  "kaggle": {
   "accelerator": "none",
   "dataSources": [
    {
     "databundleVersionId": 11251744,
     "sourceId": 91714,
     "sourceType": "competition"
    },
    {
     "datasetId": 7747421,
     "sourceId": 12292374,
     "sourceType": "datasetVersion"
    },
    {
     "datasetId": 7747743,
     "sourceId": 12292822,
     "sourceType": "datasetVersion"
    }
   ],
   "dockerImageVersionId": 31040,
   "isGpuEnabled": false,
   "isInternetEnabled": true,
   "language": "python",
   "sourceType": "notebook"
  },
  "kernelspec": {
   "display_name": "Python 3",
   "language": "python",
   "name": "python3"
  },
  "language_info": {
   "codemirror_mode": {
    "name": "ipython",
    "version": 3
   },
   "file_extension": ".py",
   "mimetype": "text/x-python",
   "name": "python",
   "nbconvert_exporter": "python",
   "pygments_lexer": "ipython3",
   "version": "3.11.11"
  },
  "papermill": {
   "default_parameters": {},
   "duration": 11.45848,
   "end_time": "2025-06-26T13:53:57.606752",
   "environment_variables": {},
   "exception": null,
   "input_path": "__notebook__.ipynb",
   "output_path": "__notebook__.ipynb",
   "parameters": {},
   "start_time": "2025-06-26T13:53:46.148272",
   "version": "2.6.0"
  }
 },
 "nbformat": 4,
 "nbformat_minor": 5
}
