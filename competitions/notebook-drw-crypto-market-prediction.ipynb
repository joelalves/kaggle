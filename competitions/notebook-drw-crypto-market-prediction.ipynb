{
 "cells": [
  {
   "cell_type": "code",
   "execution_count": 1,
   "id": "c695a9b1",
   "metadata": {
    "_cell_guid": "b1076dfc-b9ad-4769-8c92-a6c4dae69d19",
    "_uuid": "8f2839f25d086af736a60e9eeb907d3b93b6e0e5",
    "execution": {
     "iopub.execute_input": "2025-06-23T07:46:28.678896Z",
     "iopub.status.busy": "2025-06-23T07:46:28.678574Z",
     "iopub.status.idle": "2025-06-23T07:46:30.633517Z",
     "shell.execute_reply": "2025-06-23T07:46:30.632408Z"
    },
    "papermill": {
     "duration": 1.963574,
     "end_time": "2025-06-23T07:46:30.635125",
     "exception": false,
     "start_time": "2025-06-23T07:46:28.671551",
     "status": "completed"
    },
    "tags": []
   },
   "outputs": [
    {
     "name": "stdout",
     "output_type": "stream",
     "text": [
      "/kaggle/input/drw-crypto-market-prediction/sample_submission.csv\n",
      "/kaggle/input/drw-crypto-market-prediction/train.parquet\n",
      "/kaggle/input/drw-crypto-market-prediction/test.parquet\n"
     ]
    }
   ],
   "source": [
    "# This Python 3 environment comes with many helpful analytics libraries installed\n",
    "# It is defined by the kaggle/python Docker image: https://github.com/kaggle/docker-python\n",
    "# For example, here's several helpful packages to load\n",
    "\n",
    "import numpy as np # linear algebra\n",
    "import pandas as pd # data processing, CSV file I/O (e.g. pd.read_csv)\n",
    "\n",
    "# Input data files are available in the read-only \"../input/\" directory\n",
    "# For example, running this (by clicking run or pressing Shift+Enter) will list all files under the input directory\n",
    "\n",
    "import os\n",
    "for dirname, _, filenames in os.walk('/kaggle/input'):\n",
    "    for filename in filenames:\n",
    "        print(os.path.join(dirname, filename))\n",
    "\n",
    "# You can write up to 20GB to the current directory (/kaggle/working/) that gets preserved as output when you create a version using \"Save & Run All\" \n",
    "# You can also write temporary files to /kaggle/temp/, but they won't be saved outside of the current session"
   ]
  },
  {
   "cell_type": "code",
   "execution_count": 2,
   "id": "d9759faf",
   "metadata": {
    "execution": {
     "iopub.execute_input": "2025-06-23T07:46:30.646940Z",
     "iopub.status.busy": "2025-06-23T07:46:30.646529Z",
     "iopub.status.idle": "2025-06-23T07:46:40.643216Z",
     "shell.execute_reply": "2025-06-23T07:46:40.641947Z"
    },
    "papermill": {
     "duration": 10.004494,
     "end_time": "2025-06-23T07:46:40.644999",
     "exception": false,
     "start_time": "2025-06-23T07:46:30.640505",
     "status": "completed"
    },
    "tags": []
   },
   "outputs": [
    {
     "name": "stdout",
     "output_type": "stream",
     "text": [
      "Collecting koolbox\r\n",
      "  Downloading koolbox-0.1.3-py3-none-any.whl.metadata (3.4 kB)\r\n",
      "Collecting scikit-learn==1.5.2\r\n",
      "  Downloading scikit_learn-1.5.2-cp311-cp311-manylinux_2_17_x86_64.manylinux2014_x86_64.whl.metadata (13 kB)\r\n",
      "Requirement already satisfied: numpy>=1.19.5 in /usr/local/lib/python3.11/dist-packages (from scikit-learn==1.5.2) (1.26.4)\r\n",
      "Requirement already satisfied: scipy>=1.6.0 in /usr/local/lib/python3.11/dist-packages (from scikit-learn==1.5.2) (1.15.2)\r\n",
      "Requirement already satisfied: joblib>=1.2.0 in /usr/local/lib/python3.11/dist-packages (from scikit-learn==1.5.2) (1.5.0)\r\n",
      "Requirement already satisfied: threadpoolctl>=3.1.0 in /usr/local/lib/python3.11/dist-packages (from scikit-learn==1.5.2) (3.6.0)\r\n",
      "Requirement already satisfied: optuna>=4.2.1 in /usr/local/lib/python3.11/dist-packages (from koolbox) (4.3.0)\r\n",
      "Requirement already satisfied: pandas>=2.2.3 in /usr/local/lib/python3.11/dist-packages (from koolbox) (2.2.3)\r\n",
      "Requirement already satisfied: mkl_fft in /usr/local/lib/python3.11/dist-packages (from numpy>=1.19.5->scikit-learn==1.5.2) (1.3.8)\r\n",
      "Requirement already satisfied: mkl_random in /usr/local/lib/python3.11/dist-packages (from numpy>=1.19.5->scikit-learn==1.5.2) (1.2.4)\r\n",
      "Requirement already satisfied: mkl_umath in /usr/local/lib/python3.11/dist-packages (from numpy>=1.19.5->scikit-learn==1.5.2) (0.1.1)\r\n",
      "Requirement already satisfied: mkl in /usr/local/lib/python3.11/dist-packages (from numpy>=1.19.5->scikit-learn==1.5.2) (2025.1.0)\r\n",
      "Requirement already satisfied: tbb4py in /usr/local/lib/python3.11/dist-packages (from numpy>=1.19.5->scikit-learn==1.5.2) (2022.1.0)\r\n",
      "Requirement already satisfied: mkl-service in /usr/local/lib/python3.11/dist-packages (from numpy>=1.19.5->scikit-learn==1.5.2) (2.4.1)\r\n",
      "Requirement already satisfied: alembic>=1.5.0 in /usr/local/lib/python3.11/dist-packages (from optuna>=4.2.1->koolbox) (1.15.2)\r\n",
      "Requirement already satisfied: colorlog in /usr/local/lib/python3.11/dist-packages (from optuna>=4.2.1->koolbox) (6.9.0)\r\n",
      "Requirement already satisfied: packaging>=20.0 in /usr/local/lib/python3.11/dist-packages (from optuna>=4.2.1->koolbox) (25.0)\r\n",
      "Requirement already satisfied: sqlalchemy>=1.4.2 in /usr/local/lib/python3.11/dist-packages (from optuna>=4.2.1->koolbox) (2.0.40)\r\n",
      "Requirement already satisfied: tqdm in /usr/local/lib/python3.11/dist-packages (from optuna>=4.2.1->koolbox) (4.67.1)\r\n",
      "Requirement already satisfied: PyYAML in /usr/local/lib/python3.11/dist-packages (from optuna>=4.2.1->koolbox) (6.0.2)\r\n",
      "Requirement already satisfied: python-dateutil>=2.8.2 in /usr/local/lib/python3.11/dist-packages (from pandas>=2.2.3->koolbox) (2.9.0.post0)\r\n",
      "Requirement already satisfied: pytz>=2020.1 in /usr/local/lib/python3.11/dist-packages (from pandas>=2.2.3->koolbox) (2025.2)\r\n",
      "Requirement already satisfied: tzdata>=2022.7 in /usr/local/lib/python3.11/dist-packages (from pandas>=2.2.3->koolbox) (2025.2)\r\n",
      "Requirement already satisfied: Mako in /usr/local/lib/python3.11/dist-packages (from alembic>=1.5.0->optuna>=4.2.1->koolbox) (1.3.10)\r\n",
      "Requirement already satisfied: typing-extensions>=4.12 in /usr/local/lib/python3.11/dist-packages (from alembic>=1.5.0->optuna>=4.2.1->koolbox) (4.13.2)\r\n",
      "Requirement already satisfied: six>=1.5 in /usr/local/lib/python3.11/dist-packages (from python-dateutil>=2.8.2->pandas>=2.2.3->koolbox) (1.17.0)\r\n",
      "Requirement already satisfied: greenlet>=1 in /usr/local/lib/python3.11/dist-packages (from sqlalchemy>=1.4.2->optuna>=4.2.1->koolbox) (3.1.1)\r\n",
      "Requirement already satisfied: intel-openmp<2026,>=2024 in /usr/local/lib/python3.11/dist-packages (from mkl->numpy>=1.19.5->scikit-learn==1.5.2) (2024.2.0)\r\n",
      "Requirement already satisfied: tbb==2022.* in /usr/local/lib/python3.11/dist-packages (from mkl->numpy>=1.19.5->scikit-learn==1.5.2) (2022.1.0)\r\n",
      "Requirement already satisfied: tcmlib==1.* in /usr/local/lib/python3.11/dist-packages (from tbb==2022.*->mkl->numpy>=1.19.5->scikit-learn==1.5.2) (1.3.0)\r\n",
      "Requirement already satisfied: intel-cmplr-lib-rt in /usr/local/lib/python3.11/dist-packages (from mkl_umath->numpy>=1.19.5->scikit-learn==1.5.2) (2024.2.0)\r\n",
      "Requirement already satisfied: intel-cmplr-lib-ur==2024.2.0 in /usr/local/lib/python3.11/dist-packages (from intel-openmp<2026,>=2024->mkl->numpy>=1.19.5->scikit-learn==1.5.2) (2024.2.0)\r\n",
      "Requirement already satisfied: MarkupSafe>=0.9.2 in /usr/local/lib/python3.11/dist-packages (from Mako->alembic>=1.5.0->optuna>=4.2.1->koolbox) (3.0.2)\r\n",
      "Downloading scikit_learn-1.5.2-cp311-cp311-manylinux_2_17_x86_64.manylinux2014_x86_64.whl (13.3 MB)\r\n",
      "\u001b[2K   \u001b[90m━━━━━━━━━━━━━━━━━━━━━━━━━━━━━━━━━━━━━━━━\u001b[0m \u001b[32m13.3/13.3 MB\u001b[0m \u001b[31m32.0 MB/s\u001b[0m eta \u001b[36m0:00:00\u001b[0m\r\n",
      "\u001b[?25hDownloading koolbox-0.1.3-py3-none-any.whl (18 kB)\r\n",
      "Installing collected packages: scikit-learn, koolbox\r\n",
      "  Attempting uninstall: scikit-learn\r\n",
      "    Found existing installation: scikit-learn 1.2.2\r\n",
      "    Uninstalling scikit-learn-1.2.2:\r\n",
      "      Successfully uninstalled scikit-learn-1.2.2\r\n",
      "\u001b[31mERROR: pip's dependency resolver does not currently take into account all the packages that are installed. This behaviour is the source of the following dependency conflicts.\r\n",
      "cesium 0.12.4 requires numpy<3.0,>=2.0, but you have numpy 1.26.4 which is incompatible.\u001b[0m\u001b[31m\r\n",
      "\u001b[0mSuccessfully installed koolbox-0.1.3 scikit-learn-1.5.2\r\n"
     ]
    }
   ],
   "source": [
    "!pip install koolbox scikit-learn==1.5.2"
   ]
  },
  {
   "cell_type": "markdown",
   "id": "073d2bd2",
   "metadata": {
    "papermill": {
     "duration": 0.005713,
     "end_time": "2025-06-23T07:46:40.657038",
     "exception": false,
     "start_time": "2025-06-23T07:46:40.651325",
     "status": "completed"
    },
    "tags": []
   },
   "source": [
    "Imports and configs"
   ]
  },
  {
   "cell_type": "code",
   "execution_count": 3,
   "id": "aff7a12d",
   "metadata": {
    "execution": {
     "iopub.execute_input": "2025-06-23T07:46:40.670481Z",
     "iopub.status.busy": "2025-06-23T07:46:40.670087Z",
     "iopub.status.idle": "2025-06-23T07:46:48.168544Z",
     "shell.execute_reply": "2025-06-23T07:46:48.167468Z"
    },
    "papermill": {
     "duration": 7.507384,
     "end_time": "2025-06-23T07:46:48.170191",
     "exception": false,
     "start_time": "2025-06-23T07:46:40.662807",
     "status": "completed"
    },
    "tags": []
   },
   "outputs": [],
   "source": [
    "from sklearn.model_selection import KFold\n",
    "from sklearn.linear_model import Ridge\n",
    "from lightgbm import LGBMRegressor\n",
    "from scipy.stats import pearsonr as pr\n",
    "from xgboost import XGBRegressor\n",
    "from sklearn.base import clone\n",
    "from koolbox import Trainer\n",
    "import matplotlib.pyplot as plt\n",
    "import seaborn as sns\n",
    "import pandas as pd\n",
    "import numpy as np\n",
    "import warnings\n",
    "import optuna\n",
    "import joblib\n",
    "import glob\n",
    "import gc\n",
    "\n",
    "warnings.filterwarnings(\"ignore\")"
   ]
  },
  {
   "cell_type": "code",
   "execution_count": 4,
   "id": "bb6a83f2",
   "metadata": {
    "execution": {
     "iopub.execute_input": "2025-06-23T07:46:48.183777Z",
     "iopub.status.busy": "2025-06-23T07:46:48.183175Z",
     "iopub.status.idle": "2025-06-23T07:46:48.188963Z",
     "shell.execute_reply": "2025-06-23T07:46:48.187982Z"
    },
    "papermill": {
     "duration": 0.01457,
     "end_time": "2025-06-23T07:46:48.190748",
     "exception": false,
     "start_time": "2025-06-23T07:46:48.176178",
     "status": "completed"
    },
    "tags": []
   },
   "outputs": [],
   "source": [
    "class CFG:\n",
    "    train_path = \"/kaggle/input/drw-crypto-market-prediction/train.parquet\"\n",
    "    test_path = \"/kaggle/input/drw-crypto-market-prediction/test.parquet\"\n",
    "    sample_sub_path = \"/kaggle/input/drw-crypto-market-prediction/sample_submission.csv\"\n",
    "\n",
    "    target = \"label\"\n",
    "    n_folds = 5\n",
    "    seed = 42\n",
    "\n",
    "    run_optuna = True\n",
    "    n_optuna_trials = 500"
   ]
  },
  {
   "cell_type": "code",
   "execution_count": 5,
   "id": "73bb8b67",
   "metadata": {
    "execution": {
     "iopub.execute_input": "2025-06-23T07:46:48.204830Z",
     "iopub.status.busy": "2025-06-23T07:46:48.203938Z",
     "iopub.status.idle": "2025-06-23T07:46:48.211169Z",
     "shell.execute_reply": "2025-06-23T07:46:48.210272Z"
    },
    "papermill": {
     "duration": 0.015909,
     "end_time": "2025-06-23T07:46:48.212869",
     "exception": false,
     "start_time": "2025-06-23T07:46:48.196960",
     "status": "completed"
    },
    "tags": []
   },
   "outputs": [],
   "source": [
    "class Params:\n",
    "    lgbm_params = {\n",
    "        \"boosting_type\": \"gbdt\",\n",
    "        \"colsample_bytree\": 0.5625888953382505,\n",
    "        \"learning_rate\": 0.029312951475451557,\n",
    "        \"min_child_samples\": 63,\n",
    "        \"min_child_weight\": 0.11456572852335424,\n",
    "        \"n_estimators\": 126,\n",
    "        \"n_jobs\": -1,\n",
    "        \"num_leaves\": 37,\n",
    "        \"random_state\": 42,\n",
    "        \"reg_alpha\": 85.2476527854083,\n",
    "        \"reg_lambda\": 99.38305361388907,\n",
    "        \"subsample\": 0.450669817684892,\n",
    "        \"verbose\": -1\n",
    "    }\n",
    "\n",
    "    lgbm_goss_params = {\n",
    "        \"boosting_type\": \"goss\",\n",
    "        \"colsample_bytree\": 0.34695458228489784,\n",
    "        \"learning_rate\": 0.031023014900595287,\n",
    "        \"min_child_samples\": 30,\n",
    "        \"min_child_weight\": 0.4727729225033618,\n",
    "        \"n_estimators\": 220,\n",
    "        \"n_jobs\": -1,\n",
    "        \"num_leaves\": 58,\n",
    "        \"random_state\": 42,\n",
    "        \"reg_alpha\": 38.665994901468224,\n",
    "        \"reg_lambda\": 92.76991677464294,\n",
    "        \"subsample\": 0.4810891284493255,\n",
    "        \"verbose\": -1\n",
    "    }\n",
    "\n",
    "    xgb_params = {\n",
    "        \"colsample_bylevel\": 0.4778015829774066,\n",
    "        \"colsample_bynode\": 0.362764358742407,\n",
    "        \"colsample_bytree\": 0.7107423488010493,\n",
    "        \"gamma\": 1.7094857725240398,\n",
    "        \"learning_rate\": 0.02213323588455387,\n",
    "        \"max_depth\": 20,\n",
    "        \"max_leaves\": 12,\n",
    "        \"min_child_weight\": 16,\n",
    "        \"n_estimators\": 1667,\n",
    "        \"n_jobs\": -1,\n",
    "        \"random_state\": 42,\n",
    "        \"reg_alpha\": 39.352415706891264,\n",
    "        \"reg_lambda\": 75.44843704068275,\n",
    "        \"subsample\": 0.06566669853471274,\n",
    "        \"verbosity\": 0\n",
    "    }"
   ]
  },
  {
   "cell_type": "markdown",
   "id": "711459da",
   "metadata": {
    "papermill": {
     "duration": 0.0057,
     "end_time": "2025-06-23T07:46:48.224569",
     "exception": false,
     "start_time": "2025-06-23T07:46:48.218869",
     "status": "completed"
    },
    "tags": []
   },
   "source": [
    "Data loading and preprocessing"
   ]
  },
  {
   "cell_type": "code",
   "execution_count": 6,
   "id": "68c27910",
   "metadata": {
    "execution": {
     "iopub.execute_input": "2025-06-23T07:46:48.237260Z",
     "iopub.status.busy": "2025-06-23T07:46:48.236919Z",
     "iopub.status.idle": "2025-06-23T07:46:48.246675Z",
     "shell.execute_reply": "2025-06-23T07:46:48.245781Z"
    },
    "papermill": {
     "duration": 0.01802,
     "end_time": "2025-06-23T07:46:48.248251",
     "exception": false,
     "start_time": "2025-06-23T07:46:48.230231",
     "status": "completed"
    },
    "tags": []
   },
   "outputs": [],
   "source": [
    "def reduce_mem_usage(dataframe, dataset):    \n",
    "    print('Reducing memory usage for:', dataset)\n",
    "    initial_mem_usage = dataframe.memory_usage().sum() / 1024**2\n",
    "    \n",
    "    for col in dataframe.columns:\n",
    "        col_type = dataframe[col].dtype\n",
    "\n",
    "        c_min = dataframe[col].min()\n",
    "        c_max = dataframe[col].max()\n",
    "        if str(col_type)[:3] == 'int':\n",
    "            if c_min > np.iinfo(np.int8).min and c_max < np.iinfo(np.int8).max:\n",
    "                dataframe[col] = dataframe[col].astype(np.int8)\n",
    "            elif c_min > np.iinfo(np.int16).min and c_max < np.iinfo(np.int16).max:\n",
    "                dataframe[col] = dataframe[col].astype(np.int16)\n",
    "            elif c_min > np.iinfo(np.int32).min and c_max < np.iinfo(np.int32).max:\n",
    "                dataframe[col] = dataframe[col].astype(np.int32)\n",
    "            elif c_min > np.iinfo(np.int64).min and c_max < np.iinfo(np.int64).max:\n",
    "                dataframe[col] = dataframe[col].astype(np.int64)\n",
    "        else:\n",
    "            if c_min > np.finfo(np.float16).min and c_max < np.finfo(np.float16).max:\n",
    "                dataframe[col] = dataframe[col].astype(np.float16)\n",
    "            elif c_min > np.finfo(np.float32).min and c_max < np.finfo(np.float32).max:\n",
    "                dataframe[col] = dataframe[col].astype(np.float32)\n",
    "            else:\n",
    "                dataframe[col] = dataframe[col].astype(np.float64)\n",
    "\n",
    "    final_mem_usage = dataframe.memory_usage().sum() / 1024**2\n",
    "    print('--- Memory usage before: {:.2f} MB'.format(initial_mem_usage))\n",
    "    print('--- Memory usage after: {:.2f} MB'.format(final_mem_usage))\n",
    "    print('--- Decreased memory usage by {:.1f}%\\n'.format(100 * (initial_mem_usage - final_mem_usage) / initial_mem_usage))\n",
    "\n",
    "    return dataframe"
   ]
  },
  {
   "cell_type": "code",
   "execution_count": 7,
   "id": "37c34ed3",
   "metadata": {
    "execution": {
     "iopub.execute_input": "2025-06-23T07:46:48.261548Z",
     "iopub.status.busy": "2025-06-23T07:46:48.261234Z",
     "iopub.status.idle": "2025-06-23T07:47:58.457418Z",
     "shell.execute_reply": "2025-06-23T07:47:58.456594Z"
    },
    "papermill": {
     "duration": 70.204731,
     "end_time": "2025-06-23T07:47:58.459045",
     "exception": false,
     "start_time": "2025-06-23T07:46:48.254314",
     "status": "completed"
    },
    "tags": []
   },
   "outputs": [
    {
     "name": "stdout",
     "output_type": "stream",
     "text": [
      "Reducing memory usage for: train\n",
      "--- Memory usage before: 3594.93 MB\n",
      "--- Memory usage after: 961.92 MB\n",
      "--- Decreased memory usage by 73.2%\n",
      "\n",
      "Reducing memory usage for: test\n",
      "--- Memory usage before: 3678.76 MB\n",
      "--- Memory usage after: 984.36 MB\n",
      "--- Decreased memory usage by 73.2%\n",
      "\n"
     ]
    }
   ],
   "source": [
    "train = pd.read_parquet(CFG.train_path).reset_index(drop=True)\n",
    "test = pd.read_parquet(CFG.test_path).reset_index(drop=True)\n",
    "\n",
    "train = reduce_mem_usage(train, \"train\")\n",
    "test = reduce_mem_usage(test, \"test\")\n",
    "\n",
    "X = train.drop(CFG.target, axis=1)\n",
    "y = train[CFG.target]\n",
    "X_test = test.drop(CFG.target, axis=1)"
   ]
  },
  {
   "cell_type": "code",
   "execution_count": 8,
   "id": "88283dd9",
   "metadata": {
    "execution": {
     "iopub.execute_input": "2025-06-23T07:47:58.473124Z",
     "iopub.status.busy": "2025-06-23T07:47:58.472806Z",
     "iopub.status.idle": "2025-06-23T07:47:58.579012Z",
     "shell.execute_reply": "2025-06-23T07:47:58.577996Z"
    },
    "papermill": {
     "duration": 0.115063,
     "end_time": "2025-06-23T07:47:58.580835",
     "exception": false,
     "start_time": "2025-06-23T07:47:58.465772",
     "status": "completed"
    },
    "tags": []
   },
   "outputs": [],
   "source": [
    "features = [\n",
    "    # https://www.kaggle.com/code/sadettinamilverdil/yat-r-m-tavsiyesi-de-ildir\n",
    "    \"X863\", \"X856\", \"X344\", \"X598\", \"X862\", \"X385\", \"X852\", \"X603\", \"X860\", \"X674\",\n",
    "    \"X415\", \"X345\", \"X137\", \"X855\", \"X174\", \"X302\", \"X178\", \"X532\", \"X168\", \"X612\",\n",
    "    \"bid_qty\", \"ask_qty\", \"buy_qty\", \"sell_qty\", \"volume\"\n",
    "]\n",
    "\n",
    "X = X[features]\n",
    "X_test = X_test[features]"
   ]
  },
  {
   "cell_type": "markdown",
   "id": "bceec7ce",
   "metadata": {
    "papermill": {
     "duration": 0.005849,
     "end_time": "2025-06-23T07:47:58.593094",
     "exception": false,
     "start_time": "2025-06-23T07:47:58.587245",
     "status": "completed"
    },
    "tags": []
   },
   "source": [
    "Training base models"
   ]
  },
  {
   "cell_type": "code",
   "execution_count": 9,
   "id": "de20ad6d",
   "metadata": {
    "execution": {
     "iopub.execute_input": "2025-06-23T07:47:58.608380Z",
     "iopub.status.busy": "2025-06-23T07:47:58.608012Z",
     "iopub.status.idle": "2025-06-23T07:47:58.612431Z",
     "shell.execute_reply": "2025-06-23T07:47:58.611615Z"
    },
    "papermill": {
     "duration": 0.01327,
     "end_time": "2025-06-23T07:47:58.613904",
     "exception": false,
     "start_time": "2025-06-23T07:47:58.600634",
     "status": "completed"
    },
    "tags": []
   },
   "outputs": [],
   "source": [
    "def pearsonr(y_true, y_pred):\n",
    "    return pr(y_true, y_pred)[0]"
   ]
  },
  {
   "cell_type": "code",
   "execution_count": 10,
   "id": "12c45b30",
   "metadata": {
    "execution": {
     "iopub.execute_input": "2025-06-23T07:47:58.627306Z",
     "iopub.status.busy": "2025-06-23T07:47:58.626966Z",
     "iopub.status.idle": "2025-06-23T07:47:58.631286Z",
     "shell.execute_reply": "2025-06-23T07:47:58.630460Z"
    },
    "papermill": {
     "duration": 0.012629,
     "end_time": "2025-06-23T07:47:58.632666",
     "exception": false,
     "start_time": "2025-06-23T07:47:58.620037",
     "status": "completed"
    },
    "tags": []
   },
   "outputs": [],
   "source": [
    "fold_scores = {}\n",
    "overall_scores = {}\n",
    "\n",
    "oof_preds = {}\n",
    "test_preds = {}"
   ]
  },
  {
   "cell_type": "markdown",
   "id": "3036dd79",
   "metadata": {
    "papermill": {
     "duration": 0.006073,
     "end_time": "2025-06-23T07:47:58.644858",
     "exception": false,
     "start_time": "2025-06-23T07:47:58.638785",
     "status": "completed"
    },
    "tags": []
   },
   "source": [
    "LightGBM (gbdt)"
   ]
  },
  {
   "cell_type": "code",
   "execution_count": 11,
   "id": "735d054e",
   "metadata": {
    "execution": {
     "iopub.execute_input": "2025-06-23T07:47:58.658766Z",
     "iopub.status.busy": "2025-06-23T07:47:58.658439Z",
     "iopub.status.idle": "2025-06-23T07:48:28.636097Z",
     "shell.execute_reply": "2025-06-23T07:48:28.635131Z"
    },
    "papermill": {
     "duration": 29.986755,
     "end_time": "2025-06-23T07:48:28.638099",
     "exception": false,
     "start_time": "2025-06-23T07:47:58.651344",
     "status": "completed"
    },
    "tags": []
   },
   "outputs": [
    {
     "name": "stdout",
     "output_type": "stream",
     "text": [
      "Training LGBMRegressor\n",
      "\n",
      "--- Fold 0 - pearsonr: 0.119944 - Time: 3.96 s\n",
      "--- Fold 1 - pearsonr: 0.101273 - Time: 3.82 s\n",
      "--- Fold 2 - pearsonr: 0.023888 - Time: 3.86 s\n",
      "--- Fold 3 - pearsonr: 0.159401 - Time: 3.87 s\n",
      "--- Fold 4 - pearsonr: 0.086810 - Time: 3.75 s\n",
      "\n",
      "------ Overall pearsonr: 0.088687 - Mean pearsonr: 0.098263 ± 0.044452 - Time: 20.02 s\n"
     ]
    }
   ],
   "source": [
    "lgbm_trainer = Trainer(\n",
    "    LGBMRegressor(**Params.lgbm_params),\n",
    "    cv=KFold(n_splits=5, shuffle=False),\n",
    "    metric=pearsonr,\n",
    "    task=\"regression\",\n",
    "    metric_precision=6\n",
    ")\n",
    "\n",
    "lgbm_trainer.fit(X, y)\n",
    "\n",
    "fold_scores[\"LightGBM (gbdt)\"] = lgbm_trainer.fold_scores\n",
    "overall_scores[\"LightGBM (gbdt)\"] = [pearsonr(lgbm_trainer.oof_preds, y)]\n",
    "oof_preds[\"LightGBM (gbdt)\"] = lgbm_trainer.oof_preds\n",
    "test_preds[\"LightGBM (gbdt)\"] = lgbm_trainer.predict(X_test)"
   ]
  },
  {
   "cell_type": "markdown",
   "id": "09548d27",
   "metadata": {
    "papermill": {
     "duration": 0.010303,
     "end_time": "2025-06-23T07:48:28.660973",
     "exception": false,
     "start_time": "2025-06-23T07:48:28.650670",
     "status": "completed"
    },
    "tags": []
   },
   "source": [
    "LightGBM (goss)"
   ]
  },
  {
   "cell_type": "code",
   "execution_count": 12,
   "id": "eeda7456",
   "metadata": {
    "execution": {
     "iopub.execute_input": "2025-06-23T07:48:28.675388Z",
     "iopub.status.busy": "2025-06-23T07:48:28.674934Z",
     "iopub.status.idle": "2025-06-23T07:49:26.001898Z",
     "shell.execute_reply": "2025-06-23T07:49:26.000922Z"
    },
    "papermill": {
     "duration": 57.336339,
     "end_time": "2025-06-23T07:49:26.003691",
     "exception": false,
     "start_time": "2025-06-23T07:48:28.667352",
     "status": "completed"
    },
    "tags": []
   },
   "outputs": [
    {
     "name": "stdout",
     "output_type": "stream",
     "text": [
      "Training LGBMRegressor\n",
      "\n",
      "--- Fold 0 - pearsonr: 0.125020 - Time: 7.40 s\n",
      "--- Fold 1 - pearsonr: 0.101415 - Time: 7.36 s\n",
      "--- Fold 2 - pearsonr: 0.034181 - Time: 7.20 s\n",
      "--- Fold 3 - pearsonr: 0.156489 - Time: 7.24 s\n",
      "--- Fold 4 - pearsonr: 0.093788 - Time: 9.01 s\n",
      "\n",
      "------ Overall pearsonr: 0.096503 - Mean pearsonr: 0.102178 ± 0.040413 - Time: 38.97 s\n"
     ]
    }
   ],
   "source": [
    "lgbm_goss_trainer = Trainer(\n",
    "    LGBMRegressor(**Params.lgbm_goss_params),\n",
    "    cv=KFold(n_splits=5, shuffle=False),\n",
    "    metric=pearsonr,\n",
    "    task=\"regression\",\n",
    "    metric_precision=6\n",
    ")\n",
    "\n",
    "lgbm_goss_trainer.fit(X, y)\n",
    "\n",
    "fold_scores[\"LightGBM (goss)\"] = lgbm_goss_trainer.fold_scores\n",
    "overall_scores[\"LightGBM (goss)\"] = [pearsonr(lgbm_goss_trainer.oof_preds, y)]\n",
    "oof_preds[\"LightGBM (goss)\"] = lgbm_goss_trainer.oof_preds\n",
    "test_preds[\"LightGBM (goss)\"] = lgbm_goss_trainer.predict(X_test)"
   ]
  },
  {
   "cell_type": "markdown",
   "id": "6c20f0d9",
   "metadata": {
    "papermill": {
     "duration": 0.006878,
     "end_time": "2025-06-23T07:49:26.017629",
     "exception": false,
     "start_time": "2025-06-23T07:49:26.010751",
     "status": "completed"
    },
    "tags": []
   },
   "source": [
    "XGBoost"
   ]
  },
  {
   "cell_type": "code",
   "execution_count": 13,
   "id": "3b9ef934",
   "metadata": {
    "execution": {
     "iopub.execute_input": "2025-06-23T07:49:26.032601Z",
     "iopub.status.busy": "2025-06-23T07:49:26.032270Z",
     "iopub.status.idle": "2025-06-23T07:52:15.111174Z",
     "shell.execute_reply": "2025-06-23T07:52:15.109264Z"
    },
    "papermill": {
     "duration": 169.091935,
     "end_time": "2025-06-23T07:52:15.116117",
     "exception": false,
     "start_time": "2025-06-23T07:49:26.024182",
     "status": "completed"
    },
    "tags": []
   },
   "outputs": [
    {
     "name": "stdout",
     "output_type": "stream",
     "text": [
      "Training XGBRegressor\n",
      "\n",
      "--- Fold 0 - pearsonr: 0.186980 - Time: 26.34 s\n",
      "--- Fold 1 - pearsonr: 0.126919 - Time: 27.02 s\n",
      "--- Fold 2 - pearsonr: 0.085247 - Time: 26.96 s\n",
      "--- Fold 3 - pearsonr: 0.162445 - Time: 25.82 s\n",
      "--- Fold 4 - pearsonr: 0.137543 - Time: 24.19 s\n",
      "\n",
      "------ Overall pearsonr: 0.137687 - Mean pearsonr: 0.139827 ± 0.034310 - Time: 131.10 s\n"
     ]
    }
   ],
   "source": [
    "xgb_trainer = Trainer(\n",
    "    XGBRegressor(**Params.xgb_params),\n",
    "    cv=KFold(n_splits=5, shuffle=False),\n",
    "    metric=pearsonr,\n",
    "    task=\"regression\",\n",
    "    metric_precision=6\n",
    ")\n",
    "\n",
    "xgb_trainer.fit(X, y)\n",
    "\n",
    "fold_scores[\"XGBoost\"] = xgb_trainer.fold_scores\n",
    "overall_scores[\"XGBoost\"] = [pearsonr(xgb_trainer.oof_preds, y)]\n",
    "oof_preds[\"XGBoost\"] = xgb_trainer.oof_preds\n",
    "test_preds[\"XGBoost\"] = xgb_trainer.predict(X_test)"
   ]
  },
  {
   "cell_type": "markdown",
   "id": "f121cc9f",
   "metadata": {
    "papermill": {
     "duration": 0.007808,
     "end_time": "2025-06-23T07:52:15.137146",
     "exception": false,
     "start_time": "2025-06-23T07:52:15.129338",
     "status": "completed"
    },
    "tags": []
   },
   "source": [
    "AutoGluon"
   ]
  },
  {
   "cell_type": "code",
   "execution_count": 14,
   "id": "72295e3f",
   "metadata": {
    "execution": {
     "iopub.execute_input": "2025-06-23T07:52:15.156724Z",
     "iopub.status.busy": "2025-06-23T07:52:15.156349Z",
     "iopub.status.idle": "2025-06-23T07:52:15.161798Z",
     "shell.execute_reply": "2025-06-23T07:52:15.160849Z"
    },
    "papermill": {
     "duration": 0.01762,
     "end_time": "2025-06-23T07:52:15.163775",
     "exception": false,
     "start_time": "2025-06-23T07:52:15.146155",
     "status": "completed"
    },
    "tags": []
   },
   "outputs": [],
   "source": [
    "#oof_preds_files = glob.glob(f'/kaggle/input/drw-crypto-market-prediction-autogluon/*_oof_preds_*.pkl')\n",
    "#test_preds_files = glob.glob(f'/kaggle/input/drw-crypto-market-prediction-autogluon/*_test_preds_*.pkl')\n",
    "\n",
    "#ag_oof_preds = joblib.load(oof_preds_files[0])\n",
    "#ag_test_preds = joblib.load(test_preds_files[0])\n",
    "\n",
    "#ag_score = [pearsonr(ag_oof_preds, y)]\n",
    "\n",
    "#ag_scores = []\n",
    "#split = KFold(n_splits=CFG.n_folds).split(X, y)\n",
    "#for _, val_idx in split:\n",
    " #   y_val = y[val_idx]\n",
    "  #  y_preds = ag_oof_preds[val_idx]   \n",
    "   # score = pearsonr(y_preds, y_val)\n",
    "    #ag_scores.append(score)\n",
    "    \n",
    "#oof_preds[\"AutoGluon\"], test_preds[\"AutoGluon\"], overall_scores[\"AutoGluon\"], fold_scores[\"AutoGluon\"] = ag_oof_preds, ag_test_preds, ag_score, ag_scores"
   ]
  },
  {
   "cell_type": "markdown",
   "id": "2d214dfa",
   "metadata": {
    "papermill": {
     "duration": 0.011586,
     "end_time": "2025-06-23T07:52:15.187809",
     "exception": false,
     "start_time": "2025-06-23T07:52:15.176223",
     "status": "completed"
    },
    "tags": []
   },
   "source": [
    "Ensembling with Ridge"
   ]
  },
  {
   "cell_type": "code",
   "execution_count": 15,
   "id": "b18e1654",
   "metadata": {
    "execution": {
     "iopub.execute_input": "2025-06-23T07:52:15.213357Z",
     "iopub.status.busy": "2025-06-23T07:52:15.212964Z",
     "iopub.status.idle": "2025-06-23T07:52:15.223549Z",
     "shell.execute_reply": "2025-06-23T07:52:15.222480Z"
    },
    "papermill": {
     "duration": 0.024884,
     "end_time": "2025-06-23T07:52:15.225762",
     "exception": false,
     "start_time": "2025-06-23T07:52:15.200878",
     "status": "completed"
    },
    "tags": []
   },
   "outputs": [],
   "source": [
    "def plot_weights(weights, title):\n",
    "    sorted_indices = np.argsort(weights[0])[::-1]\n",
    "    sorted_coeffs = np.array(weights[0])[sorted_indices]\n",
    "    sorted_model_names = np.array(list(oof_preds.keys()))[sorted_indices]\n",
    "\n",
    "    plt.figure(figsize=(10, weights.shape[1] * 0.5))\n",
    "    ax = sns.barplot(x=sorted_coeffs, y=sorted_model_names, palette=\"RdYlGn_r\")\n",
    "\n",
    "    for i, (value, name) in enumerate(zip(sorted_coeffs, sorted_model_names)):\n",
    "        if value >= 0:\n",
    "            ax.text(value, i, f\"{value:.3f}\", va=\"center\", ha=\"left\", color=\"black\")\n",
    "        else:\n",
    "            ax.text(value, i, f\"{value:.3f}\", va=\"center\", ha=\"right\", color=\"black\")\n",
    "\n",
    "    xlim = ax.get_xlim()\n",
    "    ax.set_xlim(xlim[0] - 0.1 * abs(xlim[0]), xlim[1] + 0.1 * abs(xlim[1]))\n",
    "\n",
    "    plt.title(title)\n",
    "    plt.xlabel(\"\")\n",
    "    plt.ylabel(\"\")\n",
    "    plt.tight_layout()\n",
    "    plt.show()"
   ]
  },
  {
   "cell_type": "code",
   "execution_count": 16,
   "id": "2bac9adb",
   "metadata": {
    "execution": {
     "iopub.execute_input": "2025-06-23T07:52:15.258443Z",
     "iopub.status.busy": "2025-06-23T07:52:15.258034Z",
     "iopub.status.idle": "2025-06-23T07:52:15.404885Z",
     "shell.execute_reply": "2025-06-23T07:52:15.403592Z"
    },
    "papermill": {
     "duration": 0.163031,
     "end_time": "2025-06-23T07:52:15.406716",
     "exception": false,
     "start_time": "2025-06-23T07:52:15.243685",
     "status": "completed"
    },
    "tags": []
   },
   "outputs": [],
   "source": [
    "X = pd.DataFrame(oof_preds)\n",
    "X_test = pd.DataFrame(test_preds)"
   ]
  },
  {
   "cell_type": "code",
   "execution_count": 17,
   "id": "b05269b5",
   "metadata": {
    "execution": {
     "iopub.execute_input": "2025-06-23T07:52:15.422176Z",
     "iopub.status.busy": "2025-06-23T07:52:15.421853Z",
     "iopub.status.idle": "2025-06-23T07:52:15.523068Z",
     "shell.execute_reply": "2025-06-23T07:52:15.522095Z"
    },
    "papermill": {
     "duration": 0.112084,
     "end_time": "2025-06-23T07:52:15.526041",
     "exception": false,
     "start_time": "2025-06-23T07:52:15.413957",
     "status": "completed"
    },
    "tags": []
   },
   "outputs": [
    {
     "data": {
      "text/plain": [
       "['test_preds.pkl']"
      ]
     },
     "execution_count": 17,
     "metadata": {},
     "output_type": "execute_result"
    }
   ],
   "source": [
    "joblib.dump(X, \"oof_preds.pkl\")\n",
    "joblib.dump(X_test, \"test_preds.pkl\")"
   ]
  },
  {
   "cell_type": "code",
   "execution_count": 18,
   "id": "8c1ea1a0",
   "metadata": {
    "execution": {
     "iopub.execute_input": "2025-06-23T07:52:15.552258Z",
     "iopub.status.busy": "2025-06-23T07:52:15.551235Z",
     "iopub.status.idle": "2025-06-23T08:00:02.635737Z",
     "shell.execute_reply": "2025-06-23T08:00:02.634570Z"
    },
    "papermill": {
     "duration": 467.099154,
     "end_time": "2025-06-23T08:00:02.637617",
     "exception": false,
     "start_time": "2025-06-23T07:52:15.538463",
     "status": "completed"
    },
    "tags": []
   },
   "outputs": [
    {
     "name": "stderr",
     "output_type": "stream",
     "text": [
      "[I 2025-06-23 07:52:15,560] A new study created in memory with name: no-name-f3389a4a-dd81-4654-a8c3-2246d5eff332\n",
      "[I 2025-06-23 07:52:19,119] Trial 1 finished with value: 0.13369453547450366 and parameters: {'alpha': 0.3100245723322236, 'tol': 0.005731158434749817, 'fit_intercept': True, 'positive': False}. Best is trial 1 with value: 0.13369453547450366.\n",
      "[I 2025-06-23 07:52:19,658] Trial 2 finished with value: 0.1336943249265802 and parameters: {'alpha': 0.6382909553867678, 'tol': 0.00957922186618767, 'fit_intercept': True, 'positive': False}. Best is trial 1 with value: 0.13369453547450366.\n",
      "[I 2025-06-23 07:52:19,677] Trial 0 finished with value: 0.13369469522199282 and parameters: {'alpha': 0.060861002915722495, 'tol': 0.005131725347997013, 'fit_intercept': True, 'positive': False}. Best is trial 0 with value: 0.13369469522199282.\n",
      "[I 2025-06-23 07:52:21,352] Trial 3 finished with value: 0.13005938283777815 and parameters: {'alpha': 0.23994248331669443, 'tol': 0.002561139132476912, 'fit_intercept': True, 'positive': True}. Best is trial 0 with value: 0.13369469522199282.\n",
      "[I 2025-06-23 07:52:22,706] Trial 4 finished with value: 0.13369446471261356 and parameters: {'alpha': 0.420366589978165, 'tol': 0.0030825995885536746, 'fit_intercept': True, 'positive': False}. Best is trial 0 with value: 0.13369469522199282.\n",
      "[I 2025-06-23 07:52:23,109] Trial 5 finished with value: 0.13369443342905654 and parameters: {'alpha': 0.4691429505328282, 'tol': 0.004804528384465373, 'fit_intercept': True, 'positive': False}. Best is trial 0 with value: 0.13369469522199282.\n",
      "[I 2025-06-23 07:52:23,659] Trial 6 finished with value: 0.12952987621330422 and parameters: {'alpha': 0.584488679327925, 'tol': 0.0043143321224178716, 'fit_intercept': False, 'positive': True}. Best is trial 0 with value: 0.13369469522199282.\n",
      "[I 2025-06-23 07:52:25,386] Trial 7 finished with value: 0.12532322523980455 and parameters: {'alpha': 0.8997802682842486, 'tol': 0.008982447259278074, 'fit_intercept': True, 'positive': True}. Best is trial 0 with value: 0.13369469522199282.\n",
      "[I 2025-06-23 07:52:26,507] Trial 8 finished with value: 0.1295298582279084 and parameters: {'alpha': 0.7662613295995364, 'tol': 0.008824849548957778, 'fit_intercept': False, 'positive': True}. Best is trial 0 with value: 0.13369469522199282.\n",
      "[I 2025-06-23 07:52:26,837] Trial 9 finished with value: 0.13369458304275317 and parameters: {'alpha': 0.2358398272516471, 'tol': 0.004063849530784522, 'fit_intercept': True, 'positive': False}. Best is trial 0 with value: 0.13369469522199282.\n",
      "[I 2025-06-23 07:52:27,626] Trial 10 finished with value: 0.12532334231395487 and parameters: {'alpha': 0.12421145538837086, 'tol': 0.00826615826696471, 'fit_intercept': True, 'positive': True}. Best is trial 0 with value: 0.13369469522199282.\n",
      "[I 2025-06-23 07:52:28,921] Trial 11 finished with value: 0.1336947027043851 and parameters: {'alpha': 0.04918833598390704, 'tol': 0.006052702367747935, 'fit_intercept': True, 'positive': False}. Best is trial 11 with value: 0.1336947027043851.\n",
      "[I 2025-06-23 07:52:30,261] Trial 12 finished with value: 0.1295299162867969 and parameters: {'alpha': 0.17947812206487346, 'tol': 0.004722695646250526, 'fit_intercept': False, 'positive': True}. Best is trial 11 with value: 0.1336947027043851.\n",
      "[I 2025-06-23 07:52:30,863] Trial 13 finished with value: 0.12532333995847228 and parameters: {'alpha': 0.1398156144998991, 'tol': 0.008114103046290636, 'fit_intercept': True, 'positive': True}. Best is trial 11 with value: 0.1336947027043851.\n",
      "[I 2025-06-23 07:52:31,184] Trial 14 finished with value: 0.13369430456496648 and parameters: {'alpha': 0.67002888317662, 'tol': 0.0044044621905701235, 'fit_intercept': True, 'positive': False}. Best is trial 11 with value: 0.1336947027043851.\n",
      "[I 2025-06-23 07:52:32,745] Trial 15 finished with value: 0.129529844529366 and parameters: {'alpha': 0.9047080146435208, 'tol': 0.007751425811682079, 'fit_intercept': False, 'positive': True}. Best is trial 11 with value: 0.1336947027043851.\n",
      "[I 2025-06-23 07:52:34,388] Trial 16 finished with value: 0.13240647844614634 and parameters: {'alpha': 0.0169264934035519, 'tol': 0.0029533659103958706, 'fit_intercept': False, 'positive': True}. Best is trial 11 with value: 0.1336947027043851.\n",
      "[I 2025-06-23 07:52:34,420] Trial 17 finished with value: 0.13369469555839342 and parameters: {'alpha': 0.06033621607610873, 'tol': 0.0012716379877092273, 'fit_intercept': True, 'positive': False}. Best is trial 11 with value: 0.1336947027043851.\n",
      "[I 2025-06-23 07:52:34,806] Trial 18 finished with value: 0.12952987906072577 and parameters: {'alpha': 0.5557106849306989, 'tol': 0.009503115625951904, 'fit_intercept': False, 'positive': True}. Best is trial 11 with value: 0.1336947027043851.\n",
      "[I 2025-06-23 07:52:36,155] Trial 19 finished with value: 0.1336943767647034 and parameters: {'alpha': 0.5574838160055171, 'tol': 0.00010142308684738064, 'fit_intercept': True, 'positive': False}. Best is trial 11 with value: 0.1336947027043851.\n",
      "[I 2025-06-23 07:52:38,542] Trial 21 finished with value: 0.1253233297256567 and parameters: {'alpha': 0.20760403415739936, 'tol': 0.008409721459903612, 'fit_intercept': True, 'positive': True}. Best is trial 11 with value: 0.1336947027043851.\n",
      "[I 2025-06-23 07:52:38,549] Trial 20 finished with value: 0.12703596195856556 and parameters: {'alpha': 0.46800988200146276, 'tol': 0.003380098614804999, 'fit_intercept': True, 'positive': True}. Best is trial 11 with value: 0.1336947027043851.\n",
      "[I 2025-06-23 07:52:38,719] Trial 22 finished with value: 0.13369464709598103 and parameters: {'alpha': 0.1359339007089383, 'tol': 0.0027973888679734228, 'fit_intercept': True, 'positive': False}. Best is trial 11 with value: 0.1336947027043851.\n",
      "[I 2025-06-23 07:52:39,506] Trial 23 finished with value: 0.1373928989898781 and parameters: {'alpha': 0.5967297902201958, 'tol': 0.005708698904025767, 'fit_intercept': False, 'positive': False}. Best is trial 23 with value: 0.1373928989898781.\n",
      "[I 2025-06-23 07:52:41,948] Trial 25 finished with value: 0.1373927636321927 and parameters: {'alpha': 0.9109586573590777, 'tol': 0.004079051068027655, 'fit_intercept': False, 'positive': False}. Best is trial 23 with value: 0.1373928989898781.\n",
      "[I 2025-06-23 07:52:42,536] Trial 24 finished with value: 0.13447000814423196 and parameters: {'alpha': 0.29785514192447204, 'tol': 0.0018699748131052493, 'fit_intercept': False, 'positive': True}. Best is trial 23 with value: 0.1373928989898781.\n",
      "[I 2025-06-23 07:52:42,547] Trial 26 finished with value: 0.1295299113864361 and parameters: {'alpha': 0.22900461412388007, 'tol': 0.009256356011752499, 'fit_intercept': False, 'positive': True}. Best is trial 23 with value: 0.1373928989898781.\n",
      "[I 2025-06-23 07:52:43,481] Trial 27 finished with value: 0.13096954867745234 and parameters: {'alpha': 0.4800179581074845, 'tol': 0.0037412970015335487, 'fit_intercept': False, 'positive': True}. Best is trial 23 with value: 0.1373928989898781.\n",
      "[I 2025-06-23 07:52:45,625] Trial 28 finished with value: 0.133694260286232 and parameters: {'alpha': 0.7390419067530524, 'tol': 0.004278214952917797, 'fit_intercept': True, 'positive': False}. Best is trial 23 with value: 0.1373928989898781.\n",
      "[I 2025-06-23 07:52:46,011] Trial 29 finished with value: 0.1373929526268754 and parameters: {'alpha': 0.47215342715226705, 'tol': 0.0035107828284774334, 'fit_intercept': False, 'positive': False}. Best is trial 29 with value: 0.1373929526268754.\n",
      "[I 2025-06-23 07:52:46,207] Trial 30 finished with value: 0.13739281522508734 and parameters: {'alpha': 0.7912126899453227, 'tol': 0.0027350763154958325, 'fit_intercept': False, 'positive': False}. Best is trial 29 with value: 0.1373929526268754.\n",
      "[I 2025-06-23 07:52:47,100] Trial 31 finished with value: 0.13369431854356048 and parameters: {'alpha': 0.6482404073094242, 'tol': 0.0031454821494090773, 'fit_intercept': True, 'positive': False}. Best is trial 29 with value: 0.1373929526268754.\n",
      "[I 2025-06-23 07:52:49,070] Trial 32 finished with value: 0.13739291671821366 and parameters: {'alpha': 0.5555580144181876, 'tol': 0.0012429321683050487, 'fit_intercept': False, 'positive': False}. Best is trial 29 with value: 0.1373929526268754.\n",
      "[I 2025-06-23 07:52:49,456] Trial 33 finished with value: 0.1373928488993219 and parameters: {'alpha': 0.713038656892268, 'tol': 0.0038543862768618395, 'fit_intercept': False, 'positive': False}. Best is trial 29 with value: 0.1373929526268754.\n",
      "[I 2025-06-23 07:52:49,971] Trial 34 finished with value: 0.13369427226184263 and parameters: {'alpha': 0.7203773245113521, 'tol': 0.005795838866967667, 'fit_intercept': True, 'positive': False}. Best is trial 29 with value: 0.1373929526268754.\n",
      "[I 2025-06-23 07:52:51,742] Trial 35 finished with value: 0.12703595628402728 and parameters: {'alpha': 0.48516614237049005, 'tol': 0.003622776598492392, 'fit_intercept': True, 'positive': True}. Best is trial 29 with value: 0.1373929526268754.\n",
      "[I 2025-06-23 07:52:52,506] Trial 36 finished with value: 0.13739300148231762 and parameters: {'alpha': 0.35865311026047486, 'tol': 0.0028834110639434207, 'fit_intercept': False, 'positive': False}. Best is trial 36 with value: 0.13739300148231762.\n",
      "[I 2025-06-23 07:52:54,028] Trial 38 finished with value: 0.12952983544528146 and parameters: {'alpha': 0.9965178343018166, 'tol': 0.005666756364388305, 'fit_intercept': False, 'positive': True}. Best is trial 36 with value: 0.13739300148231762.\n",
      "[I 2025-06-23 07:52:54,040] Trial 37 finished with value: 0.13447000415302165 and parameters: {'alpha': 0.20953417231566962, 'tol': 0.0011189141089888127, 'fit_intercept': False, 'positive': True}. Best is trial 36 with value: 0.13739300148231762.\n",
      "[I 2025-06-23 07:52:55,211] Trial 39 finished with value: 0.13369435223135043 and parameters: {'alpha': 0.5957284283900098, 'tol': 0.009499519961486957, 'fit_intercept': True, 'positive': False}. Best is trial 36 with value: 0.13739300148231762.\n",
      "[I 2025-06-23 07:52:55,788] Trial 40 finished with value: 0.13739315395588145 and parameters: {'alpha': 0.004247350701617414, 'tol': 0.001068498937783065, 'fit_intercept': False, 'positive': False}. Best is trial 40 with value: 0.13739315395588145.\n",
      "[I 2025-06-23 07:52:57,889] Trial 42 finished with value: 0.1295298943381463 and parameters: {'alpha': 0.40130653155607987, 'tol': 0.005665357215882433, 'fit_intercept': False, 'positive': True}. Best is trial 40 with value: 0.13739315395588145.\n",
      "[I 2025-06-23 07:52:58,267] Trial 41 finished with value: 0.13005935264972437 and parameters: {'alpha': 0.756095707439243, 'tol': 0.0026561196955101154, 'fit_intercept': True, 'positive': True}. Best is trial 40 with value: 0.13739315395588145.\n",
      "[I 2025-06-23 07:52:59,094] Trial 43 finished with value: 0.1344699971538519 and parameters: {'alpha': 0.05465214376469629, 'tol': 0.001233951359633045, 'fit_intercept': False, 'positive': True}. Best is trial 40 with value: 0.13739315395588145.\n",
      "[I 2025-06-23 07:52:59,866] Trial 44 finished with value: 0.12532335414855028 and parameters: {'alpha': 0.04581181692245351, 'tol': 0.0051174780456263854, 'fit_intercept': True, 'positive': True}. Best is trial 40 with value: 0.13739315395588145.\n",
      "[I 2025-06-23 07:53:02,078] Trial 45 finished with value: 0.12952984570906984 and parameters: {'alpha': 0.8927851380233323, 'tol': 0.00605802808657994, 'fit_intercept': False, 'positive': True}. Best is trial 40 with value: 0.13739315395588145.\n",
      "[I 2025-06-23 07:53:02,283] Trial 46 finished with value: 0.1344700274782214 and parameters: {'alpha': 0.7257043333924711, 'tol': 0.001024345234930327, 'fit_intercept': False, 'positive': True}. Best is trial 40 with value: 0.13739315395588145.\n",
      "[I 2025-06-23 07:53:02,518] Trial 47 finished with value: 0.13739312147611046 and parameters: {'alpha': 0.07976555054761181, 'tol': 0.0066206725900593705, 'fit_intercept': False, 'positive': False}. Best is trial 40 with value: 0.13739315395588145.\n",
      "[I 2025-06-23 07:53:03,151] Trial 48 finished with value: 0.13739300388863634 and parameters: {'alpha': 0.3530620551233604, 'tol': 0.002761374948872933, 'fit_intercept': False, 'positive': False}. Best is trial 40 with value: 0.13739315395588145.\n",
      "[I 2025-06-23 07:53:05,940] Trial 50 finished with value: 0.13369428210598727 and parameters: {'alpha': 0.7050343735984269, 'tol': 0.008565843860878409, 'fit_intercept': True, 'positive': False}. Best is trial 40 with value: 0.13739315395588145.\n",
      "[I 2025-06-23 07:53:06,151] Trial 49 finished with value: 0.12703607841028008 and parameters: {'alpha': 0.11593316555515365, 'tol': 0.003391241276679293, 'fit_intercept': True, 'positive': True}. Best is trial 40 with value: 0.13739315395588145.\n",
      "[I 2025-06-23 07:53:06,918] Trial 51 finished with value: 0.1253232167002551 and parameters: {'alpha': 0.95635115740486, 'tol': 0.007035661964004833, 'fit_intercept': True, 'positive': True}. Best is trial 40 with value: 0.13739315395588145.\n",
      "[I 2025-06-23 07:53:06,937] Trial 52 finished with value: 0.13369432322469188 and parameters: {'alpha': 0.6409437660513408, 'tol': 0.003681066760861315, 'fit_intercept': True, 'positive': False}. Best is trial 40 with value: 0.13739315395588145.\n",
      "[I 2025-06-23 07:53:09,474] Trial 53 finished with value: 0.13739310392307186 and parameters: {'alpha': 0.12057264951038378, 'tol': 0.006530896692182877, 'fit_intercept': False, 'positive': False}. Best is trial 40 with value: 0.13739315395588145.\n",
      "[I 2025-06-23 07:53:09,842] Trial 54 finished with value: 0.137393006801927 and parameters: {'alpha': 0.34629296430952283, 'tol': 0.0023861486343872904, 'fit_intercept': False, 'positive': False}. Best is trial 40 with value: 0.13739315395588145.\n",
      "[I 2025-06-23 07:53:10,589] Trial 56 finished with value: 0.13739301797854275 and parameters: {'alpha': 0.320322940240971, 'tol': 0.0026075082638451256, 'fit_intercept': False, 'positive': False}. Best is trial 40 with value: 0.13739315395588145.\n",
      "[I 2025-06-23 07:53:10,617] Trial 55 finished with value: 0.13739314098057975 and parameters: {'alpha': 0.03441751510746328, 'tol': 0.006707137379375758, 'fit_intercept': False, 'positive': False}. Best is trial 40 with value: 0.13739315395588145.\n",
      "[I 2025-06-23 07:53:13,136] Trial 57 finished with value: 0.13739311602461887 and parameters: {'alpha': 0.09243950428892904, 'tol': 0.007759088302446964, 'fit_intercept': False, 'positive': False}. Best is trial 40 with value: 0.13739315395588145.\n",
      "[I 2025-06-23 07:53:13,507] Trial 58 finished with value: 0.1373930676756882 and parameters: {'alpha': 0.20482861982912395, 'tol': 0.007418314100115659, 'fit_intercept': False, 'positive': False}. Best is trial 40 with value: 0.13739315395588145.\n",
      "[I 2025-06-23 07:53:14,260] Trial 60 finished with value: 0.13739310659558407 and parameters: {'alpha': 0.11435985946544544, 'tol': 0.007830980952382303, 'fit_intercept': False, 'positive': False}. Best is trial 40 with value: 0.13739315395588145.\n",
      "[I 2025-06-23 07:53:14,281] Trial 59 finished with value: 0.13739312316405367 and parameters: {'alpha': 0.07584124782820616, 'tol': 0.00674975913575353, 'fit_intercept': False, 'positive': False}. Best is trial 40 with value: 0.13739315395588145.\n",
      "[I 2025-06-23 07:53:16,799] Trial 61 finished with value: 0.13739311654274325 and parameters: {'alpha': 0.09123495276916765, 'tol': 0.00674759607890102, 'fit_intercept': False, 'positive': False}. Best is trial 40 with value: 0.13739315395588145.\n",
      "[I 2025-06-23 07:53:17,165] Trial 62 finished with value: 0.13739311190003564 and parameters: {'alpha': 0.10202834887452135, 'tol': 0.007387518027371283, 'fit_intercept': False, 'positive': False}. Best is trial 40 with value: 0.13739315395588145.\n",
      "[I 2025-06-23 07:53:17,921] Trial 64 finished with value: 0.1373931469631281 and parameters: {'alpha': 0.020507144577544257, 'tol': 0.0003676367345128356, 'fit_intercept': False, 'positive': False}. Best is trial 40 with value: 0.13739315395588145.\n",
      "[I 2025-06-23 07:53:17,942] Trial 63 finished with value: 0.13739314603677813 and parameters: {'alpha': 0.022661082243075156, 'tol': 0.006437723410231482, 'fit_intercept': False, 'positive': False}. Best is trial 40 with value: 0.13739315395588145.\n",
      "[I 2025-06-23 07:53:20,450] Trial 65 finished with value: 0.13739315531382915 and parameters: {'alpha': 0.0010897362900901542, 'tol': 0.009492289990294358, 'fit_intercept': False, 'positive': False}. Best is trial 65 with value: 0.13739315531382915.\n",
      "[I 2025-06-23 07:53:20,845] Trial 66 finished with value: 0.13739313651144647 and parameters: {'alpha': 0.04480868038094915, 'tol': 0.0009484965524114053, 'fit_intercept': False, 'positive': False}. Best is trial 65 with value: 0.13739315531382915.\n",
      "[I 2025-06-23 07:53:21,627] Trial 67 finished with value: 0.13739315095583707 and parameters: {'alpha': 0.011223229415788141, 'tol': 0.0013673747177235568, 'fit_intercept': False, 'positive': False}. Best is trial 65 with value: 0.13739315531382915.\n",
      "[I 2025-06-23 07:53:21,632] Trial 68 finished with value: 0.13739314286165888 and parameters: {'alpha': 0.0300437545170429, 'tol': 0.0005181552630856787, 'fit_intercept': False, 'positive': False}. Best is trial 65 with value: 0.13739315531382915.\n",
      "[I 2025-06-23 07:53:24,518] Trial 69 finished with value: 0.1373931478187345 and parameters: {'alpha': 0.018517689732739217, 'tol': 0.00032318292203584664, 'fit_intercept': False, 'positive': False}. Best is trial 65 with value: 0.13739315531382915.\n",
      "[I 2025-06-23 07:53:24,520] Trial 70 finished with value: 0.13739314867136174 and parameters: {'alpha': 0.016535153567931667, 'tol': 0.0005097998876458873, 'fit_intercept': False, 'positive': False}. Best is trial 65 with value: 0.13739315531382915.\n",
      "[I 2025-06-23 07:53:25,304] Trial 71 finished with value: 0.13739308778809975 and parameters: {'alpha': 0.15807983165344208, 'tol': 0.0001376358730558964, 'fit_intercept': False, 'positive': False}. Best is trial 65 with value: 0.13739315531382915.\n",
      "[I 2025-06-23 07:53:25,328] Trial 72 finished with value: 0.13739315103392427 and parameters: {'alpha': 0.011041657769729478, 'tol': 0.00302131302830196, 'fit_intercept': False, 'positive': False}. Best is trial 65 with value: 0.13739315531382915.\n",
      "[I 2025-06-23 07:53:28,051] Trial 73 finished with value: 0.1373931528411019 and parameters: {'alpha': 0.006839513906728475, 'tol': 0.0016517360487909975, 'fit_intercept': False, 'positive': False}. Best is trial 65 with value: 0.13739315531382915.\n",
      "[I 2025-06-23 07:53:28,073] Trial 74 finished with value: 0.13739313977636744 and parameters: {'alpha': 0.037217448187217124, 'tol': 0.00040501286523933727, 'fit_intercept': False, 'positive': False}. Best is trial 65 with value: 0.13739315531382915.\n",
      "[I 2025-06-23 07:53:28,805] Trial 75 finished with value: 0.13739314691333496 and parameters: {'alpha': 0.02062292309561986, 'tol': 0.002860822633467386, 'fit_intercept': False, 'positive': False}. Best is trial 65 with value: 0.13739315531382915.\n",
      "[I 2025-06-23 07:53:29,016] Trial 76 finished with value: 0.13369469336230286 and parameters: {'alpha': 0.06376212330668411, 'tol': 0.009702183204390844, 'fit_intercept': True, 'positive': False}. Best is trial 65 with value: 0.13739315531382915.\n",
      "[I 2025-06-23 07:53:31,868] Trial 78 finished with value: 0.13739314085737717 and parameters: {'alpha': 0.03470397632652003, 'tol': 0.0036338618681035413, 'fit_intercept': False, 'positive': False}. Best is trial 65 with value: 0.13739315531382915.\n",
      "[I 2025-06-23 07:53:31,876] Trial 77 finished with value: 0.13739314869795485 and parameters: {'alpha': 0.016473318879653167, 'tol': 0.0026712062379628094, 'fit_intercept': False, 'positive': False}. Best is trial 65 with value: 0.13739315531382915.\n",
      "[I 2025-06-23 07:53:32,307] Trial 79 finished with value: 0.13739315033251953 and parameters: {'alpha': 0.01267259047864255, 'tol': 0.0026871512370563915, 'fit_intercept': False, 'positive': False}. Best is trial 65 with value: 0.13739315531382915.\n",
      "[I 2025-06-23 07:53:32,686] Trial 80 finished with value: 0.13739312705215825 and parameters: {'alpha': 0.06680165723765, 'tol': 0.002467131477666141, 'fit_intercept': False, 'positive': False}. Best is trial 65 with value: 0.13739315531382915.\n",
      "[I 2025-06-23 07:53:35,585] Trial 82 finished with value: 0.13739310388110465 and parameters: {'alpha': 0.12067020993650981, 'tol': 0.009917421606409097, 'fit_intercept': False, 'positive': False}. Best is trial 65 with value: 0.13739315531382915.\n",
      "[I 2025-06-23 07:53:35,589] Trial 81 finished with value: 0.1373931535357104 and parameters: {'alpha': 0.005224363364969499, 'tol': 0.002472791868234598, 'fit_intercept': False, 'positive': False}. Best is trial 65 with value: 0.13739315531382915.\n",
      "[I 2025-06-23 07:53:36,038] Trial 83 finished with value: 0.13739313758844818 and parameters: {'alpha': 0.042304569264492164, 'tol': 0.0028183452448409807, 'fit_intercept': False, 'positive': False}. Best is trial 65 with value: 0.13739315531382915.\n",
      "[I 2025-06-23 07:53:36,380] Trial 84 finished with value: 0.13739315038877217 and parameters: {'alpha': 0.01254178978522747, 'tol': 0.0023355036059222057, 'fit_intercept': False, 'positive': False}. Best is trial 65 with value: 0.13739315531382915.\n",
      "[I 2025-06-23 07:53:39,284] Trial 86 finished with value: 0.1373931468479476 and parameters: {'alpha': 0.02077496135022018, 'tol': 0.0023495424875325777, 'fit_intercept': False, 'positive': False}. Best is trial 65 with value: 0.13739315531382915.\n",
      "[I 2025-06-23 07:53:39,290] Trial 85 finished with value: 0.1373931548283738 and parameters: {'alpha': 0.002218560478080237, 'tol': 0.0030206465831015684, 'fit_intercept': False, 'positive': False}. Best is trial 65 with value: 0.13739315531382915.\n",
      "[I 2025-06-23 07:53:39,695] Trial 87 finished with value: 0.13739314366324717 and parameters: {'alpha': 0.028179941696882815, 'tol': 0.00255203679023543, 'fit_intercept': False, 'positive': False}. Best is trial 65 with value: 0.13739315531382915.\n",
      "[I 2025-06-23 07:53:39,907] Trial 88 finished with value: 0.13739313974857303 and parameters: {'alpha': 0.03728207309811382, 'tol': 0.0031466899729318083, 'fit_intercept': False, 'positive': False}. Best is trial 65 with value: 0.13739315531382915.\n",
      "[I 2025-06-23 07:53:42,936] Trial 90 finished with value: 0.1373931549455919 and parameters: {'alpha': 0.0019459948743235454, 'tol': 0.004121171554734719, 'fit_intercept': False, 'positive': False}. Best is trial 65 with value: 0.13739315531382915.\n",
      "[I 2025-06-23 07:53:42,955] Trial 89 finished with value: 0.13369472035319543 and parameters: {'alpha': 0.021655119343393127, 'tol': 0.002844081236811947, 'fit_intercept': True, 'positive': False}. Best is trial 65 with value: 0.13739315531382915.\n",
      "[I 2025-06-23 07:53:43,379] Trial 91 finished with value: 0.13369469907152634 and parameters: {'alpha': 0.05485568498371317, 'tol': 0.0019025154365348194, 'fit_intercept': True, 'positive': False}. Best is trial 65 with value: 0.13739315531382915.\n",
      "[I 2025-06-23 07:53:43,752] Trial 92 finished with value: 0.13369473099421972 and parameters: {'alpha': 0.00505396279970315, 'tol': 0.0014333859130848433, 'fit_intercept': True, 'positive': False}. Best is trial 65 with value: 0.13739315531382915.\n",
      "[I 2025-06-23 07:53:46,515] Trial 93 finished with value: 0.13739313915304793 and parameters: {'alpha': 0.038666731192554635, 'tol': 0.009814220099566555, 'fit_intercept': False, 'positive': False}. Best is trial 65 with value: 0.13739315531382915.\n",
      "[I 2025-06-23 07:53:46,912] Trial 94 finished with value: 0.1295299325039201 and parameters: {'alpha': 0.01557638501330747, 'tol': 0.009657060573791745, 'fit_intercept': False, 'positive': True}. Best is trial 65 with value: 0.13739315531382915.\n",
      "[I 2025-06-23 07:53:47,111] Trial 95 finished with value: 0.1373930578891019 and parameters: {'alpha': 0.2275745887859924, 'tol': 0.004352533482088127, 'fit_intercept': False, 'positive': False}. Best is trial 65 with value: 0.13739315531382915.\n",
      "[I 2025-06-23 07:53:47,318] Trial 96 finished with value: 0.13739314985827455 and parameters: {'alpha': 0.01377531925259723, 'tol': 0.004002057567259664, 'fit_intercept': False, 'positive': False}. Best is trial 65 with value: 0.13739315531382915.\n",
      "[I 2025-06-23 07:53:50,176] Trial 97 finished with value: 0.13739310997583556 and parameters: {'alpha': 0.10650166640697968, 'tol': 0.004243919335480517, 'fit_intercept': False, 'positive': False}. Best is trial 65 with value: 0.13739315531382915.\n",
      "[I 2025-06-23 07:53:50,546] Trial 98 finished with value: 0.1373931438754397 and parameters: {'alpha': 0.02768656115427881, 'tol': 0.0043669728479250715, 'fit_intercept': False, 'positive': False}. Best is trial 65 with value: 0.13739315531382915.\n",
      "[I 2025-06-23 07:53:50,755] Trial 99 finished with value: 0.137393131200201 and parameters: {'alpha': 0.057157530437292985, 'tol': 0.004486487936496167, 'fit_intercept': False, 'positive': False}. Best is trial 65 with value: 0.13739315531382915.\n",
      "[I 2025-06-23 07:53:50,947] Trial 100 finished with value: 0.13739307945731466 and parameters: {'alpha': 0.1774442807809715, 'tol': 0.002601923052052719, 'fit_intercept': False, 'positive': False}. Best is trial 65 with value: 0.13739315531382915.\n",
      "[I 2025-06-23 07:53:53,955] Trial 101 finished with value: 0.13739313034439404 and parameters: {'alpha': 0.05914728321653728, 'tol': 0.0026724579424328094, 'fit_intercept': False, 'positive': False}. Best is trial 65 with value: 0.13739315531382915.\n",
      "[I 2025-06-23 07:53:54,594] Trial 103 finished with value: 0.1373931500487171 and parameters: {'alpha': 0.013332496818074047, 'tol': 0.00238770105513788, 'fit_intercept': False, 'positive': False}. Best is trial 65 with value: 0.13739315531382915.\n",
      "[I 2025-06-23 07:53:54,804] Trial 102 finished with value: 0.13240648711486386 and parameters: {'alpha': 0.061542244950616595, 'tol': 0.002810590092952705, 'fit_intercept': False, 'positive': True}. Best is trial 65 with value: 0.13739315531382915.\n",
      "[I 2025-06-23 07:53:55,204] Trial 104 finished with value: 0.12952993226126933 and parameters: {'alpha': 0.01802878651123363, 'tol': 0.004978151402795986, 'fit_intercept': False, 'positive': True}. Best is trial 65 with value: 0.13739315531382915.\n",
      "[I 2025-06-23 07:53:58,189] Trial 105 finished with value: 0.1311218909978392 and parameters: {'alpha': 0.05743374668142524, 'tol': 0.0032176652063537854, 'fit_intercept': False, 'positive': True}. Best is trial 65 with value: 0.13739315531382915.\n",
      "[I 2025-06-23 07:53:58,204] Trial 106 finished with value: 0.1373931503060298 and parameters: {'alpha': 0.01273418521445431, 'tol': 0.002384359080975544, 'fit_intercept': False, 'positive': False}. Best is trial 65 with value: 0.13739315531382915.\n",
      "[I 2025-06-23 07:53:58,981] Trial 108 finished with value: 0.13739310726288326 and parameters: {'alpha': 0.11280857532181178, 'tol': 0.0024516587289940316, 'fit_intercept': False, 'positive': False}. Best is trial 65 with value: 0.13739315531382915.\n",
      "[I 2025-06-23 07:53:59,000] Trial 107 finished with value: 0.12952993245560046 and parameters: {'alpha': 0.01606473651255686, 'tol': 0.0050477116517650255, 'fit_intercept': False, 'positive': True}. Best is trial 65 with value: 0.13739315531382915.\n",
      "[I 2025-06-23 07:54:01,864] Trial 109 finished with value: 0.13739315447275327 and parameters: {'alpha': 0.0030454792388140573, 'tol': 0.0023540395830289424, 'fit_intercept': False, 'positive': False}. Best is trial 65 with value: 0.13739315531382915.\n",
      "[I 2025-06-23 07:54:01,869] Trial 110 finished with value: 0.13739314606007175 and parameters: {'alpha': 0.022606920477049028, 'tol': 0.0018824401936821788, 'fit_intercept': False, 'positive': False}. Best is trial 65 with value: 0.13739315531382915.\n",
      "[I 2025-06-23 07:54:02,676] Trial 111 finished with value: 0.13739314268843256 and parameters: {'alpha': 0.030446530671599772, 'tol': 0.0025086703893591493, 'fit_intercept': False, 'positive': False}. Best is trial 65 with value: 0.13739315531382915.\n",
      "[I 2025-06-23 07:54:02,701] Trial 112 finished with value: 0.13739315235635194 and parameters: {'alpha': 0.00796668346605798, 'tol': 0.0023370514738055553, 'fit_intercept': False, 'positive': False}. Best is trial 65 with value: 0.13739315531382915.\n",
      "[I 2025-06-23 07:54:05,597] Trial 113 finished with value: 0.13739314883180903 and parameters: {'alpha': 0.016162079000931057, 'tol': 0.0016125916283292175, 'fit_intercept': False, 'positive': False}. Best is trial 65 with value: 0.13739315531382915.\n",
      "[I 2025-06-23 07:54:05,602] Trial 114 finished with value: 0.1373931486557342 and parameters: {'alpha': 0.016571490880019215, 'tol': 0.00271486601051694, 'fit_intercept': False, 'positive': False}. Best is trial 65 with value: 0.13739315531382915.\n",
      "[I 2025-06-23 07:54:06,373] Trial 116 finished with value: 0.1373931386633275 and parameters: {'alpha': 0.03980537927685974, 'tol': 0.0019666923236286984, 'fit_intercept': False, 'positive': False}. Best is trial 65 with value: 0.13739315531382915.\n",
      "[I 2025-06-23 07:54:06,377] Trial 115 finished with value: 0.13739314062411362 and parameters: {'alpha': 0.03524634204828408, 'tol': 0.002177918264813525, 'fit_intercept': False, 'positive': False}. Best is trial 65 with value: 0.13739315531382915.\n",
      "[I 2025-06-23 07:54:09,272] Trial 118 finished with value: 0.1373930517878164 and parameters: {'alpha': 0.24175461513955732, 'tol': 0.0009114962120142228, 'fit_intercept': False, 'positive': False}. Best is trial 65 with value: 0.13739315531382915.\n",
      "[I 2025-06-23 07:54:09,311] Trial 117 finished with value: 0.13739305781140326 and parameters: {'alpha': 0.2277551714569115, 'tol': 0.0015136963519404275, 'fit_intercept': False, 'positive': False}. Best is trial 65 with value: 0.13739315531382915.\n",
      "[I 2025-06-23 07:54:09,894] Trial 119 finished with value: 0.13739304987520698 and parameters: {'alpha': 0.24619962907199147, 'tol': 0.002057757755221994, 'fit_intercept': False, 'positive': False}. Best is trial 65 with value: 0.13739315531382915.\n",
      "[I 2025-06-23 07:54:10,074] Trial 120 finished with value: 0.13739315529753893 and parameters: {'alpha': 0.0011276159508659576, 'tol': 0.004615775045509836, 'fit_intercept': False, 'positive': False}. Best is trial 65 with value: 0.13739315531382915.\n",
      "[I 2025-06-23 07:54:12,473] Trial 121 finished with value: 0.13739315415043435 and parameters: {'alpha': 0.0037949613936711203, 'tol': 0.004440958766403731, 'fit_intercept': False, 'positive': False}. Best is trial 65 with value: 0.13739315531382915.\n",
      "[I 2025-06-23 07:54:13,018] Trial 122 finished with value: 0.13739315352404521 and parameters: {'alpha': 0.0052514881326158, 'tol': 0.0021858790492347716, 'fit_intercept': False, 'positive': False}. Best is trial 65 with value: 0.13739315531382915.\n",
      "[I 2025-06-23 07:54:13,597] Trial 123 finished with value: 0.13739315568703336 and parameters: {'alpha': 0.00022192662048915648, 'tol': 0.002292613190543376, 'fit_intercept': False, 'positive': False}. Best is trial 123 with value: 0.13739315568703336.\n",
      "[I 2025-06-23 07:54:13,802] Trial 124 finished with value: 0.1336947102014321 and parameters: {'alpha': 0.0374926163536943, 'tol': 0.004800234202160937, 'fit_intercept': True, 'positive': False}. Best is trial 123 with value: 0.13739315568703336.\n",
      "[I 2025-06-23 07:54:16,515] Trial 125 finished with value: 0.13369464333011746 and parameters: {'alpha': 0.1418080275847179, 'tol': 0.005680157942525974, 'fit_intercept': True, 'positive': False}. Best is trial 123 with value: 0.13739315568703336.\n",
      "[I 2025-06-23 07:54:16,723] Trial 126 finished with value: 0.1373931193886039 and parameters: {'alpha': 0.08461875208005264, 'tol': 0.004972649451364037, 'fit_intercept': False, 'positive': False}. Best is trial 123 with value: 0.13739315568703336.\n",
      "[I 2025-06-23 07:54:17,282] Trial 127 finished with value: 0.1373931409910367 and parameters: {'alpha': 0.034393201590780506, 'tol': 0.005112101380188615, 'fit_intercept': False, 'positive': False}. Best is trial 123 with value: 0.13739315568703336.\n",
      "[I 2025-06-23 07:54:17,490] Trial 128 finished with value: 0.13739310422413376 and parameters: {'alpha': 0.1198727749403618, 'tol': 0.0045369589443997205, 'fit_intercept': False, 'positive': False}. Best is trial 123 with value: 0.13739315568703336.\n",
      "[I 2025-06-23 07:54:20,121] Trial 129 finished with value: 0.13739315389233905 and parameters: {'alpha': 0.0043951044451547685, 'tol': 0.004169629984588807, 'fit_intercept': False, 'positive': False}. Best is trial 123 with value: 0.13739315568703336.\n",
      "[I 2025-06-23 07:54:20,313] Trial 130 finished with value: 0.13739313988172489 and parameters: {'alpha': 0.0369724805061761, 'tol': 0.004345784531669214, 'fit_intercept': False, 'positive': False}. Best is trial 123 with value: 0.13739315568703336.\n",
      "[I 2025-06-23 07:54:20,880] Trial 131 finished with value: 0.13739313581468277 and parameters: {'alpha': 0.04642870179642487, 'tol': 0.004043126468110572, 'fit_intercept': False, 'positive': False}. Best is trial 123 with value: 0.13739315568703336.\n",
      "[I 2025-06-23 07:54:21,066] Trial 132 finished with value: 0.13739314850701984 and parameters: {'alpha': 0.01691728346063303, 'tol': 0.004981494623504466, 'fit_intercept': False, 'positive': False}. Best is trial 123 with value: 0.13739315568703336.\n",
      "[I 2025-06-23 07:54:23,911] Trial 133 finished with value: 0.1373931415333568 and parameters: {'alpha': 0.033132239014768194, 'tol': 0.003961998739994578, 'fit_intercept': False, 'positive': False}. Best is trial 123 with value: 0.13739315568703336.\n",
      "[I 2025-06-23 07:54:23,964] Trial 134 finished with value: 0.13739315212384318 and parameters: {'alpha': 0.008507325862163306, 'tol': 0.009323908189607925, 'fit_intercept': False, 'positive': False}. Best is trial 123 with value: 0.13739315568703336.\n",
      "[I 2025-06-23 07:54:24,730] Trial 136 finished with value: 0.13739315485563672 and parameters: {'alpha': 0.0021551664738513453, 'tol': 0.004934611404973207, 'fit_intercept': False, 'positive': False}. Best is trial 123 with value: 0.13739315568703336.\n",
      "[I 2025-06-23 07:54:24,734] Trial 135 finished with value: 0.13739312740882922 and parameters: {'alpha': 0.06597241153658258, 'tol': 0.004604807155159886, 'fit_intercept': False, 'positive': False}. Best is trial 123 with value: 0.13739315568703336.\n",
      "[I 2025-06-23 07:54:27,639] Trial 138 finished with value: 0.13739314200889766 and parameters: {'alpha': 0.03202654352414103, 'tol': 0.009432291904844441, 'fit_intercept': False, 'positive': False}. Best is trial 123 with value: 0.13739315568703336.\n",
      "[I 2025-06-23 07:54:27,642] Trial 137 finished with value: 0.1373931522345404 and parameters: {'alpha': 0.008249926543494095, 'tol': 0.0042903439362308475, 'fit_intercept': False, 'positive': False}. Best is trial 123 with value: 0.13739315568703336.\n",
      "[I 2025-06-23 07:54:28,419] Trial 140 finished with value: 0.13739315307620287 and parameters: {'alpha': 0.006292841868695909, 'tol': 0.00504588443800323, 'fit_intercept': False, 'positive': False}. Best is trial 123 with value: 0.13739315568703336.\n",
      "[I 2025-06-23 07:54:28,445] Trial 139 finished with value: 0.13739315015384188 and parameters: {'alpha': 0.013088057465266038, 'tol': 0.005791020210350578, 'fit_intercept': False, 'positive': False}. Best is trial 123 with value: 0.13739315568703336.\n",
      "[I 2025-06-23 07:54:31,272] Trial 141 finished with value: 0.13739314801735444 and parameters: {'alpha': 0.01805585769416023, 'tol': 0.0032822416900174724, 'fit_intercept': False, 'positive': False}. Best is trial 123 with value: 0.13739315568703336.\n",
      "[I 2025-06-23 07:54:31,293] Trial 142 finished with value: 0.13739315285514606 and parameters: {'alpha': 0.006806857261198704, 'tol': 0.003238876568687355, 'fit_intercept': False, 'positive': False}. Best is trial 123 with value: 0.13739315568703336.\n",
      "[I 2025-06-23 07:54:32,037] Trial 144 finished with value: 0.13739315101581065 and parameters: {'alpha': 0.01108377630391184, 'tol': 0.0043344047262086766, 'fit_intercept': False, 'positive': False}. Best is trial 123 with value: 0.13739315568703336.\n",
      "[I 2025-06-23 07:54:32,061] Trial 143 finished with value: 0.13739307895733835 and parameters: {'alpha': 0.17860642202212781, 'tol': 0.004971525432841144, 'fit_intercept': False, 'positive': False}. Best is trial 123 with value: 0.13739315568703336.\n",
      "[I 2025-06-23 07:54:34,756] Trial 145 finished with value: 0.1373931415660426 and parameters: {'alpha': 0.033056240244065366, 'tol': 0.004356294440064822, 'fit_intercept': False, 'positive': False}. Best is trial 123 with value: 0.13739315568703336.\n",
      "[I 2025-06-23 07:54:34,925] Trial 146 finished with value: 0.13739314580680137 and parameters: {'alpha': 0.023195819896068524, 'tol': 0.004029398752359139, 'fit_intercept': False, 'positive': False}. Best is trial 123 with value: 0.13739315568703336.\n",
      "[I 2025-06-23 07:54:35,697] Trial 148 finished with value: 0.1373931272025115 and parameters: {'alpha': 0.06645209219605701, 'tol': 0.005151530510371079, 'fit_intercept': False, 'positive': False}. Best is trial 123 with value: 0.13739315568703336.\n",
      "[I 2025-06-23 07:54:35,722] Trial 147 finished with value: 0.13739314337125977 and parameters: {'alpha': 0.028858856978017516, 'tol': 0.00458228346697157, 'fit_intercept': False, 'positive': False}. Best is trial 123 with value: 0.13739315568703336.\n",
      "[I 2025-06-23 07:54:38,358] Trial 150 finished with value: 0.13739313797129885 and parameters: {'alpha': 0.04141440901616009, 'tol': 0.005515131062005911, 'fit_intercept': False, 'positive': False}. Best is trial 123 with value: 0.13739315568703336.\n",
      "[I 2025-06-23 07:54:38,958] Trial 149 finished with value: 0.12532327913791003 and parameters: {'alpha': 0.5427276861786491, 'tol': 0.009938752646593527, 'fit_intercept': True, 'positive': True}. Best is trial 123 with value: 0.13739315568703336.\n",
      "[I 2025-06-23 07:54:39,153] Trial 151 finished with value: 0.13739315435356747 and parameters: {'alpha': 0.003322620084986543, 'tol': 0.004957713698285025, 'fit_intercept': False, 'positive': False}. Best is trial 123 with value: 0.13739315568703336.\n",
      "[I 2025-06-23 07:54:39,914] Trial 152 finished with value: 0.12532325641397496 and parameters: {'alpha': 0.6932644361045078, 'tol': 0.009040412818132552, 'fit_intercept': True, 'positive': True}. Best is trial 123 with value: 0.13739315568703336.\n",
      "[I 2025-06-23 07:54:41,857] Trial 153 finished with value: 0.1373931534391139 and parameters: {'alpha': 0.005448976525973042, 'tol': 0.0049112890216435395, 'fit_intercept': False, 'positive': False}. Best is trial 123 with value: 0.13739315568703336.\n",
      "[I 2025-06-23 07:54:42,435] Trial 154 finished with value: 0.1336941109021958 and parameters: {'alpha': 0.9718235139228836, 'tol': 0.008279191330449987, 'fit_intercept': True, 'positive': False}. Best is trial 123 with value: 0.13739315568703336.\n",
      "[I 2025-06-23 07:54:42,667] Trial 155 finished with value: 0.13739315234972263 and parameters: {'alpha': 0.007982098275723822, 'tol': 0.003983854076973221, 'fit_intercept': False, 'positive': False}. Best is trial 123 with value: 0.13739315568703336.\n",
      "[I 2025-06-23 07:54:43,591] Trial 156 finished with value: 0.13739275177352123 and parameters: {'alpha': 0.9384779508088463, 'tol': 0.007948269314712283, 'fit_intercept': False, 'positive': False}. Best is trial 123 with value: 0.13739315568703336.\n",
      "[I 2025-06-23 07:54:45,769] Trial 158 finished with value: 0.13739304713746944 and parameters: {'alpha': 0.2525622128000306, 'tol': 0.005235379240008374, 'fit_intercept': False, 'positive': False}. Best is trial 123 with value: 0.13739315568703336.\n",
      "[I 2025-06-23 07:54:46,208] Trial 159 finished with value: 0.1373931420251441 and parameters: {'alpha': 0.031988768568371996, 'tol': 0.005547970268609599, 'fit_intercept': False, 'positive': False}. Best is trial 123 with value: 0.13739315568703336.\n",
      "[I 2025-06-23 07:54:46,571] Trial 157 finished with value: 0.13006439955065432 and parameters: {'alpha': 0.187181158696634, 'tol': 0.0009243238125974627, 'fit_intercept': True, 'positive': True}. Best is trial 123 with value: 0.13739315568703336.\n",
      "[I 2025-06-23 07:54:48,337] Trial 160 finished with value: 0.13006810781759 and parameters: {'alpha': 0.4363319576388215, 'tol': 9.441052090537923e-05, 'fit_intercept': True, 'positive': True}. Best is trial 123 with value: 0.13739315568703336.\n",
      "[I 2025-06-23 07:54:49,598] Trial 161 finished with value: 0.13739315216616815 and parameters: {'alpha': 0.008408909578731163, 'tol': 0.004147924335628051, 'fit_intercept': False, 'positive': False}. Best is trial 123 with value: 0.13739315568703336.\n",
      "[I 2025-06-23 07:54:49,817] Trial 162 finished with value: 0.13739314558836327 and parameters: {'alpha': 0.023703727573534675, 'tol': 0.005232663163349103, 'fit_intercept': False, 'positive': False}. Best is trial 123 with value: 0.13739315568703336.\n",
      "[I 2025-06-23 07:54:50,032] Trial 163 finished with value: 0.1373929729101019 and parameters: {'alpha': 0.42503512060611537, 'tol': 0.008473165618947663, 'fit_intercept': False, 'positive': False}. Best is trial 123 with value: 0.13739315568703336.\n",
      "[I 2025-06-23 07:54:52,197] Trial 164 finished with value: 0.1373931528282301 and parameters: {'alpha': 0.006869444292140344, 'tol': 0.0035808689301574984, 'fit_intercept': False, 'positive': False}. Best is trial 123 with value: 0.13739315568703336.\n",
      "[I 2025-06-23 07:54:53,351] Trial 166 finished with value: 0.13739315571402172 and parameters: {'alpha': 0.000159170884539964, 'tol': 0.0014032318174112038, 'fit_intercept': False, 'positive': False}. Best is trial 166 with value: 0.13739315571402172.\n",
      "[I 2025-06-23 07:54:53,564] Trial 167 finished with value: 0.13739307232545547 and parameters: {'alpha': 0.19402124137764304, 'tol': 0.00375613378214114, 'fit_intercept': False, 'positive': False}. Best is trial 166 with value: 0.13739315571402172.\n",
      "[I 2025-06-23 07:54:53,754] Trial 165 finished with value: 0.125323307089964 and parameters: {'alpha': 0.3575565717225945, 'tol': 0.00668171817038569, 'fit_intercept': True, 'positive': True}. Best is trial 166 with value: 0.13739315571402172.\n",
      "[I 2025-06-23 07:54:56,040] Trial 168 finished with value: 0.137393154570499 and parameters: {'alpha': 0.0028181930199081082, 'tol': 0.0051561292095048845, 'fit_intercept': False, 'positive': False}. Best is trial 166 with value: 0.13739315571402172.\n",
      "[I 2025-06-23 07:54:57,004] Trial 169 finished with value: 0.13739315549286452 and parameters: {'alpha': 0.0006734265111017444, 'tol': 0.0002765572237936394, 'fit_intercept': False, 'positive': False}. Best is trial 166 with value: 0.13739315571402172.\n",
      "[I 2025-06-23 07:54:57,241] Trial 170 finished with value: 0.13739315526678927 and parameters: {'alpha': 0.001199117826122119, 'tol': 0.00396770146806962, 'fit_intercept': False, 'positive': False}. Best is trial 166 with value: 0.13739315571402172.\n",
      "[I 2025-06-23 07:54:57,273] Trial 171 finished with value: 0.1373931418494884 and parameters: {'alpha': 0.03239719142746455, 'tol': 0.0013529306485361855, 'fit_intercept': False, 'positive': False}. Best is trial 166 with value: 0.13739315571402172.\n",
      "[I 2025-06-23 07:54:59,796] Trial 172 finished with value: 0.13739313555721508 and parameters: {'alpha': 0.04702732974163174, 'tol': 0.006491274165157152, 'fit_intercept': False, 'positive': False}. Best is trial 166 with value: 0.13739315571402172.\n",
      "[I 2025-06-23 07:55:00,860] Trial 173 finished with value: 0.1373931544527388 and parameters: {'alpha': 0.0030920185746153486, 'tol': 0.0001111049030956301, 'fit_intercept': False, 'positive': False}. Best is trial 166 with value: 0.13739315571402172.\n",
      "[I 2025-06-23 07:55:00,927] Trial 174 finished with value: 0.13739309651897388 and parameters: {'alpha': 0.13778451778131726, 'tol': 0.0006907177534612586, 'fit_intercept': False, 'positive': False}. Best is trial 166 with value: 0.13739315571402172.\n",
      "[I 2025-06-23 07:55:00,933] Trial 175 finished with value: 0.13739307930250255 and parameters: {'alpha': 0.17780412519709246, 'tol': 0.0006542694817007881, 'fit_intercept': False, 'positive': False}. Best is trial 166 with value: 0.13739315571402172.\n",
      "[I 2025-06-23 07:55:03,535] Trial 176 finished with value: 0.13739313610927067 and parameters: {'alpha': 0.045743766211405884, 'tol': 0.000886178085008473, 'fit_intercept': False, 'positive': False}. Best is trial 166 with value: 0.13739315571402172.\n",
      "[I 2025-06-23 07:55:04,499] Trial 177 finished with value: 0.13739309650702597 and parameters: {'alpha': 0.1378122919827073, 'tol': 0.0004206038891029991, 'fit_intercept': False, 'positive': False}. Best is trial 166 with value: 0.13739315571402172.\n",
      "[I 2025-06-23 07:55:04,721] Trial 179 finished with value: 0.13739315321831166 and parameters: {'alpha': 0.00596240083819936, 'tol': 4.582375342193412e-05, 'fit_intercept': False, 'positive': False}. Best is trial 166 with value: 0.13739315571402172.\n",
      "[I 2025-06-23 07:55:04,725] Trial 178 finished with value: 0.13739314116741352 and parameters: {'alpha': 0.033983103575451465, 'tol': 0.0001201477363013822, 'fit_intercept': False, 'positive': False}. Best is trial 166 with value: 0.13739315571402172.\n",
      "[I 2025-06-23 07:55:07,215] Trial 180 finished with value: 0.13739314614920864 and parameters: {'alpha': 0.02239966079788888, 'tol': 0.000712713397238187, 'fit_intercept': False, 'positive': False}. Best is trial 166 with value: 0.13739315571402172.\n",
      "[I 2025-06-23 07:55:08,041] Trial 181 finished with value: 0.1373931456230784 and parameters: {'alpha': 0.023623008739530153, 'tol': 0.0015812423757214848, 'fit_intercept': False, 'positive': False}. Best is trial 166 with value: 0.13739315571402172.\n",
      "[I 2025-06-23 07:55:08,453] Trial 183 finished with value: 0.13739315481692108 and parameters: {'alpha': 0.002245191361545341, 'tol': 0.0011720637445100607, 'fit_intercept': False, 'positive': False}. Best is trial 166 with value: 0.13739315571402172.\n",
      "[I 2025-06-23 07:55:09,580] Trial 182 finished with value: 0.13447608275343254 and parameters: {'alpha': 0.017095366869494436, 'tol': 0.0004791034073988354, 'fit_intercept': False, 'positive': True}. Best is trial 166 with value: 0.13739315571402172.\n",
      "[I 2025-06-23 07:55:10,891] Trial 184 finished with value: 0.13369459188102645 and parameters: {'alpha': 0.22205531065853734, 'tol': 0.0005304716379195998, 'fit_intercept': True, 'positive': False}. Best is trial 166 with value: 0.13739315571402172.\n",
      "[I 2025-06-23 07:55:11,663] Trial 185 finished with value: 0.13739315554928133 and parameters: {'alpha': 0.0005422409865979221, 'tol': 0.001022140996961037, 'fit_intercept': False, 'positive': False}. Best is trial 166 with value: 0.13739315571402172.\n",
      "[I 2025-06-23 07:55:12,941] Trial 186 finished with value: 0.13446999543077134 and parameters: {'alpha': 0.01652306297927957, 'tol': 0.0012855870015412944, 'fit_intercept': False, 'positive': True}. Best is trial 166 with value: 0.13739315571402172.\n",
      "[I 2025-06-23 07:55:12,950] Trial 187 finished with value: 0.13739315307890587 and parameters: {'alpha': 0.006286556663161899, 'tol': 0.0008604021146321101, 'fit_intercept': False, 'positive': False}. Best is trial 166 with value: 0.13739315571402172.\n",
      "[I 2025-06-23 07:55:14,591] Trial 188 finished with value: 0.13739315290457552 and parameters: {'alpha': 0.006691920878717724, 'tol': 0.00024590334706566614, 'fit_intercept': False, 'positive': False}. Best is trial 166 with value: 0.13739315571402172.\n",
      "[I 2025-06-23 07:55:15,340] Trial 189 finished with value: 0.13739313435542103 and parameters: {'alpha': 0.04982156284763705, 'tol': 0.0013964559820723239, 'fit_intercept': False, 'positive': False}. Best is trial 166 with value: 0.13739315571402172.\n",
      "[I 2025-06-23 07:55:16,621] Trial 191 finished with value: 0.13739311271076216 and parameters: {'alpha': 0.10014358490278433, 'tol': 0.00018107854060944208, 'fit_intercept': False, 'positive': False}. Best is trial 166 with value: 0.13739315571402172.\n",
      "[I 2025-06-23 07:55:16,647] Trial 190 finished with value: 0.13739313850652038 and parameters: {'alpha': 0.040169970612973276, 'tol': 0.0005782924297756672, 'fit_intercept': False, 'positive': False}. Best is trial 166 with value: 0.13739315571402172.\n",
      "[I 2025-06-23 07:55:18,305] Trial 192 finished with value: 0.13739315422931 and parameters: {'alpha': 0.0036115534080089235, 'tol': 0.0011612491651589222, 'fit_intercept': False, 'positive': False}. Best is trial 166 with value: 0.13739315571402172.\n",
      "[I 2025-06-23 07:55:19,076] Trial 193 finished with value: 0.13739314433249417 and parameters: {'alpha': 0.026623836441588628, 'tol': 0.00014868735755825882, 'fit_intercept': False, 'positive': False}. Best is trial 166 with value: 0.13739315571402172.\n",
      "[I 2025-06-23 07:55:20,344] Trial 195 finished with value: 0.13739314880443443 and parameters: {'alpha': 0.016225731087806877, 'tol': 0.0023803927393658483, 'fit_intercept': False, 'positive': False}. Best is trial 166 with value: 0.13739315571402172.\n",
      "[I 2025-06-23 07:55:20,365] Trial 194 finished with value: 0.13739313344823806 and parameters: {'alpha': 0.05193079837492558, 'tol': 0.0019131445776085928, 'fit_intercept': False, 'positive': False}. Best is trial 166 with value: 0.13739315571402172.\n",
      "[I 2025-06-23 07:55:21,834] Trial 196 finished with value: 0.1373931509634789 and parameters: {'alpha': 0.011205460341248703, 'tol': 0.0018768554365576552, 'fit_intercept': False, 'positive': False}. Best is trial 166 with value: 0.13739315571402172.\n",
      "[I 2025-06-23 07:55:23,116] Trial 197 finished with value: 0.13369473242120833 and parameters: {'alpha': 0.002827675921805586, 'tol': 9.465485502414633e-05, 'fit_intercept': True, 'positive': False}. Best is trial 166 with value: 0.13739315571402172.\n",
      "[I 2025-06-23 07:55:23,881] Trial 199 finished with value: 0.13739315085588596 and parameters: {'alpha': 0.011455639711164842, 'tol': 0.009829351633067156, 'fit_intercept': False, 'positive': False}. Best is trial 166 with value: 0.13739315571402172.\n",
      "[I 2025-06-23 07:55:23,896] Trial 198 finished with value: 0.13739314763269275 and parameters: {'alpha': 0.01895027453009556, 'tol': 0.002521518754370661, 'fit_intercept': False, 'positive': False}. Best is trial 166 with value: 0.13739315571402172.\n",
      "[I 2025-06-23 07:55:25,711] Trial 200 finished with value: 0.13369452661783346 and parameters: {'alpha': 0.32383608451236273, 'tol': 0.00793569757234249, 'fit_intercept': True, 'positive': False}. Best is trial 166 with value: 0.13739315571402172.\n",
      "[I 2025-06-23 07:55:26,828] Trial 201 finished with value: 0.13739315062720417 and parameters: {'alpha': 0.011987379271972003, 'tol': 0.0016377468842249602, 'fit_intercept': False, 'positive': False}. Best is trial 166 with value: 0.13739315571402172.\n",
      "[I 2025-06-23 07:55:27,611] Trial 203 finished with value: 0.13739315425500775 and parameters: {'alpha': 0.0035517988578279173, 'tol': 0.005348288274958543, 'fit_intercept': False, 'positive': False}. Best is trial 166 with value: 0.13739315571402172.\n",
      "[I 2025-06-23 07:55:27,773] Trial 202 finished with value: 0.1373930671041908 and parameters: {'alpha': 0.2061569245072659, 'tol': 0.0028507192625311347, 'fit_intercept': False, 'positive': False}. Best is trial 166 with value: 0.13739315571402172.\n",
      "[I 2025-06-23 07:55:29,507] Trial 204 finished with value: 0.1373930658505773 and parameters: {'alpha': 0.20907062567433743, 'tol': 0.0035492655464042875, 'fit_intercept': False, 'positive': False}. Best is trial 166 with value: 0.13739315571402172.\n",
      "[I 2025-06-23 07:55:30,469] Trial 205 finished with value: 0.13739306321240646 and parameters: {'alpha': 0.21520231283303204, 'tol': 0.0027564496728065694, 'fit_intercept': False, 'positive': False}. Best is trial 166 with value: 0.13739315571402172.\n",
      "[I 2025-06-23 07:55:31,381] Trial 207 finished with value: 0.13739313479939924 and parameters: {'alpha': 0.04878929246618476, 'tol': 0.005097591019886845, 'fit_intercept': False, 'positive': False}. Best is trial 166 with value: 0.13739315571402172.\n",
      "[I 2025-06-23 07:55:31,573] Trial 206 finished with value: 0.13739314538542233 and parameters: {'alpha': 0.02417560080819349, 'tol': 0.0057513251012717365, 'fit_intercept': False, 'positive': False}. Best is trial 166 with value: 0.13739315571402172.\n",
      "[I 2025-06-23 07:55:33,084] Trial 208 finished with value: 0.1373931529478888 and parameters: {'alpha': 0.006591205933882172, 'tol': 0.00624133570175585, 'fit_intercept': False, 'positive': False}. Best is trial 166 with value: 0.13739315571402172.\n",
      "[I 2025-06-23 07:55:34,322] Trial 209 finished with value: 0.13739314508828565 and parameters: {'alpha': 0.02486649518322999, 'tol': 0.004816027741996375, 'fit_intercept': False, 'positive': False}. Best is trial 166 with value: 0.13739315571402172.\n",
      "[I 2025-06-23 07:55:35,084] Trial 210 finished with value: 0.13739314472049666 and parameters: {'alpha': 0.025721666669816286, 'tol': 0.006124855592186698, 'fit_intercept': False, 'positive': False}. Best is trial 166 with value: 0.13739315571402172.\n",
      "[I 2025-06-23 07:55:35,259] Trial 211 finished with value: 0.1373931519010028 and parameters: {'alpha': 0.009025486286452729, 'tol': 0.0025161121354415946, 'fit_intercept': False, 'positive': False}. Best is trial 166 with value: 0.13739315571402172.\n",
      "[I 2025-06-23 07:55:36,652] Trial 212 finished with value: 0.1373931279798185 and parameters: {'alpha': 0.06464488106832134, 'tol': 0.003972307760542796, 'fit_intercept': False, 'positive': False}. Best is trial 166 with value: 0.13739315571402172.\n",
      "[I 2025-06-23 07:55:37,954] Trial 213 finished with value: 0.13739315487902046 and parameters: {'alpha': 0.002100792509342417, 'tol': 0.0037468500263760337, 'fit_intercept': False, 'positive': False}. Best is trial 166 with value: 0.13739315571402172.\n",
      "[I 2025-06-23 07:55:38,594] Trial 214 finished with value: 0.13739315204029895 and parameters: {'alpha': 0.008701587565800015, 'tol': 0.0029428738960779817, 'fit_intercept': False, 'positive': False}. Best is trial 166 with value: 0.13739315571402172.\n",
      "[I 2025-06-23 07:55:39,728] Trial 215 finished with value: 0.13447610282438613 and parameters: {'alpha': 0.4616218193589541, 'tol': 9.600914211816726e-06, 'fit_intercept': False, 'positive': True}. Best is trial 166 with value: 0.13739315571402172.\n",
      "[I 2025-06-23 07:55:40,288] Trial 216 finished with value: 0.13739315501813004 and parameters: {'alpha': 0.0017773227366365727, 'tol': 0.0009694661378312334, 'fit_intercept': False, 'positive': False}. Best is trial 166 with value: 0.13739315571402172.\n",
      "[I 2025-06-23 07:55:41,721] Trial 217 finished with value: 0.1373931455460003 and parameters: {'alpha': 0.02380222892103164, 'tol': 0.0026900805180519152, 'fit_intercept': False, 'positive': False}. Best is trial 166 with value: 0.13739315571402172.\n",
      "[I 2025-06-23 07:55:42,301] Trial 218 finished with value: 0.13739276269653924 and parameters: {'alpha': 0.9131299995675617, 'tol': 0.0007737680056254274, 'fit_intercept': False, 'positive': False}. Best is trial 166 with value: 0.13739315571402172.\n",
      "[I 2025-06-23 07:55:43,923] Trial 219 finished with value: 0.13739315109371397 and parameters: {'alpha': 0.010902632238340298, 'tol': 0.00042271943022467056, 'fit_intercept': False, 'positive': False}. Best is trial 166 with value: 0.13739315571402172.\n",
      "[I 2025-06-23 07:55:43,966] Trial 220 finished with value: 0.13739315105342317 and parameters: {'alpha': 0.010996318110436162, 'tol': 0.001822170374244981, 'fit_intercept': False, 'positive': False}. Best is trial 166 with value: 0.13739315571402172.\n",
      "[I 2025-06-23 07:55:45,249] Trial 221 finished with value: 0.13739314431466448 and parameters: {'alpha': 0.026665293131041424, 'tol': 0.00029496528464589724, 'fit_intercept': False, 'positive': False}. Best is trial 166 with value: 0.13739315571402172.\n",
      "[I 2025-06-23 07:55:45,816] Trial 222 finished with value: 0.13739314396062724 and parameters: {'alpha': 0.027488486467797047, 'tol': 2.679459849392555e-05, 'fit_intercept': False, 'positive': False}. Best is trial 166 with value: 0.13739315571402172.\n",
      "[I 2025-06-23 07:55:47,416] Trial 223 finished with value: 0.13739315399098578 and parameters: {'alpha': 0.00416572360494024, 'tol': 0.0047796575517267195, 'fit_intercept': False, 'positive': False}. Best is trial 166 with value: 0.13739315571402172.\n",
      "[I 2025-06-23 07:55:47,615] Trial 224 finished with value: 0.1373931500797462 and parameters: {'alpha': 0.013260346901479408, 'tol': 0.004803532008402718, 'fit_intercept': False, 'positive': False}. Best is trial 166 with value: 0.13739315571402172.\n",
      "[I 2025-06-23 07:55:48,954] Trial 225 finished with value: 0.13739314039832332 and parameters: {'alpha': 0.03577133096537017, 'tol': 0.0051440973991072544, 'fit_intercept': False, 'positive': False}. Best is trial 166 with value: 0.13739315571402172.\n",
      "[I 2025-06-23 07:55:49,564] Trial 226 finished with value: 0.13739315569220456 and parameters: {'alpha': 0.00020990213945957004, 'tol': 0.0019300875940165513, 'fit_intercept': False, 'positive': False}. Best is trial 166 with value: 0.13739315571402172.\n",
      "[I 2025-06-23 07:55:50,935] Trial 228 finished with value: 0.13739315521756107 and parameters: {'alpha': 0.0013135878150734538, 'tol': 0.004796765001486336, 'fit_intercept': False, 'positive': False}. Best is trial 166 with value: 0.13739315571402172.\n",
      "[I 2025-06-23 07:55:52,074] Trial 227 finished with value: 0.13006808534256403 and parameters: {'alpha': 0.8207282763210758, 'tol': 0.00039039973476751033, 'fit_intercept': True, 'positive': True}. Best is trial 166 with value: 0.13739315571402172.\n",
      "[I 2025-06-23 07:55:52,690] Trial 229 finished with value: 0.1373931479427948 and parameters: {'alpha': 0.018229224169416136, 'tol': 0.0047388667445540855, 'fit_intercept': False, 'positive': False}. Best is trial 166 with value: 0.13739315571402172.\n",
      "[I 2025-06-23 07:55:53,229] Trial 230 finished with value: 0.13739315442361902 and parameters: {'alpha': 0.003159730435210748, 'tol': 0.0011739519572939595, 'fit_intercept': False, 'positive': False}. Best is trial 166 with value: 0.13739315571402172.\n",
      "[I 2025-06-23 07:55:55,010] Trial 231 finished with value: 0.13739306523131498 and parameters: {'alpha': 0.21050993436406995, 'tol': 0.00444001390824909, 'fit_intercept': False, 'positive': False}. Best is trial 166 with value: 0.13739315571402172.\n",
      "[I 2025-06-23 07:55:55,783] Trial 232 finished with value: 0.13739315400065305 and parameters: {'alpha': 0.004143244412655638, 'tol': 0.005168199501533909, 'fit_intercept': False, 'positive': False}. Best is trial 166 with value: 0.13739315571402172.\n",
      "[I 2025-06-23 07:55:56,361] Trial 233 finished with value: 0.1373931427701978 and parameters: {'alpha': 0.030256414858177462, 'tol': 0.0048640561783844845, 'fit_intercept': False, 'positive': False}. Best is trial 166 with value: 0.13739315571402172.\n",
      "[I 2025-06-23 07:55:56,926] Trial 234 finished with value: 0.13739302862016145 and parameters: {'alpha': 0.295594666820619, 'tol': 0.005346660494197556, 'fit_intercept': False, 'positive': False}. Best is trial 166 with value: 0.13739315571402172.\n",
      "[I 2025-06-23 07:55:58,726] Trial 235 finished with value: 0.13369472567250149 and parameters: {'alpha': 0.013356470766286873, 'tol': 0.004773397956819599, 'fit_intercept': True, 'positive': False}. Best is trial 166 with value: 0.13739315571402172.\n",
      "[I 2025-06-23 07:55:59,636] Trial 236 finished with value: 0.13369471814001035 and parameters: {'alpha': 0.02510788053968055, 'tol': 0.0067786741404203136, 'fit_intercept': True, 'positive': False}. Best is trial 166 with value: 0.13739315571402172.\n",
      "[I 2025-06-23 07:55:59,853] Trial 237 finished with value: 0.1373931496945766 and parameters: {'alpha': 0.01415595412456562, 'tol': 0.000873666195100246, 'fit_intercept': False, 'positive': False}. Best is trial 166 with value: 0.13739315571402172.\n",
      "[I 2025-06-23 07:56:00,751] Trial 238 finished with value: 0.13739314691550286 and parameters: {'alpha': 0.020617882134346663, 'tol': 0.0013889690381575584, 'fit_intercept': False, 'positive': False}. Best is trial 166 with value: 0.13739315571402172.\n",
      "[I 2025-06-23 07:56:02,307] Trial 239 finished with value: 0.1373931531189157 and parameters: {'alpha': 0.006193523055131512, 'tol': 0.0013064200627422593, 'fit_intercept': False, 'positive': False}. Best is trial 166 with value: 0.13739315571402172.\n",
      "[I 2025-06-23 07:56:03,415] Trial 240 finished with value: 0.13739315205298966 and parameters: {'alpha': 0.008672078323174296, 'tol': 0.0021919215083618807, 'fit_intercept': False, 'positive': False}. Best is trial 166 with value: 0.13739315571402172.\n",
      "[I 2025-06-23 07:56:03,627] Trial 241 finished with value: 0.13739307302187576 and parameters: {'alpha': 0.19240254119368086, 'tol': 0.0017456262020222766, 'fit_intercept': False, 'positive': False}. Best is trial 166 with value: 0.13739315571402172.\n",
      "[I 2025-06-23 07:56:04,535] Trial 242 finished with value: 0.13739308052764945 and parameters: {'alpha': 0.17495639260838558, 'tol': 0.002053135628298797, 'fit_intercept': False, 'positive': False}. Best is trial 166 with value: 0.13739315571402172.\n",
      "[I 2025-06-23 07:56:06,181] Trial 243 finished with value: 0.1373931522722902 and parameters: {'alpha': 0.008162148670868476, 'tol': 0.005865485482684737, 'fit_intercept': False, 'positive': False}. Best is trial 166 with value: 0.13739315571402172.\n",
      "[I 2025-06-23 07:56:07,109] Trial 244 finished with value: 0.13739315185301249 and parameters: {'alpha': 0.009137075930475299, 'tol': 0.0046949365165765335, 'fit_intercept': False, 'positive': False}. Best is trial 166 with value: 0.13739315571402172.\n",
      "[I 2025-06-23 07:56:07,327] Trial 245 finished with value: 0.1373931519862256 and parameters: {'alpha': 0.008827321570235323, 'tol': 0.00565847623425187, 'fit_intercept': False, 'positive': False}. Best is trial 166 with value: 0.13739315571402172.\n",
      "[I 2025-06-23 07:56:08,237] Trial 246 finished with value: 0.13739315514153938 and parameters: {'alpha': 0.0014903602713292354, 'tol': 0.0048181295732311275, 'fit_intercept': False, 'positive': False}. Best is trial 166 with value: 0.13739315571402172.\n",
      "[I 2025-06-23 07:56:09,849] Trial 247 finished with value: 0.137393143389016 and parameters: {'alpha': 0.028817570947529805, 'tol': 0.0038384889304044615, 'fit_intercept': False, 'positive': False}. Best is trial 166 with value: 0.13739315571402172.\n",
      "[I 2025-06-23 07:56:10,761] Trial 248 finished with value: 0.13739315008920489 and parameters: {'alpha': 0.013238353445709936, 'tol': 0.004414635623732183, 'fit_intercept': False, 'positive': False}. Best is trial 166 with value: 0.13739315571402172.\n",
      "[I 2025-06-23 07:56:10,973] Trial 249 finished with value: 0.1373931540295423 and parameters: {'alpha': 0.004076069059880396, 'tol': 0.004279935554686826, 'fit_intercept': False, 'positive': False}. Best is trial 166 with value: 0.13739315571402172.\n",
      "[I 2025-06-23 07:56:11,903] Trial 250 finished with value: 0.13739314633749108 and parameters: {'alpha': 0.021961869263960612, 'tol': 0.004685343917321734, 'fit_intercept': False, 'positive': False}. Best is trial 166 with value: 0.13739315571402172.\n",
      "[I 2025-06-23 07:56:13,527] Trial 251 finished with value: 0.13739315191289095 and parameters: {'alpha': 0.008997843254400796, 'tol': 0.004347762643449824, 'fit_intercept': False, 'positive': False}. Best is trial 166 with value: 0.13739315571402172.\n",
      "[I 2025-06-23 07:56:14,435] Trial 252 finished with value: 0.1373931540797338 and parameters: {'alpha': 0.003959359737390053, 'tol': 0.003536796614090424, 'fit_intercept': False, 'positive': False}. Best is trial 166 with value: 0.13739315571402172.\n",
      "[I 2025-06-23 07:56:14,645] Trial 253 finished with value: 0.1373930740665743 and parameters: {'alpha': 0.1899743213899053, 'tol': 0.004283998524899804, 'fit_intercept': False, 'positive': False}. Best is trial 166 with value: 0.13739315571402172.\n",
      "[I 2025-06-23 07:56:15,571] Trial 254 finished with value: 0.1373931546301468 and parameters: {'alpha': 0.0026794948091416865, 'tol': 0.0037876013855181424, 'fit_intercept': False, 'positive': False}. Best is trial 166 with value: 0.13739315571402172.\n",
      "[I 2025-06-23 07:56:16,910] Trial 255 finished with value: 0.1373931524018796 and parameters: {'alpha': 0.007860819959504214, 'tol': 0.0031534669604032207, 'fit_intercept': False, 'positive': False}. Best is trial 166 with value: 0.13739315571402172.\n",
      "[I 2025-06-23 07:56:18,058] Trial 257 finished with value: 0.13739315553770295 and parameters: {'alpha': 0.0005691641053622836, 'tol': 5.842687969534005e-06, 'fit_intercept': False, 'positive': False}. Best is trial 166 with value: 0.13739315571402172.\n",
      "[I 2025-06-23 07:56:18,596] Trial 256 finished with value: 0.12532325477117948 and parameters: {'alpha': 0.704147276928488, 'tol': 0.005177065909684235, 'fit_intercept': True, 'positive': True}. Best is trial 166 with value: 0.13739315571402172.\n",
      "[I 2025-06-23 07:56:19,335] Trial 258 finished with value: 0.12952991382647105 and parameters: {'alpha': 0.20434390726750645, 'tol': 0.005678191573000096, 'fit_intercept': False, 'positive': True}. Best is trial 166 with value: 0.13739315571402172.\n",
      "[I 2025-06-23 07:56:20,422] Trial 259 finished with value: 0.13739307029397332 and parameters: {'alpha': 0.19874301377471157, 'tol': 0.00021169919400033585, 'fit_intercept': False, 'positive': False}. Best is trial 166 with value: 0.13739315571402172.\n",
      "[I 2025-06-23 07:56:21,886] Trial 260 finished with value: 0.13739313825296343 and parameters: {'alpha': 0.040759513981839544, 'tol': 8.455061000319614e-06, 'fit_intercept': False, 'positive': False}. Best is trial 166 with value: 0.13739315571402172.\n",
      "[I 2025-06-23 07:56:22,262] Trial 261 finished with value: 0.13739314248106416 and parameters: {'alpha': 0.030928691535920493, 'tol': 0.0008509169179878501, 'fit_intercept': False, 'positive': False}. Best is trial 166 with value: 0.13739315571402172.\n",
      "[I 2025-06-23 07:56:23,371] Trial 262 finished with value: 0.13739315065853305 and parameters: {'alpha': 0.011914532213895726, 'tol': 0.0004292872963228421, 'fit_intercept': False, 'positive': False}. Best is trial 166 with value: 0.13739315571402172.\n",
      "[I 2025-06-23 07:56:24,297] Trial 263 finished with value: 0.13739315292546336 and parameters: {'alpha': 0.0066433511822441725, 'tol': 0.0015059362444198288, 'fit_intercept': False, 'positive': False}. Best is trial 166 with value: 0.13739315571402172.\n",
      "[I 2025-06-23 07:56:25,443] Trial 264 finished with value: 0.137393148656322 and parameters: {'alpha': 0.016570124138992327, 'tol': 3.4957773906675246e-05, 'fit_intercept': False, 'positive': False}. Best is trial 166 with value: 0.13739315571402172.\n",
      "[I 2025-06-23 07:56:25,787] Trial 265 finished with value: 0.13739315540502833 and parameters: {'alpha': 0.0008776716658001841, 'tol': 0.0006866940691100064, 'fit_intercept': False, 'positive': False}. Best is trial 166 with value: 0.13739315571402172.\n",
      "[I 2025-06-23 07:56:27,300] Trial 266 finished with value: 0.12952987266837 and parameters: {'alpha': 0.6203162098411458, 'tol': 0.0066042915270335895, 'fit_intercept': False, 'positive': True}. Best is trial 166 with value: 0.13739315571402172.\n",
      "[I 2025-06-23 07:56:27,844] Trial 267 finished with value: 0.1373931503878707 and parameters: {'alpha': 0.012543885992829306, 'tol': 0.0014888201491473872, 'fit_intercept': False, 'positive': False}. Best is trial 166 with value: 0.13739315571402172.\n",
      "[I 2025-06-23 07:56:29,101] Trial 268 finished with value: 0.13739309097825608 and parameters: {'alpha': 0.15066427289089324, 'tol': 0.0023648420102739525, 'fit_intercept': False, 'positive': False}. Best is trial 166 with value: 0.13739315571402172.\n",
      "[I 2025-06-23 07:56:29,158] Trial 269 finished with value: 0.13739306805605359 and parameters: {'alpha': 0.20394455243551554, 'tol': 0.0008570957658282925, 'fit_intercept': False, 'positive': False}. Best is trial 166 with value: 0.13739315571402172.\n",
      "[I 2025-06-23 07:56:31,189] Trial 270 finished with value: 0.13739305229278803 and parameters: {'alpha': 0.24058102482896362, 'tol': 0.00024301628485575647, 'fit_intercept': False, 'positive': False}. Best is trial 166 with value: 0.13739315571402172.\n",
      "[I 2025-06-23 07:56:32,130] Trial 271 finished with value: 0.12952993065672663 and parameters: {'alpha': 0.03424543829298362, 'tol': 0.00738975434454834, 'fit_intercept': False, 'positive': True}. Best is trial 166 with value: 0.13739315571402172.\n",
      "[I 2025-06-23 07:56:32,710] Trial 272 finished with value: 0.13739304336793526 and parameters: {'alpha': 0.2613225784219877, 'tol': 0.009418053768053967, 'fit_intercept': False, 'positive': False}. Best is trial 166 with value: 0.13739315571402172.\n",
      "[I 2025-06-23 07:56:32,928] Trial 273 finished with value: 0.13739306031919415 and parameters: {'alpha': 0.22192667783867237, 'tol': 0.006326188079694312, 'fit_intercept': False, 'positive': False}. Best is trial 166 with value: 0.13739315571402172.\n",
      "[I 2025-06-23 07:56:34,829] Trial 274 finished with value: 0.13739306309481383 and parameters: {'alpha': 0.21547562196547554, 'tol': 0.00920260367440509, 'fit_intercept': False, 'positive': False}. Best is trial 166 with value: 0.13739315571402172.\n",
      "[I 2025-06-23 07:56:35,912] Trial 275 finished with value: 0.13739315031566737 and parameters: {'alpha': 0.012711775647408828, 'tol': 0.003121539548799826, 'fit_intercept': False, 'positive': False}. Best is trial 166 with value: 0.13739315571402172.\n",
      "[I 2025-06-23 07:56:36,322] Trial 276 finished with value: 0.13739315031709184 and parameters: {'alpha': 0.012708463312593586, 'tol': 0.0011247659187088917, 'fit_intercept': False, 'positive': False}. Best is trial 166 with value: 0.13739315571402172.\n",
      "[I 2025-06-23 07:56:36,874] Trial 277 finished with value: 0.13739315577070427 and parameters: {'alpha': 2.736696001561e-05, 'tol': 0.0005401063505450422, 'fit_intercept': False, 'positive': False}. Best is trial 277 with value: 0.13739315577070427.\n",
      "[I 2025-06-23 07:56:38,364] Trial 278 finished with value: 0.13739314899371238 and parameters: {'alpha': 0.01578561858999146, 'tol': 0.0014313535043193615, 'fit_intercept': False, 'positive': False}. Best is trial 277 with value: 0.13739315577070427.\n",
      "[I 2025-06-23 07:56:39,925] Trial 279 finished with value: 0.1336946089350636 and parameters: {'alpha': 0.19545641737718145, 'tol': 0.0034622949659149724, 'fit_intercept': True, 'positive': False}. Best is trial 277 with value: 0.13739315577070427.\n",
      "[I 2025-06-23 07:56:40,128] Trial 280 finished with value: 0.13739315440037933 and parameters: {'alpha': 0.0032137691448912136, 'tol': 0.0012534786265376578, 'fit_intercept': False, 'positive': False}. Best is trial 277 with value: 0.13739315577070427.\n",
      "[I 2025-06-23 07:56:40,340] Trial 281 finished with value: 0.13739310748955483 and parameters: {'alpha': 0.11228162638510467, 'tol': 0.00023195237073207018, 'fit_intercept': False, 'positive': False}. Best is trial 277 with value: 0.13739315577070427.\n",
      "[I 2025-06-23 07:56:41,925] Trial 282 finished with value: 0.13739315516764034 and parameters: {'alpha': 0.0014296679670824394, 'tol': 0.0016516000169895287, 'fit_intercept': False, 'positive': False}. Best is trial 277 with value: 0.13739315577070427.\n",
      "[I 2025-06-23 07:56:43,556] Trial 283 finished with value: 0.13739315569734498 and parameters: {'alpha': 0.0001979489261820849, 'tol': 0.0007685870866303115, 'fit_intercept': False, 'positive': False}. Best is trial 277 with value: 0.13739315577070427.\n",
      "[I 2025-06-23 07:56:43,769] Trial 284 finished with value: 0.13739315178894468 and parameters: {'alpha': 0.009286049477273538, 'tol': 1.3253183541034113e-05, 'fit_intercept': False, 'positive': False}. Best is trial 277 with value: 0.13739315577070427.\n",
      "[I 2025-06-23 07:56:43,984] Trial 285 finished with value: 0.13739314557156668 and parameters: {'alpha': 0.02374278253708921, 'tol': 0.0005185038482135643, 'fit_intercept': False, 'positive': False}. Best is trial 277 with value: 0.13739315577070427.\n",
      "[I 2025-06-23 07:56:45,577] Trial 286 finished with value: 0.13739315243545364 and parameters: {'alpha': 0.007782751748682177, 'tol': 0.0009777427869799489, 'fit_intercept': False, 'positive': False}. Best is trial 277 with value: 0.13739315577070427.\n",
      "[I 2025-06-23 07:56:47,210] Trial 287 finished with value: 0.1373931497598989 and parameters: {'alpha': 0.014004064980573116, 'tol': 0.0003666032857621759, 'fit_intercept': False, 'positive': False}. Best is trial 277 with value: 0.13739315577070427.\n",
      "[I 2025-06-23 07:56:47,264] Trial 288 finished with value: 0.13739314264987484 and parameters: {'alpha': 0.030536182750519683, 'tol': 7.104879472209219e-05, 'fit_intercept': False, 'positive': False}. Best is trial 277 with value: 0.13739315577070427.\n",
      "[I 2025-06-23 07:56:47,639] Trial 289 finished with value: 0.1373930767752118 and parameters: {'alpha': 0.18367850595273033, 'tol': 0.002293702575397614, 'fit_intercept': False, 'positive': False}. Best is trial 277 with value: 0.13739315577070427.\n",
      "[I 2025-06-23 07:56:49,268] Trial 290 finished with value: 0.13739307375096407 and parameters: {'alpha': 0.190707903678766, 'tol': 0.0026311898767223457, 'fit_intercept': False, 'positive': False}. Best is trial 277 with value: 0.13739315577070427.\n",
      "[I 2025-06-23 07:56:50,898] Trial 291 finished with value: 0.1373931405127855 and parameters: {'alpha': 0.03550519287251396, 'tol': 0.008854030406699926, 'fit_intercept': False, 'positive': False}. Best is trial 277 with value: 0.13739315577070427.\n",
      "[I 2025-06-23 07:56:50,962] Trial 292 finished with value: 0.1373930819578044 and parameters: {'alpha': 0.17163211688943383, 'tol': 0.0021156769894623453, 'fit_intercept': False, 'positive': False}. Best is trial 277 with value: 0.13739315577070427.\n",
      "[I 2025-06-23 07:56:51,338] Trial 293 finished with value: 0.13739315558843032 and parameters: {'alpha': 0.00045120802886211846, 'tol': 0.0019095327222786863, 'fit_intercept': False, 'positive': False}. Best is trial 277 with value: 0.13739315577070427.\n",
      "[I 2025-06-23 07:56:53,033] Trial 294 finished with value: 0.1336941416973358 and parameters: {'alpha': 0.9238423571308004, 'tol': 0.00313173861698615, 'fit_intercept': True, 'positive': False}. Best is trial 277 with value: 0.13739315577070427.\n",
      "[I 2025-06-23 07:56:54,508] Trial 295 finished with value: 0.13739315304955219 and parameters: {'alpha': 0.006354811698114943, 'tol': 0.002505562455127882, 'fit_intercept': False, 'positive': False}. Best is trial 277 with value: 0.13739315577070427.\n",
      "[I 2025-06-23 07:56:55,087] Trial 297 finished with value: 0.13739313193680727 and parameters: {'alpha': 0.055444912353837486, 'tol': 0.0025701174278702954, 'fit_intercept': False, 'positive': False}. Best is trial 277 with value: 0.13739315577070427.\n",
      "[I 2025-06-23 07:56:55,310] Trial 296 finished with value: 0.13447003724106188 and parameters: {'alpha': 0.9417561544160272, 'tol': 0.0024944681236803057, 'fit_intercept': False, 'positive': True}. Best is trial 277 with value: 0.13739315577070427.\n",
      "[I 2025-06-23 07:56:56,245] Trial 298 finished with value: 0.1373931517516608 and parameters: {'alpha': 0.009372743750814268, 'tol': 0.002677637092188538, 'fit_intercept': False, 'positive': False}. Best is trial 277 with value: 0.13739315577070427.\n",
      "[I 2025-06-23 07:56:58,181] Trial 299 finished with value: 0.1373931501791493 and parameters: {'alpha': 0.013029211833333495, 'tol': 0.0020168030374451726, 'fit_intercept': False, 'positive': False}. Best is trial 277 with value: 0.13739315577070427.\n",
      "[I 2025-06-23 07:56:58,745] Trial 300 finished with value: 0.13739313349226367 and parameters: {'alpha': 0.05182843746591381, 'tol': 0.002450390226541095, 'fit_intercept': False, 'positive': False}. Best is trial 277 with value: 0.13739315577070427.\n",
      "[I 2025-06-23 07:56:58,951] Trial 301 finished with value: 0.13739312272484094 and parameters: {'alpha': 0.07686237756556984, 'tol': 0.0025854362333425163, 'fit_intercept': False, 'positive': False}. Best is trial 277 with value: 0.13739315577070427.\n",
      "[I 2025-06-23 07:56:59,899] Trial 302 finished with value: 0.13739315379110043 and parameters: {'alpha': 0.004630512019147317, 'tol': 0.002467938505524376, 'fit_intercept': False, 'positive': False}. Best is trial 277 with value: 0.13739315577070427.\n",
      "[I 2025-06-23 07:57:01,740] Trial 303 finished with value: 0.13739314640100558 and parameters: {'alpha': 0.02181418615383133, 'tol': 0.0028194403840009646, 'fit_intercept': False, 'positive': False}. Best is trial 277 with value: 0.13739315577070427.\n",
      "[I 2025-06-23 07:57:02,337] Trial 304 finished with value: 0.13739315029385335 and parameters: {'alpha': 0.012762498181349894, 'tol': 0.001718742414151419, 'fit_intercept': False, 'positive': False}. Best is trial 277 with value: 0.13739315577070427.\n",
      "[I 2025-06-23 07:57:03,307] Trial 305 finished with value: 0.13240651702956763 and parameters: {'alpha': 0.2155071247589105, 'tol': 0.0027180884081536598, 'fit_intercept': False, 'positive': True}. Best is trial 277 with value: 0.13739315577070427.\n",
      "[I 2025-06-23 07:57:04,068] Trial 306 finished with value: 0.13446999865212866 and parameters: {'alpha': 0.08780677274897138, 'tol': 0.002445828500608261, 'fit_intercept': False, 'positive': True}. Best is trial 277 with value: 0.13739315577070427.\n",
      "[I 2025-06-23 07:57:05,367] Trial 307 finished with value: 0.13369471700262398 and parameters: {'alpha': 0.02688229573908255, 'tol': 0.0018786253778275968, 'fit_intercept': True, 'positive': False}. Best is trial 277 with value: 0.13739315577070427.\n",
      "[I 2025-06-23 07:57:05,801] Trial 308 finished with value: 0.1373931556590825 and parameters: {'alpha': 0.00028692056418329803, 'tol': 0.0013914865046451138, 'fit_intercept': False, 'positive': False}. Best is trial 277 with value: 0.13739315577070427.\n",
      "[I 2025-06-23 07:57:06,935] Trial 309 finished with value: 0.13739308542886652 and parameters: {'alpha': 0.16356382192084987, 'tol': 0.0020543061352389096, 'fit_intercept': False, 'positive': False}. Best is trial 277 with value: 0.13739315577070427.\n",
      "[I 2025-06-23 07:57:08,017] Trial 310 finished with value: 0.1373930729257338 and parameters: {'alpha': 0.19262600563481763, 'tol': 0.0009776521365474394, 'fit_intercept': False, 'positive': False}. Best is trial 277 with value: 0.13739315577070427.\n",
      "[I 2025-06-23 07:57:09,118] Trial 311 finished with value: 0.13739314983035422 and parameters: {'alpha': 0.013840240509730917, 'tol': 0.0030886903384434537, 'fit_intercept': False, 'positive': False}. Best is trial 277 with value: 0.13739315577070427.\n",
      "[I 2025-06-23 07:57:09,682] Trial 312 finished with value: 0.137393155770103 and parameters: {'alpha': 2.876505390647301e-05, 'tol': 0.0008280016252801973, 'fit_intercept': False, 'positive': False}. Best is trial 277 with value: 0.13739315577070427.\n",
      "[I 2025-06-23 07:57:10,755] Trial 313 finished with value: 0.13739315087578624 and parameters: {'alpha': 0.011409366707580217, 'tol': 0.00048146191755756896, 'fit_intercept': False, 'positive': False}. Best is trial 277 with value: 0.13739315577070427.\n",
      "[I 2025-06-23 07:57:11,530] Trial 314 finished with value: 0.13739315537692487 and parameters: {'alpha': 0.0009430204726220764, 'tol': 0.0012374920247508624, 'fit_intercept': False, 'positive': False}. Best is trial 277 with value: 0.13739315577070427.\n",
      "[I 2025-06-23 07:57:12,814] Trial 315 finished with value: 0.1373931529006861 and parameters: {'alpha': 0.006700964876706077, 'tol': 3.226545009308229e-05, 'fit_intercept': False, 'positive': False}. Best is trial 277 with value: 0.13739315577070427.\n",
      "[I 2025-06-23 07:57:13,349] Trial 316 finished with value: 0.13739315573408808 and parameters: {'alpha': 0.00011251048788896965, 'tol': 0.0016353833907384588, 'fit_intercept': False, 'positive': False}. Best is trial 277 with value: 0.13739315577070427.\n",
      "[I 2025-06-23 07:57:14,260] Trial 317 finished with value: 0.13739315131272495 and parameters: {'alpha': 0.010393378181841613, 'tol': 0.0009670839701711274, 'fit_intercept': False, 'positive': False}. Best is trial 277 with value: 0.13739315577070427.\n",
      "[I 2025-06-23 07:57:15,190] Trial 318 finished with value: 0.13739308982412707 and parameters: {'alpha': 0.15334707415498333, 'tol': 0.0011772211327230164, 'fit_intercept': False, 'positive': False}. Best is trial 277 with value: 0.13739315577070427.\n",
      "[I 2025-06-23 07:57:16,791] Trial 319 finished with value: 0.13739315231182808 and parameters: {'alpha': 0.008070212980208769, 'tol': 0.0017671404710420742, 'fit_intercept': False, 'positive': False}. Best is trial 277 with value: 0.13739315577070427.\n",
      "[I 2025-06-23 07:57:16,845] Trial 320 finished with value: 0.1373931513120344 and parameters: {'alpha': 0.010394984073457925, 'tol': 0.0010451576116981146, 'fit_intercept': False, 'positive': False}. Best is trial 277 with value: 0.13739315577070427.\n",
      "[I 2025-06-23 07:57:17,932] Trial 321 finished with value: 0.13739315374019076 and parameters: {'alpha': 0.004748890944082616, 'tol': 0.0016851577707328019, 'fit_intercept': False, 'positive': False}. Best is trial 277 with value: 0.13739315577070427.\n",
      "[I 2025-06-23 07:57:18,836] Trial 322 finished with value: 0.13739314083686344 and parameters: {'alpha': 0.03475167307933942, 'tol': 0.0018298896040889355, 'fit_intercept': False, 'positive': False}. Best is trial 277 with value: 0.13739315577070427.\n",
      "[I 2025-06-23 07:57:20,459] Trial 323 finished with value: 0.13739310417737902 and parameters: {'alpha': 0.1199814649981618, 'tol': 0.0011448696236830088, 'fit_intercept': False, 'positive': False}. Best is trial 277 with value: 0.13739315577070427.\n",
      "[I 2025-06-23 07:57:20,676] Trial 324 finished with value: 0.13739307635659095 and parameters: {'alpha': 0.1846515320563948, 'tol': 0.0014110525688701796, 'fit_intercept': False, 'positive': False}. Best is trial 277 with value: 0.13739315577070427.\n",
      "[I 2025-06-23 07:57:21,615] Trial 325 finished with value: 0.1373931493917236 and parameters: {'alpha': 0.014860155163860118, 'tol': 0.001603545765759249, 'fit_intercept': False, 'positive': False}. Best is trial 277 with value: 0.13739315577070427.\n",
      "[I 2025-06-23 07:57:22,555] Trial 326 finished with value: 0.13739307139992146 and parameters: {'alpha': 0.19617246543209893, 'tol': 0.00014676900067865585, 'fit_intercept': False, 'positive': False}. Best is trial 277 with value: 0.13739315577070427.\n",
      "[I 2025-06-23 07:57:24,045] Trial 327 finished with value: 0.1373930546393499 and parameters: {'alpha': 0.2351274074318462, 'tol': 0.00016027892500356493, 'fit_intercept': False, 'positive': False}. Best is trial 277 with value: 0.13739315577070427.\n",
      "[I 2025-06-23 07:57:24,115] Trial 328 finished with value: 0.13739315453359052 and parameters: {'alpha': 0.0029040156325724547, 'tol': 0.0020416360253867317, 'fit_intercept': False, 'positive': False}. Best is trial 277 with value: 0.13739315577070427.\n",
      "[I 2025-06-23 07:57:25,434] Trial 329 finished with value: 0.13739315384629092 and parameters: {'alpha': 0.004502178836861503, 'tol': 0.009322498918641642, 'fit_intercept': False, 'positive': False}. Best is trial 277 with value: 0.13739315577070427.\n",
      "[I 2025-06-23 07:57:27,146] Trial 330 finished with value: 0.13447608533107908 and parameters: {'alpha': 0.07418345159183679, 'tol': 0.0001945497161319168, 'fit_intercept': False, 'positive': True}. Best is trial 277 with value: 0.13739315577070427.\n",
      "[I 2025-06-23 07:57:27,686] Trial 331 finished with value: 0.13739314973756148 and parameters: {'alpha': 0.014056004466749669, 'tol': 0.0021638786205094036, 'fit_intercept': False, 'positive': False}. Best is trial 277 with value: 0.13739315577070427.\n",
      "[I 2025-06-23 07:57:27,910] Trial 332 finished with value: 0.13739314370035927 and parameters: {'alpha': 0.02809365030095788, 'tol': 0.007983646489584802, 'fit_intercept': False, 'positive': False}. Best is trial 277 with value: 0.13739315577070427.\n",
      "[I 2025-06-23 07:57:29,185] Trial 333 finished with value: 0.13739315306215216 and parameters: {'alpha': 0.006325513591545765, 'tol': 0.0005205566599298626, 'fit_intercept': False, 'positive': False}. Best is trial 277 with value: 0.13739315577070427.\n",
      "[I 2025-06-23 07:57:30,794] Trial 334 finished with value: 0.137393151713563 and parameters: {'alpha': 0.009461330728157523, 'tol': 0.000270183151605919, 'fit_intercept': False, 'positive': False}. Best is trial 277 with value: 0.13739315577070427.\n",
      "[I 2025-06-23 07:57:31,208] Trial 335 finished with value: 0.13739315044197875 and parameters: {'alpha': 0.012418072045787414, 'tol': 0.00030295431198581243, 'fit_intercept': False, 'positive': False}. Best is trial 277 with value: 0.13739315577070427.\n",
      "[I 2025-06-23 07:57:31,577] Trial 336 finished with value: 0.13739315471954205 and parameters: {'alpha': 0.002471625352682062, 'tol': 0.0009786135675349714, 'fit_intercept': False, 'positive': False}. Best is trial 277 with value: 0.13739315577070427.\n",
      "[I 2025-06-23 07:57:33,032] Trial 337 finished with value: 0.13739315505087524 and parameters: {'alpha': 0.0017011807047511267, 'tol': 0.00029850801074813964, 'fit_intercept': False, 'positive': False}. Best is trial 277 with value: 0.13739315577070427.\n",
      "[I 2025-06-23 07:57:34,286] Trial 338 finished with value: 0.13739315504527888 and parameters: {'alpha': 0.0017141937994564539, 'tol': 0.001243980919471021, 'fit_intercept': False, 'positive': False}. Best is trial 277 with value: 0.13739315577070427.\n",
      "[I 2025-06-23 07:57:34,864] Trial 339 finished with value: 0.13739306959471542 and parameters: {'alpha': 0.200368287110384, 'tol': 0.003376881751431477, 'fit_intercept': False, 'positive': False}. Best is trial 277 with value: 0.13739315577070427.\n",
      "[I 2025-06-23 07:57:35,217] Trial 340 finished with value: 0.13739315070794833 and parameters: {'alpha': 0.011799629899580345, 'tol': 0.001973254415699951, 'fit_intercept': False, 'positive': False}. Best is trial 277 with value: 0.13739315577070427.\n",
      "[I 2025-06-23 07:57:36,704] Trial 341 finished with value: 0.13739315528545995 and parameters: {'alpha': 0.0011557029564948289, 'tol': 0.00112301787147564, 'fit_intercept': False, 'positive': False}. Best is trial 277 with value: 0.13739315577070427.\n",
      "[I 2025-06-23 07:57:38,035] Trial 342 finished with value: 0.13739315129023366 and parameters: {'alpha': 0.010445676055415196, 'tol': 0.0005940335072791828, 'fit_intercept': False, 'positive': False}. Best is trial 277 with value: 0.13739315577070427.\n",
      "[I 2025-06-23 07:57:38,600] Trial 343 finished with value: 0.13739308385509355 and parameters: {'alpha': 0.16722198929623364, 'tol': 0.0014273435982504307, 'fit_intercept': False, 'positive': False}. Best is trial 277 with value: 0.13739315577070427.\n",
      "[I 2025-06-23 07:57:38,649] Trial 344 finished with value: 0.13739285076353255 and parameters: {'alpha': 0.7087105411807025, 'tol': 0.008410799956289417, 'fit_intercept': False, 'positive': False}. Best is trial 277 with value: 0.13739315577070427.\n",
      "[I 2025-06-23 07:57:40,410] Trial 345 finished with value: 0.13739284351059203 and parameters: {'alpha': 0.7255493774579032, 'tol': 0.008936229207352993, 'fit_intercept': False, 'positive': False}. Best is trial 277 with value: 0.13739315577070427.\n",
      "[I 2025-06-23 07:57:41,841] Trial 346 finished with value: 0.13739308178470824 and parameters: {'alpha': 0.17203446566139796, 'tol': 0.0006166182638558585, 'fit_intercept': False, 'positive': False}. Best is trial 277 with value: 0.13739315577070427.\n",
      "[I 2025-06-23 07:57:42,390] Trial 348 finished with value: 0.13739315348563924 and parameters: {'alpha': 0.005340792608208276, 'tol': 0.0012539862971711116, 'fit_intercept': False, 'positive': False}. Best is trial 277 with value: 0.13739315577070427.\n",
      "[I 2025-06-23 07:57:42,401] Trial 347 finished with value: 0.13739314918214643 and parameters: {'alpha': 0.015347468190659722, 'tol': 1.2302799237152052e-05, 'fit_intercept': False, 'positive': False}. Best is trial 277 with value: 0.13739315577070427.\n",
      "[I 2025-06-23 07:57:44,026] Trial 349 finished with value: 0.13739315131160962 and parameters: {'alpha': 0.01039597168864689, 'tol': 0.0006461843929777349, 'fit_intercept': False, 'positive': False}. Best is trial 277 with value: 0.13739315577070427.\n",
      "[I 2025-06-23 07:57:45,507] Trial 350 finished with value: 0.13739315338816244 and parameters: {'alpha': 0.005567452399366893, 'tol': 0.001821821580938277, 'fit_intercept': False, 'positive': False}. Best is trial 277 with value: 0.13739315577070427.\n",
      "[I 2025-06-23 07:57:46,061] Trial 352 finished with value: 0.1373931532423466 and parameters: {'alpha': 0.005906513285897207, 'tol': 0.00015822638931258025, 'fit_intercept': False, 'positive': False}. Best is trial 277 with value: 0.13739315577070427.\n",
      "[I 2025-06-23 07:57:46,097] Trial 351 finished with value: 0.137393150579444 and parameters: {'alpha': 0.012098432945012474, 'tol': 0.0007730169540436241, 'fit_intercept': False, 'positive': False}. Best is trial 277 with value: 0.13739315577070427.\n",
      "[I 2025-06-23 07:57:47,378] Trial 353 finished with value: 0.1373931508500501 and parameters: {'alpha': 0.011469209419127022, 'tol': 0.0014253986965176645, 'fit_intercept': False, 'positive': False}. Best is trial 277 with value: 0.13739315577070427.\n",
      "[I 2025-06-23 07:57:49,299] Trial 354 finished with value: 0.1336946812280545 and parameters: {'alpha': 0.08269128838214895, 'tol': 0.0007882617143341528, 'fit_intercept': True, 'positive': False}. Best is trial 277 with value: 0.13739315577070427.\n",
      "[I 2025-06-23 07:57:49,501] Trial 355 finished with value: 0.13739309671955147 and parameters: {'alpha': 0.13731825547093482, 'tol': 0.0014332463691070375, 'fit_intercept': False, 'positive': False}. Best is trial 277 with value: 0.13739315577070427.\n",
      "[I 2025-06-23 07:57:49,710] Trial 356 finished with value: 0.1373931490245802 and parameters: {'alpha': 0.015713844286401858, 'tol': 0.0006229163909286767, 'fit_intercept': False, 'positive': False}. Best is trial 277 with value: 0.13739315577070427.\n",
      "[I 2025-06-23 07:57:51,137] Trial 357 finished with value: 0.1373931533341664 and parameters: {'alpha': 0.005693007701355255, 'tol': 0.0012104247646272468, 'fit_intercept': False, 'positive': False}. Best is trial 277 with value: 0.13739315577070427.\n",
      "[I 2025-06-23 07:57:53,134] Trial 358 finished with value: 0.13739307835110376 and parameters: {'alpha': 0.18001554509393705, 'tol': 0.0017572974056238341, 'fit_intercept': False, 'positive': False}. Best is trial 277 with value: 0.13739315577070427.\n",
      "[I 2025-06-23 07:57:53,165] Trial 359 finished with value: 0.1373930747314356 and parameters: {'alpha': 0.18842896066319562, 'tol': 0.00039129019746116827, 'fit_intercept': False, 'positive': False}. Best is trial 277 with value: 0.13739315577070427.\n",
      "[I 2025-06-23 07:57:53,373] Trial 360 finished with value: 0.13739308904576042 and parameters: {'alpha': 0.1551563979678936, 'tol': 0.00013774038335604972, 'fit_intercept': False, 'positive': False}. Best is trial 277 with value: 0.13739315577070427.\n",
      "[I 2025-06-23 07:57:54,857] Trial 361 finished with value: 0.13739308462155703 and parameters: {'alpha': 0.1654403818921766, 'tol': 0.0014064415639902404, 'fit_intercept': False, 'positive': False}. Best is trial 277 with value: 0.13739315577070427.\n",
      "[I 2025-06-23 07:57:56,835] Trial 363 finished with value: 0.13739308994565597 and parameters: {'alpha': 0.15306457805588639, 'tol': 0.0017346797470305687, 'fit_intercept': False, 'positive': False}. Best is trial 277 with value: 0.13739315577070427.\n",
      "[I 2025-06-23 07:57:56,863] Trial 362 finished with value: 0.13739315408453684 and parameters: {'alpha': 0.0039481912854726665, 'tol': 3.547247573126855e-05, 'fit_intercept': False, 'positive': False}. Best is trial 277 with value: 0.13739315577070427.\n",
      "[I 2025-06-23 07:57:57,069] Trial 364 finished with value: 0.13739315276149483 and parameters: {'alpha': 0.007024621229887978, 'tol': 0.00041831205358837625, 'fit_intercept': False, 'positive': False}. Best is trial 277 with value: 0.13739315577070427.\n",
      "[I 2025-06-23 07:57:58,507] Trial 365 finished with value: 0.13739315390139045 and parameters: {'alpha': 0.004374057464316532, 'tol': 0.0013522047727370678, 'fit_intercept': False, 'positive': False}. Best is trial 277 with value: 0.13739315577070427.\n",
      "[I 2025-06-23 07:58:00,456] Trial 366 finished with value: 0.13739315129012625 and parameters: {'alpha': 0.010445925760566879, 'tol': 0.0010479563741788947, 'fit_intercept': False, 'positive': False}. Best is trial 277 with value: 0.13739315577070427.\n",
      "[I 2025-06-23 07:58:00,678] Trial 367 finished with value: 0.13739314714085826 and parameters: {'alpha': 0.020093887237987624, 'tol': 0.0011721639485036347, 'fit_intercept': False, 'positive': False}. Best is trial 277 with value: 0.13739315577070427.\n",
      "[I 2025-06-23 07:58:00,688] Trial 368 finished with value: 0.13739315545724143 and parameters: {'alpha': 0.0007562607228699554, 'tol': 0.0019195094903818647, 'fit_intercept': False, 'positive': False}. Best is trial 277 with value: 0.13739315577070427.\n",
      "[I 2025-06-23 07:58:02,008] Trial 369 finished with value: 0.13739315559731746 and parameters: {'alpha': 0.00043054272321407555, 'tol': 0.000984661368661917, 'fit_intercept': False, 'positive': False}. Best is trial 277 with value: 0.13739315577070427.\n",
      "[I 2025-06-23 07:58:04,056] Trial 370 finished with value: 0.13369430367270316 and parameters: {'alpha': 0.6714196340281651, 'tol': 0.0003783625078123097, 'fit_intercept': True, 'positive': False}. Best is trial 277 with value: 0.13739315577070427.\n",
      "[I 2025-06-23 07:58:04,092] Trial 371 finished with value: 0.13739315276866076 and parameters: {'alpha': 0.007007958599461086, 'tol': 0.001088050714487219, 'fit_intercept': False, 'positive': False}. Best is trial 277 with value: 0.13739315577070427.\n",
      "[I 2025-06-23 07:58:04,901] Trial 372 finished with value: 0.13446999508503107 and parameters: {'alpha': 0.008872387983210304, 'tol': 0.0012315530124706836, 'fit_intercept': False, 'positive': True}. Best is trial 277 with value: 0.13739315577070427.\n",
      "[I 2025-06-23 07:58:05,857] Trial 373 finished with value: 0.13369472984579986 and parameters: {'alpha': 0.006845641409763844, 'tol': 0.0017505910176335857, 'fit_intercept': True, 'positive': False}. Best is trial 277 with value: 0.13739315577070427.\n",
      "[I 2025-06-23 07:58:07,767] Trial 375 finished with value: 0.1373931549782427 and parameters: {'alpha': 0.0018700722573739724, 'tol': 0.0011953017035577454, 'fit_intercept': False, 'positive': False}. Best is trial 277 with value: 0.13739315577070427.\n",
      "[I 2025-06-23 07:58:08,569] Trial 376 finished with value: 0.13739315085426687 and parameters: {'alpha': 0.01145940437812903, 'tol': 0.0022575902110743675, 'fit_intercept': False, 'positive': False}. Best is trial 277 with value: 0.13739315577070427.\n",
      "[I 2025-06-23 07:58:08,574] Trial 374 finished with value: 0.1344699962360563 and parameters: {'alpha': 0.03434274519425244, 'tol': 0.0020101089835607828, 'fit_intercept': False, 'positive': True}. Best is trial 277 with value: 0.13739315577070427.\n",
      "[I 2025-06-23 07:58:09,516] Trial 377 finished with value: 0.13739314952333379 and parameters: {'alpha': 0.014554132188345696, 'tol': 0.001601564702618761, 'fit_intercept': False, 'positive': False}. Best is trial 277 with value: 0.13739315577070427.\n",
      "[I 2025-06-23 07:58:11,372] Trial 378 finished with value: 0.1373930883802975 and parameters: {'alpha': 0.15670326961494213, 'tol': 0.0014247134950470118, 'fit_intercept': False, 'positive': False}. Best is trial 277 with value: 0.13739315577070427.\n",
      "[I 2025-06-23 07:58:12,271] Trial 379 finished with value: 0.13739307666001274 and parameters: {'alpha': 0.1839462702406179, 'tol': 0.0015119193689288074, 'fit_intercept': False, 'positive': False}. Best is trial 277 with value: 0.13739315577070427.\n",
      "[I 2025-06-23 07:58:12,330] Trial 380 finished with value: 0.1373930957708908 and parameters: {'alpha': 0.13952350632887336, 'tol': 0.0018105135731414316, 'fit_intercept': False, 'positive': False}. Best is trial 277 with value: 0.13739315577070427.\n",
      "[I 2025-06-23 07:58:13,428] Trial 381 finished with value: 0.1373930834810545 and parameters: {'alpha': 0.16809142255373669, 'tol': 0.00214845671752077, 'fit_intercept': False, 'positive': False}. Best is trial 277 with value: 0.13739315577070427.\n",
      "[I 2025-06-23 07:58:14,714] Trial 382 finished with value: 0.1373930938180825 and parameters: {'alpha': 0.14406295893312826, 'tol': 0.0020298706314639207, 'fit_intercept': False, 'positive': False}. Best is trial 277 with value: 0.13739315577070427.\n",
      "[I 2025-06-23 07:58:15,821] Trial 384 finished with value: 0.13739314338791966 and parameters: {'alpha': 0.028820120217857695, 'tol': 0.0024098278052878458, 'fit_intercept': False, 'positive': False}. Best is trial 277 with value: 0.13739315577070427.\n",
      "[I 2025-06-23 07:58:16,390] Trial 383 finished with value: 0.12532334995715713 and parameters: {'alpha': 0.07357818738409605, 'tol': 0.009241048802599568, 'fit_intercept': True, 'positive': True}. Best is trial 277 with value: 0.13739315577070427.\n",
      "[I 2025-06-23 07:58:16,957] Trial 385 finished with value: 0.13369411389134486 and parameters: {'alpha': 0.967166334355321, 'tol': 0.00018100580081012018, 'fit_intercept': True, 'positive': False}. Best is trial 277 with value: 0.13739315577070427.\n",
      "[I 2025-06-23 07:58:18,701] Trial 386 finished with value: 0.1373931495962208 and parameters: {'alpha': 0.014384653424484153, 'tol': 0.0014142591610114212, 'fit_intercept': False, 'positive': False}. Best is trial 277 with value: 0.13739315577070427.\n",
      "[I 2025-06-23 07:58:19,448] Trial 387 finished with value: 0.13739315448142445 and parameters: {'alpha': 0.0030253163520028857, 'tol': 0.0012304231993081614, 'fit_intercept': False, 'positive': False}. Best is trial 277 with value: 0.13739315577070427.\n",
      "[I 2025-06-23 07:58:20,176] Trial 388 finished with value: 0.13739315027463886 and parameters: {'alpha': 0.012807176332757065, 'tol': 0.002180819591168854, 'fit_intercept': False, 'positive': False}. Best is trial 277 with value: 0.13739315577070427.\n",
      "[I 2025-06-23 07:58:20,546] Trial 389 finished with value: 0.13739315366361468 and parameters: {'alpha': 0.004926951159803472, 'tol': 0.0001723027209084042, 'fit_intercept': False, 'positive': False}. Best is trial 277 with value: 0.13739315577070427.\n",
      "[I 2025-06-23 07:58:22,154] Trial 390 finished with value: 0.13739315448115869 and parameters: {'alpha': 0.0030259344327668958, 'tol': 0.0015257325971277922, 'fit_intercept': False, 'positive': False}. Best is trial 277 with value: 0.13739315577070427.\n",
      "[I 2025-06-23 07:58:23,092] Trial 391 finished with value: 0.13739307164695816 and parameters: {'alpha': 0.19559827764064636, 'tol': 5.36267685852796e-05, 'fit_intercept': False, 'positive': False}. Best is trial 277 with value: 0.13739315577070427.\n",
      "[I 2025-06-23 07:58:24,005] Trial 392 finished with value: 0.13739315571953306 and parameters: {'alpha': 0.00014635490857203793, 'tol': 0.0018406252536921975, 'fit_intercept': False, 'positive': False}. Best is trial 277 with value: 0.13739315577070427.\n",
      "[I 2025-06-23 07:58:24,225] Trial 393 finished with value: 0.1373930776297966 and parameters: {'alpha': 0.1816921358440467, 'tol': 7.133482515765937e-06, 'fit_intercept': False, 'positive': False}. Best is trial 277 with value: 0.13739315577070427.\n",
      "[I 2025-06-23 07:58:25,831] Trial 394 finished with value: 0.13739309640510244 and parameters: {'alpha': 0.1380492230243237, 'tol': 0.00032380840584079573, 'fit_intercept': False, 'positive': False}. Best is trial 277 with value: 0.13739315577070427.\n",
      "[I 2025-06-23 07:58:26,751] Trial 395 finished with value: 0.13739315246009437 and parameters: {'alpha': 0.0077254554665865775, 'tol': 0.0009767342212650592, 'fit_intercept': False, 'positive': False}. Best is trial 277 with value: 0.13739315577070427.\n",
      "[I 2025-06-23 07:58:27,674] Trial 396 finished with value: 0.13739315471006183 and parameters: {'alpha': 0.0024936697656838874, 'tol': 0.0013818703130464994, 'fit_intercept': False, 'positive': False}. Best is trial 277 with value: 0.13739315577070427.\n",
      "[I 2025-06-23 07:58:27,899] Trial 397 finished with value: 0.13739315336265107 and parameters: {'alpha': 0.005626773233531315, 'tol': 0.0022141681459566676, 'fit_intercept': False, 'positive': False}. Best is trial 277 with value: 0.13739315577070427.\n",
      "[I 2025-06-23 07:58:29,522] Trial 398 finished with value: 0.1373931255144567 and parameters: {'alpha': 0.07037673474258506, 'tol': 0.009483967484313606, 'fit_intercept': False, 'positive': False}. Best is trial 277 with value: 0.13739315577070427.\n",
      "[I 2025-06-23 07:58:30,110] Trial 399 finished with value: 0.13739315340675942 and parameters: {'alpha': 0.005524209373940125, 'tol': 0.0022156462654256263, 'fit_intercept': False, 'positive': False}. Best is trial 277 with value: 0.13739315577070427.\n",
      "[I 2025-06-23 07:58:31,339] Trial 400 finished with value: 0.1373931309978793 and parameters: {'alpha': 0.05762792952520094, 'tol': 0.009270909177540093, 'fit_intercept': False, 'positive': False}. Best is trial 277 with value: 0.13739315577070427.\n",
      "[I 2025-06-23 07:58:31,550] Trial 401 finished with value: 0.13739315216898856 and parameters: {'alpha': 0.00840235142967427, 'tol': 0.002441692617408104, 'fit_intercept': False, 'positive': False}. Best is trial 277 with value: 0.13739315577070427.\n",
      "[I 2025-06-23 07:58:33,193] Trial 402 finished with value: 0.1373930799396613 and parameters: {'alpha': 0.17632311518123328, 'tol': 0.0020499880565942414, 'fit_intercept': False, 'positive': False}. Best is trial 277 with value: 0.13739315577070427.\n",
      "[I 2025-06-23 07:58:34,095] Trial 403 finished with value: 0.13739308442098946 and parameters: {'alpha': 0.16590659205414715, 'tol': 0.002769234584360631, 'fit_intercept': False, 'positive': False}. Best is trial 277 with value: 0.13739315577070427.\n",
      "[I 2025-06-23 07:58:34,998] Trial 404 finished with value: 0.13739315200904512 and parameters: {'alpha': 0.008774260423780052, 'tol': 0.0025812018379768866, 'fit_intercept': False, 'positive': False}. Best is trial 277 with value: 0.13739315577070427.\n",
      "[I 2025-06-23 07:58:35,211] Trial 405 finished with value: 0.13739315398751614 and parameters: {'alpha': 0.004173791414905292, 'tol': 0.0009891555014937478, 'fit_intercept': False, 'positive': False}. Best is trial 277 with value: 0.13739315577070427.\n",
      "[I 2025-06-23 07:58:36,833] Trial 406 finished with value: 0.13739315457673637 and parameters: {'alpha': 0.002803689220013558, 'tol': 0.001374813561458037, 'fit_intercept': False, 'positive': False}. Best is trial 277 with value: 0.13739315577070427.\n",
      "[I 2025-06-23 07:58:37,629] Trial 407 finished with value: 0.1373931443166907 and parameters: {'alpha': 0.02666058201233885, 'tol': 2.7883800550804715e-05, 'fit_intercept': False, 'positive': False}. Best is trial 277 with value: 0.13739315577070427.\n",
      "[I 2025-06-23 07:58:38,435] Trial 408 finished with value: 0.13739315474752462 and parameters: {'alpha': 0.0024065580100985987, 'tol': 0.0007037693506666399, 'fit_intercept': False, 'positive': False}. Best is trial 277 with value: 0.13739315577070427.\n",
      "[I 2025-06-23 07:58:38,785] Trial 409 finished with value: 0.13739309625688287 and parameters: {'alpha': 0.13839377331602304, 'tol': 1.3471338866879903e-05, 'fit_intercept': False, 'positive': False}. Best is trial 277 with value: 0.13739315577070427.\n",
      "[I 2025-06-23 07:58:41,341] Trial 411 finished with value: 0.13739314660732843 and parameters: {'alpha': 0.021334446838437923, 'tol': 7.32670736267435e-05, 'fit_intercept': False, 'positive': False}. Best is trial 277 with value: 0.13739315577070427.\n",
      "[I 2025-06-23 07:58:41,558] Trial 410 finished with value: 0.13006813131773115 and parameters: {'alpha': 0.03438828020181174, 'tol': 0.00042688949955497644, 'fit_intercept': True, 'positive': True}. Best is trial 277 with value: 0.13739315577070427.\n",
      "[I 2025-06-23 07:58:42,124] Trial 412 finished with value: 0.13739309783321696 and parameters: {'alpha': 0.13472942202578558, 'tol': 0.0019229165622672928, 'fit_intercept': False, 'positive': False}. Best is trial 277 with value: 0.13739315577070427.\n",
      "[I 2025-06-23 07:58:42,187] Trial 413 finished with value: 0.137393153789987 and parameters: {'alpha': 0.00463310100802246, 'tol': 0.0019104949460182008, 'fit_intercept': False, 'positive': False}. Best is trial 277 with value: 0.13739315577070427.\n",
      "[I 2025-06-23 07:58:44,666] Trial 414 finished with value: 0.13739307751789923 and parameters: {'alpha': 0.1819522268668866, 'tol': 0.003326406865072974, 'fit_intercept': False, 'positive': False}. Best is trial 277 with value: 0.13739315577070427.\n",
      "[I 2025-06-23 07:58:45,936] Trial 416 finished with value: 0.1373930840915683 and parameters: {'alpha': 0.16667231587722545, 'tol': 0.002532804678607379, 'fit_intercept': False, 'positive': False}. Best is trial 277 with value: 0.13739315577070427.\n",
      "[I 2025-06-23 07:58:45,974] Trial 415 finished with value: 0.13240658861391244 and parameters: {'alpha': 0.5839451875215906, 'tol': 0.0028649224730746695, 'fit_intercept': False, 'positive': True}. Best is trial 277 with value: 0.13739315577070427.\n",
      "[I 2025-06-23 07:58:46,015] Trial 417 finished with value: 0.1336944293020492 and parameters: {'alpha': 0.4755774057854438, 'tol': 0.006113176219915809, 'fit_intercept': True, 'positive': False}. Best is trial 277 with value: 0.13739315577070427.\n",
      "[I 2025-06-23 07:58:49,472] Trial 419 finished with value: 0.13739310522103756 and parameters: {'alpha': 0.1175552786352313, 'tol': 0.0022608740583421323, 'fit_intercept': False, 'positive': False}. Best is trial 277 with value: 0.13739315577070427.\n",
      "[I 2025-06-23 07:58:49,514] Trial 418 finished with value: 0.13005936161244433 and parameters: {'alpha': 0.6028543260882384, 'tol': 0.002446222301051736, 'fit_intercept': True, 'positive': True}. Best is trial 277 with value: 0.13739315577070427.\n",
      "[I 2025-06-23 07:58:49,541] Trial 420 finished with value: 0.13739314769070268 and parameters: {'alpha': 0.01881538975837186, 'tol': 0.0026864632460682648, 'fit_intercept': False, 'positive': False}. Best is trial 277 with value: 0.13739315577070427.\n",
      "[I 2025-06-23 07:58:49,556] Trial 421 finished with value: 0.1373931548729909 and parameters: {'alpha': 0.002114812905503764, 'tol': 0.0010409120505204248, 'fit_intercept': False, 'positive': False}. Best is trial 277 with value: 0.13739315577070427.\n",
      "[I 2025-06-23 07:58:52,841] Trial 422 finished with value: 0.13739315030916013 and parameters: {'alpha': 0.012726906413610661, 'tol': 0.0021862189515151017, 'fit_intercept': False, 'positive': False}. Best is trial 277 with value: 0.13739315577070427.\n",
      "[I 2025-06-23 07:58:53,045] Trial 423 finished with value: 0.1373931521094384 and parameters: {'alpha': 0.008540820647986358, 'tol': 0.0026954616752854913, 'fit_intercept': False, 'positive': False}. Best is trial 277 with value: 0.13739315577070427.\n",
      "[I 2025-06-23 07:58:53,105] Trial 424 finished with value: 0.1373931557738831 and parameters: {'alpha': 1.99751370576411e-05, 'tol': 0.0033981028496642847, 'fit_intercept': False, 'positive': False}. Best is trial 424 with value: 0.1373931557738831.\n",
      "[I 2025-06-23 07:58:53,654] Trial 425 finished with value: 0.12974402546920408 and parameters: {'alpha': 0.006404709377816786, 'tol': 0.0037848200196068165, 'fit_intercept': False, 'positive': True}. Best is trial 424 with value: 0.1373931557738831.\n",
      "[I 2025-06-23 07:58:56,674] Trial 427 finished with value: 0.13739315304139726 and parameters: {'alpha': 0.00637377410097495, 'tol': 0.0015859897665404742, 'fit_intercept': False, 'positive': False}. Best is trial 424 with value: 0.1373931557738831.\n",
      "[I 2025-06-23 07:58:56,708] Trial 426 finished with value: 0.13369472586090983 and parameters: {'alpha': 0.013062533224184316, 'tol': 0.0030579118274976294, 'fit_intercept': True, 'positive': False}. Best is trial 424 with value: 0.1373931557738831.\n",
      "[I 2025-06-23 07:58:56,745] Trial 428 finished with value: 0.1373931402470893 and parameters: {'alpha': 0.036122967346336736, 'tol': 0.0035361817741479673, 'fit_intercept': False, 'positive': False}. Best is trial 424 with value: 0.1373931557738831.\n",
      "[I 2025-06-23 07:58:57,314] Trial 429 finished with value: 0.13739305785531936 and parameters: {'alpha': 0.22765310423747084, 'tol': 0.004616738583670753, 'fit_intercept': False, 'positive': False}. Best is trial 424 with value: 0.1373931557738831.\n",
      "[I 2025-06-23 07:59:00,355] Trial 430 finished with value: 0.13739314203424885 and parameters: {'alpha': 0.03196759860903281, 'tol': 0.0030385747342227577, 'fit_intercept': False, 'positive': False}. Best is trial 424 with value: 0.1373931557738831.\n",
      "[I 2025-06-23 07:59:00,356] Trial 431 finished with value: 0.13739310081863293 and parameters: {'alpha': 0.12778943364172102, 'tol': 0.0031748123483828225, 'fit_intercept': False, 'positive': False}. Best is trial 424 with value: 0.1373931557738831.\n",
      "[I 2025-06-23 07:59:00,435] Trial 432 finished with value: 0.13739312233257905 and parameters: {'alpha': 0.07777434890290022, 'tol': 0.0031276136485547685, 'fit_intercept': False, 'positive': False}. Best is trial 424 with value: 0.1373931557738831.\n",
      "[I 2025-06-23 07:59:01,005] Trial 433 finished with value: 0.1373930867929784 and parameters: {'alpha': 0.16039297926572435, 'tol': 0.003770243032510261, 'fit_intercept': False, 'positive': False}. Best is trial 424 with value: 0.1373931557738831.\n",
      "[I 2025-06-23 07:59:04,068] Trial 435 finished with value: 0.13739309166014002 and parameters: {'alpha': 0.1490792093051063, 'tol': 0.0019745666523771238, 'fit_intercept': False, 'positive': False}. Best is trial 424 with value: 0.1373931557738831.\n",
      "[I 2025-06-23 07:59:04,096] Trial 434 finished with value: 0.13739314748185444 and parameters: {'alpha': 0.019301003738381575, 'tol': 0.008054626637494273, 'fit_intercept': False, 'positive': False}. Best is trial 424 with value: 0.1373931557738831.\n",
      "[I 2025-06-23 07:59:04,135] Trial 436 finished with value: 0.13739309437601785 and parameters: {'alpha': 0.14276600004840262, 'tol': 0.0017212259046036132, 'fit_intercept': False, 'positive': False}. Best is trial 424 with value: 0.1373931557738831.\n",
      "[I 2025-06-23 07:59:04,573] Trial 437 finished with value: 0.13739315318617817 and parameters: {'alpha': 0.006037120025060868, 'tol': 0.0027908226224320986, 'fit_intercept': False, 'positive': False}. Best is trial 424 with value: 0.1373931557738831.\n",
      "[I 2025-06-23 07:59:07,704] Trial 438 finished with value: 0.1373931409059156 and parameters: {'alpha': 0.034591118618501344, 'tol': 0.0034962058159285292, 'fit_intercept': False, 'positive': False}. Best is trial 424 with value: 0.1373931557738831.\n",
      "[I 2025-06-23 07:59:07,765] Trial 440 finished with value: 0.13739315422719445 and parameters: {'alpha': 0.003616472734509706, 'tol': 0.002445999914406763, 'fit_intercept': False, 'positive': False}. Best is trial 424 with value: 0.1373931557738831.\n",
      "[I 2025-06-23 07:59:08,170] Trial 439 finished with value: 0.1295298906151795 and parameters: {'alpha': 0.4389334116874493, 'tol': 0.008585118323791566, 'fit_intercept': False, 'positive': True}. Best is trial 424 with value: 0.1373931557738831.\n",
      "[I 2025-06-23 07:59:08,380] Trial 441 finished with value: 0.1336945173729305 and parameters: {'alpha': 0.3382527413600489, 'tol': 0.002005828495515285, 'fit_intercept': True, 'positive': False}. Best is trial 424 with value: 0.1373931557738831.\n",
      "[I 2025-06-23 07:59:11,265] Trial 442 finished with value: 0.13369471250928724 and parameters: {'alpha': 0.03389222348732076, 'tol': 0.0006205397710816946, 'fit_intercept': True, 'positive': False}. Best is trial 424 with value: 0.1373931557738831.\n",
      "[I 2025-06-23 07:59:11,842] Trial 444 finished with value: 0.13739308233070133 and parameters: {'alpha': 0.1707653450594167, 'tol': 0.0010018401816105943, 'fit_intercept': False, 'positive': False}. Best is trial 424 with value: 0.1373931557738831.\n",
      "[I 2025-06-23 07:59:12,045] Trial 445 finished with value: 0.13739315393802046 and parameters: {'alpha': 0.004288882671268027, 'tol': 0.0031885534151462123, 'fit_intercept': False, 'positive': False}. Best is trial 424 with value: 0.1373931557738831.\n",
      "[I 2025-06-23 07:59:12,059] Trial 443 finished with value: 0.1253233179951288 and parameters: {'alpha': 0.28531417611464566, 'tol': 0.004572382875250398, 'fit_intercept': True, 'positive': True}. Best is trial 424 with value: 0.1373931557738831.\n",
      "[I 2025-06-23 07:59:15,030] Trial 446 finished with value: 0.13739310168693727 and parameters: {'alpha': 0.12577092752053648, 'tol': 0.00018496398570388636, 'fit_intercept': False, 'positive': False}. Best is trial 424 with value: 0.1373931557738831.\n",
      "[I 2025-06-23 07:59:15,622] Trial 447 finished with value: 0.1373931543914377 and parameters: {'alpha': 0.0032345609813501184, 'tol': 0.003529607383381109, 'fit_intercept': False, 'positive': False}. Best is trial 424 with value: 0.1373931557738831.\n",
      "[I 2025-06-23 07:59:15,827] Trial 449 finished with value: 0.13739314996498533 and parameters: {'alpha': 0.013527192302604088, 'tol': 0.002661409533909795, 'fit_intercept': False, 'positive': False}. Best is trial 424 with value: 0.1373931557738831.\n",
      "[I 2025-06-23 07:59:15,848] Trial 448 finished with value: 0.13739314992125595 and parameters: {'alpha': 0.013628873165202513, 'tol': 0.0003872758271436337, 'fit_intercept': False, 'positive': False}. Best is trial 424 with value: 0.1373931557738831.\n",
      "[I 2025-06-23 07:59:18,587] Trial 450 finished with value: 0.13739315167794564 and parameters: {'alpha': 0.009544149999825061, 'tol': 0.0030615163251592145, 'fit_intercept': False, 'positive': False}. Best is trial 424 with value: 0.1373931557738831.\n",
      "[I 2025-06-23 07:59:19,393] Trial 453 finished with value: 0.13739315550551678 and parameters: {'alpha': 0.0006440064080256765, 'tol': 0.0028824660201190776, 'fit_intercept': False, 'positive': False}. Best is trial 424 with value: 0.1373931557738831.\n",
      "[I 2025-06-23 07:59:20,032] Trial 451 finished with value: 0.13447609310643138 and parameters: {'alpha': 0.24638879382274015, 'tol': 0.0004077120580410097, 'fit_intercept': False, 'positive': True}. Best is trial 424 with value: 0.1373931557738831.\n",
      "[I 2025-06-23 07:59:20,225] Trial 452 finished with value: 0.1253232213263835 and parameters: {'alpha': 0.9257050232429864, 'tol': 0.008873493588809225, 'fit_intercept': True, 'positive': True}. Best is trial 424 with value: 0.1373931557738831.\n",
      "[I 2025-06-23 07:59:22,212] Trial 454 finished with value: 0.13739315437891025 and parameters: {'alpha': 0.0032636908284155554, 'tol': 0.0009831770198536456, 'fit_intercept': False, 'positive': False}. Best is trial 424 with value: 0.1373931557738831.\n",
      "[I 2025-06-23 07:59:23,167] Trial 455 finished with value: 0.13739315337913866 and parameters: {'alpha': 0.005588434987993277, 'tol': 0.0030225741216183474, 'fit_intercept': False, 'positive': False}. Best is trial 424 with value: 0.1373931557738831.\n",
      "[I 2025-06-23 07:59:23,572] Trial 456 finished with value: 0.13739315063528962 and parameters: {'alpha': 0.011968578567085837, 'tol': 0.0019223802208858235, 'fit_intercept': False, 'positive': False}. Best is trial 424 with value: 0.1373931557738831.\n",
      "[I 2025-06-23 07:59:24,120] Trial 457 finished with value: 0.13739309503434605 and parameters: {'alpha': 0.14123566628646525, 'tol': 0.001557315310582571, 'fit_intercept': False, 'positive': False}. Best is trial 424 with value: 0.1373931557738831.\n",
      "[I 2025-06-23 07:59:25,767] Trial 458 finished with value: 0.1373931532652855 and parameters: {'alpha': 0.005853174326746944, 'tol': 0.0013268704374407093, 'fit_intercept': False, 'positive': False}. Best is trial 424 with value: 0.1373931557738831.\n",
      "[I 2025-06-23 07:59:26,855] Trial 459 finished with value: 0.1373931540445545 and parameters: {'alpha': 0.00404116148587585, 'tol': 0.0024332058976542525, 'fit_intercept': False, 'positive': False}. Best is trial 424 with value: 0.1373931557738831.\n",
      "[I 2025-06-23 07:59:27,081] Trial 460 finished with value: 0.13739315175580843 and parameters: {'alpha': 0.009363099515449948, 'tol': 0.001586667721795216, 'fit_intercept': False, 'positive': False}. Best is trial 424 with value: 0.1373931557738831.\n",
      "[I 2025-06-23 07:59:27,817] Trial 461 finished with value: 0.13739315527373147 and parameters: {'alpha': 0.0011829751809473714, 'tol': 0.0013285925153204456, 'fit_intercept': False, 'positive': False}. Best is trial 424 with value: 0.1373931557738831.\n",
      "[I 2025-06-23 07:59:29,607] Trial 462 finished with value: 0.13739289223701376 and parameters: {'alpha': 0.6124114743873632, 'tol': 0.00044561909541310663, 'fit_intercept': False, 'positive': False}. Best is trial 424 with value: 0.1373931557738831.\n",
      "[I 2025-06-23 07:59:30,514] Trial 463 finished with value: 0.13739309917022224 and parameters: {'alpha': 0.131621392222363, 'tol': 0.0018357961024592353, 'fit_intercept': False, 'positive': False}. Best is trial 424 with value: 0.1373931557738831.\n",
      "[I 2025-06-23 07:59:30,733] Trial 464 finished with value: 0.13739308601267475 and parameters: {'alpha': 0.162206777729276, 'tol': 0.001283354255981227, 'fit_intercept': False, 'positive': False}. Best is trial 424 with value: 0.1373931557738831.\n",
      "[I 2025-06-23 07:59:31,651] Trial 465 finished with value: 0.1373930816777965 and parameters: {'alpha': 0.17228297371595352, 'tol': 0.0018109978717167955, 'fit_intercept': False, 'positive': False}. Best is trial 424 with value: 0.1373931557738831.\n",
      "[I 2025-06-23 07:59:33,308] Trial 466 finished with value: 0.13739308555615568 and parameters: {'alpha': 0.1632679428202726, 'tol': 0.0013097320715635115, 'fit_intercept': False, 'positive': False}. Best is trial 424 with value: 0.1373931557738831.\n",
      "[I 2025-06-23 07:59:34,218] Trial 467 finished with value: 0.1373930841396491 and parameters: {'alpha': 0.1665605544070016, 'tol': 0.00027414235317677505, 'fit_intercept': False, 'positive': False}. Best is trial 424 with value: 0.1373931557738831.\n",
      "[I 2025-06-23 07:59:34,280] Trial 468 finished with value: 0.1373931472279883 and parameters: {'alpha': 0.019891292783599242, 'tol': 0.009659670060034606, 'fit_intercept': False, 'positive': False}. Best is trial 424 with value: 0.1373931557738831.\n",
      "[I 2025-06-23 07:59:35,361] Trial 469 finished with value: 0.1373931554699366 and parameters: {'alpha': 0.0007267408522340113, 'tol': 0.0019586919633134987, 'fit_intercept': False, 'positive': False}. Best is trial 424 with value: 0.1373931557738831.\n",
      "[I 2025-06-23 07:59:36,837] Trial 470 finished with value: 0.13739315222936843 and parameters: {'alpha': 0.008261952828797572, 'tol': 0.0013586726789186709, 'fit_intercept': False, 'positive': False}. Best is trial 424 with value: 0.1373931557738831.\n",
      "[I 2025-06-23 07:59:37,942] Trial 471 finished with value: 0.1373931524702545 and parameters: {'alpha': 0.007701830789587225, 'tol': 0.0015771498752437459, 'fit_intercept': False, 'positive': False}. Best is trial 424 with value: 0.1373931557738831.\n",
      "[I 2025-06-23 07:59:37,985] Trial 472 finished with value: 0.1373931505829256 and parameters: {'alpha': 0.012090337324606472, 'tol': 0.0014293134199608295, 'fit_intercept': False, 'positive': False}. Best is trial 424 with value: 0.1373931557738831.\n",
      "[I 2025-06-23 07:59:39,070] Trial 473 finished with value: 0.13739315381021028 and parameters: {'alpha': 0.004586076427590315, 'tol': 0.0018553039920650566, 'fit_intercept': False, 'positive': False}. Best is trial 424 with value: 0.1373931557738831.\n",
      "[I 2025-06-23 07:59:40,527] Trial 474 finished with value: 0.1373931510446933 and parameters: {'alpha': 0.011016617150162654, 'tol': 0.0021202199417019374, 'fit_intercept': False, 'positive': False}. Best is trial 424 with value: 0.1373931557738831.\n",
      "[I 2025-06-23 07:59:41,621] Trial 475 finished with value: 0.1373931510001055 and parameters: {'alpha': 0.011120294600905039, 'tol': 0.0022144647066001683, 'fit_intercept': False, 'positive': False}. Best is trial 424 with value: 0.1373931557738831.\n",
      "[I 2025-06-23 07:59:41,667] Trial 476 finished with value: 0.13739308661233393 and parameters: {'alpha': 0.16081288405976285, 'tol': 0.0016033243328750723, 'fit_intercept': False, 'positive': False}. Best is trial 424 with value: 0.1373931557738831.\n",
      "[I 2025-06-23 07:59:42,814] Trial 477 finished with value: 0.1373931516121499 and parameters: {'alpha': 0.00969714152724228, 'tol': 0.0024100267221407136, 'fit_intercept': False, 'positive': False}. Best is trial 424 with value: 0.1373931557738831.\n",
      "[I 2025-06-23 07:59:44,279] Trial 478 finished with value: 0.13739315557299167 and parameters: {'alpha': 0.00048710734065518876, 'tol': 0.0014133079194277112, 'fit_intercept': False, 'positive': False}. Best is trial 424 with value: 0.1373931557738831.\n",
      "[I 2025-06-23 07:59:45,227] Trial 479 finished with value: 0.13739315117993525 and parameters: {'alpha': 0.01070214652032858, 'tol': 0.001545026679043879, 'fit_intercept': False, 'positive': False}. Best is trial 424 with value: 0.1373931557738831.\n",
      "[I 2025-06-23 07:59:45,289] Trial 480 finished with value: 0.13739315405318364 and parameters: {'alpha': 0.004021096135383746, 'tol': 0.0023949972612962275, 'fit_intercept': False, 'positive': False}. Best is trial 424 with value: 0.1373931557738831.\n",
      "[I 2025-06-23 07:59:47,801] Trial 481 finished with value: 0.13447608200523223 and parameters: {'alpha': 0.0005247530352056925, 'tol': 0.00013665567307174966, 'fit_intercept': False, 'positive': True}. Best is trial 424 with value: 0.1373931557738831.\n",
      "[I 2025-06-23 07:59:47,859] Trial 482 finished with value: 0.1373930905141164 and parameters: {'alpha': 0.15174317884205438, 'tol': 1.1956741882060483e-05, 'fit_intercept': False, 'positive': False}. Best is trial 424 with value: 0.1373931557738831.\n",
      "[I 2025-06-23 07:59:48,940] Trial 483 finished with value: 0.1373930902130447 and parameters: {'alpha': 0.15244302737293863, 'tol': 3.03712003173022e-06, 'fit_intercept': False, 'positive': False}. Best is trial 424 with value: 0.1373931557738831.\n",
      "[I 2025-06-23 07:59:49,147] Trial 484 finished with value: 0.13739311644489796 and parameters: {'alpha': 0.09146242679778617, 'tol': 5.8320005452591934e-05, 'fit_intercept': False, 'positive': False}. Best is trial 424 with value: 0.1373931557738831.\n",
      "[I 2025-06-23 07:59:51,455] Trial 485 finished with value: 0.13739313711386097 and parameters: {'alpha': 0.043408022547725744, 'tol': 4.122169402350905e-05, 'fit_intercept': False, 'positive': False}. Best is trial 424 with value: 0.1373931557738831.\n",
      "[I 2025-06-23 07:59:51,665] Trial 486 finished with value: 0.13739313340425643 and parameters: {'alpha': 0.0520330573488338, 'tol': 0.00031450017426712753, 'fit_intercept': False, 'positive': False}. Best is trial 424 with value: 0.1373931557738831.\n",
      "[I 2025-06-23 07:59:52,606] Trial 487 finished with value: 0.13739313369991515 and parameters: {'alpha': 0.051345640563205036, 'tol': 2.722489862795e-06, 'fit_intercept': False, 'positive': False}. Best is trial 424 with value: 0.1373931557738831.\n",
      "[I 2025-06-23 07:59:52,666] Trial 488 finished with value: 0.1373931514831662 and parameters: {'alpha': 0.009997060513420421, 'tol': 8.268561553586657e-05, 'fit_intercept': False, 'positive': False}. Best is trial 424 with value: 0.1373931557738831.\n",
      "[I 2025-06-23 07:59:55,004] Trial 489 finished with value: 0.13739315499508392 and parameters: {'alpha': 0.001830911606409008, 'tol': 0.0010567231503038304, 'fit_intercept': False, 'positive': False}. Best is trial 424 with value: 0.1373931557738831.\n",
      "[I 2025-06-23 07:59:55,376] Trial 490 finished with value: 0.13369461564436838 and parameters: {'alpha': 0.18499175753769406, 'tol': 0.0014556577764437792, 'fit_intercept': True, 'positive': False}. Best is trial 424 with value: 0.1373931557738831.\n",
      "[I 2025-06-23 07:59:56,098] Trial 491 finished with value: 0.1373931553324256 and parameters: {'alpha': 0.001046494227887682, 'tol': 0.0018567212143348877, 'fit_intercept': False, 'positive': False}. Best is trial 424 with value: 0.1373931557738831.\n",
      "[I 2025-06-23 07:59:56,324] Trial 492 finished with value: 0.13739309800712227 and parameters: {'alpha': 0.13432515926505095, 'tol': 0.00167854036885188, 'fit_intercept': False, 'positive': False}. Best is trial 424 with value: 0.1373931557738831.\n",
      "[I 2025-06-23 07:59:58,949] Trial 493 finished with value: 0.13739315536498517 and parameters: {'alpha': 0.0009707836600342898, 'tol': 0.000937842688841886, 'fit_intercept': False, 'positive': False}. Best is trial 424 with value: 0.1373931557738831.\n",
      "[I 2025-06-23 07:59:59,164] Trial 494 finished with value: 0.13739307508630696 and parameters: {'alpha': 0.18760411846539576, 'tol': 0.0022510534469687826, 'fit_intercept': False, 'positive': False}. Best is trial 424 with value: 0.1373931557738831.\n",
      "[I 2025-06-23 07:59:59,726] Trial 495 finished with value: 0.1373930768829606 and parameters: {'alpha': 0.18342805840888537, 'tol': 0.0013556860484819095, 'fit_intercept': False, 'positive': False}. Best is trial 424 with value: 0.1373931557738831.\n",
      "[I 2025-06-23 07:59:59,938] Trial 496 finished with value: 0.13739315173126262 and parameters: {'alpha': 0.009420174573955657, 'tol': 0.0021204288023437164, 'fit_intercept': False, 'positive': False}. Best is trial 424 with value: 0.1373931557738831.\n",
      "[I 2025-06-23 08:00:02,199] Trial 497 finished with value: 0.13739283849041528 and parameters: {'alpha': 0.7372041407241614, 'tol': 0.005589102781633782, 'fit_intercept': False, 'positive': False}. Best is trial 424 with value: 0.1373931557738831.\n",
      "[I 2025-06-23 08:00:02,396] Trial 498 finished with value: 0.13369411418356167 and parameters: {'alpha': 0.9667110505379329, 'tol': 0.005616134024357879, 'fit_intercept': True, 'positive': False}. Best is trial 424 with value: 0.1373931557738831.\n",
      "[I 2025-06-23 08:00:02,631] Trial 499 finished with value: 0.12952986554454693 and parameters: {'alpha': 0.6923144180530105, 'tol': 0.009465400169756385, 'fit_intercept': False, 'positive': True}. Best is trial 424 with value: 0.1373931557738831.\n"
     ]
    }
   ],
   "source": [
    "def objective(trial):    \n",
    "    params = {\n",
    "        \"random_state\": CFG.seed,\n",
    "        \"alpha\": trial.suggest_float(\"alpha\", 0, 1),\n",
    "        \"tol\": trial.suggest_float(\"tol\", 1e-6, 1e-2),\n",
    "        \"fit_intercept\": trial.suggest_categorical(\"fit_intercept\", [True, False]),\n",
    "        \"positive\": trial.suggest_categorical(\"positive\", [True, False])\n",
    "    }\n",
    "\n",
    "    trainer = Trainer(\n",
    "        Ridge(**params),\n",
    "        cv=KFold(n_splits=5, shuffle=False),\n",
    "        metric=pearsonr,\n",
    "        task=\"regression\",\n",
    "        verbose=False\n",
    "    )\n",
    "    trainer.fit(X, y)\n",
    "    \n",
    "    return pearsonr(trainer.oof_preds, y)\n",
    "\n",
    "if CFG.run_optuna:\n",
    "    sampler = optuna.samplers.TPESampler(seed=CFG.seed, multivariate=True, n_startup_trials=CFG.n_optuna_trials // 10)\n",
    "    study = optuna.create_study(direction=\"maximize\", sampler=sampler)\n",
    "    study.optimize(objective, n_trials=CFG.n_optuna_trials, n_jobs=-1, catch=(ValueError,))\n",
    "    best_params = study.best_params\n",
    "\n",
    "    ridge_params = {\n",
    "        \"random_state\": CFG.seed,\n",
    "        \"alpha\": best_params[\"alpha\"],\n",
    "        \"tol\": best_params[\"tol\"],\n",
    "        \"fit_intercept\": best_params[\"fit_intercept\"],\n",
    "        \"positive\": best_params[\"positive\"]\n",
    "    }\n",
    "else:\n",
    "    ridge_params = {\n",
    "        \"random_state\": CFG.seed\n",
    "    }"
   ]
  },
  {
   "cell_type": "code",
   "execution_count": 19,
   "id": "1d475ac1",
   "metadata": {
    "execution": {
     "iopub.execute_input": "2025-06-23T08:00:02.706096Z",
     "iopub.status.busy": "2025-06-23T08:00:02.705793Z",
     "iopub.status.idle": "2025-06-23T08:00:03.862105Z",
     "shell.execute_reply": "2025-06-23T08:00:03.860960Z"
    },
    "papermill": {
     "duration": 1.192503,
     "end_time": "2025-06-23T08:00:03.863816",
     "exception": false,
     "start_time": "2025-06-23T08:00:02.671313",
     "status": "completed"
    },
    "tags": []
   },
   "outputs": [
    {
     "name": "stdout",
     "output_type": "stream",
     "text": [
      "Training Ridge\n",
      "\n",
      "--- Fold 0 - pearsonr: 0.193956 - Time: 0.07 s\n",
      "--- Fold 1 - pearsonr: 0.125342 - Time: 0.06 s\n",
      "--- Fold 2 - pearsonr: 0.097022 - Time: 0.06 s\n",
      "--- Fold 3 - pearsonr: 0.137610 - Time: 0.06 s\n",
      "--- Fold 4 - pearsonr: 0.143411 - Time: 0.06 s\n",
      "\n",
      "------ Overall pearsonr: 0.137393 - Mean pearsonr: 0.139468 ± 0.031588 - Time: 1.10 s\n"
     ]
    }
   ],
   "source": [
    "ridge_trainer = Trainer(\n",
    "    Ridge(**ridge_params),\n",
    "    cv=KFold(n_splits=5, shuffle=False),\n",
    "    metric=pearsonr,\n",
    "    task=\"regression\",\n",
    "    metric_precision=6\n",
    ")\n",
    "\n",
    "ridge_trainer.fit(X, y)\n",
    "\n",
    "fold_scores[\"Ridge (ensemble)\"] = ridge_trainer.fold_scores\n",
    "overall_scores[\"Ridge (ensemble)\"] = [pearsonr(ridge_trainer.oof_preds, y)]\n",
    "ridge_test_preds = ridge_trainer.predict(X_test)"
   ]
  },
  {
   "cell_type": "code",
   "execution_count": 20,
   "id": "808cb999",
   "metadata": {
    "execution": {
     "iopub.execute_input": "2025-06-23T08:00:03.930138Z",
     "iopub.status.busy": "2025-06-23T08:00:03.929723Z",
     "iopub.status.idle": "2025-06-23T08:00:04.183226Z",
     "shell.execute_reply": "2025-06-23T08:00:04.182170Z"
    },
    "papermill": {
     "duration": 0.288546,
     "end_time": "2025-06-23T08:00:04.184792",
     "exception": false,
     "start_time": "2025-06-23T08:00:03.896246",
     "status": "completed"
    },
    "tags": []
   },
   "outputs": [
    {
     "data": {
      "image/png": "[encoded data removed]",
      "text/plain": [
       "<Figure size 1000x150 with 1 Axes>"
      ]
     },
     "metadata": {},
     "output_type": "display_data"
    }
   ],
   "source": [
    "ridge_coeffs = np.zeros((1, X.shape[1]))\n",
    "for m in ridge_trainer.estimators:\n",
    "    ridge_coeffs += m.coef_\n",
    "ridge_coeffs = ridge_coeffs / len(ridge_trainer.estimators)\n",
    "\n",
    "plot_weights(ridge_coeffs, \"Ridge Coefficients\")"
   ]
  },
  {
   "cell_type": "code",
   "execution_count": 21,
   "id": "9bd881b3",
   "metadata": {
    "execution": {
     "iopub.execute_input": "2025-06-23T08:00:04.253920Z",
     "iopub.status.busy": "2025-06-23T08:00:04.253569Z",
     "iopub.status.idle": "2025-06-23T08:00:05.933237Z",
     "shell.execute_reply": "2025-06-23T08:00:05.932291Z"
    },
    "papermill": {
     "duration": 1.716792,
     "end_time": "2025-06-23T08:00:05.935455",
     "exception": false,
     "start_time": "2025-06-23T08:00:04.218663",
     "status": "completed"
    },
    "tags": []
   },
   "outputs": [
    {
     "data": {
      "text/html": [
       "<div>\n",
       "<style scoped>\n",
       "    .dataframe tbody tr th:only-of-type {\n",
       "        vertical-align: middle;\n",
       "    }\n",
       "\n",
       "    .dataframe tbody tr th {\n",
       "        vertical-align: top;\n",
       "    }\n",
       "\n",
       "    .dataframe thead th {\n",
       "        text-align: right;\n",
       "    }\n",
       "</style>\n",
       "<table border=\"1\" class=\"dataframe\">\n",
       "  <thead>\n",
       "    <tr style=\"text-align: right;\">\n",
       "      <th></th>\n",
       "      <th>ID</th>\n",
       "      <th>prediction</th>\n",
       "    </tr>\n",
       "  </thead>\n",
       "  <tbody>\n",
       "    <tr>\n",
       "      <th>0</th>\n",
       "      <td>1</td>\n",
       "      <td>0.116717</td>\n",
       "    </tr>\n",
       "    <tr>\n",
       "      <th>1</th>\n",
       "      <td>2</td>\n",
       "      <td>-0.070377</td>\n",
       "    </tr>\n",
       "    <tr>\n",
       "      <th>2</th>\n",
       "      <td>3</td>\n",
       "      <td>0.138507</td>\n",
       "    </tr>\n",
       "    <tr>\n",
       "      <th>3</th>\n",
       "      <td>4</td>\n",
       "      <td>-0.074759</td>\n",
       "    </tr>\n",
       "    <tr>\n",
       "      <th>4</th>\n",
       "      <td>5</td>\n",
       "      <td>0.144158</td>\n",
       "    </tr>\n",
       "  </tbody>\n",
       "</table>\n",
       "</div>"
      ],
      "text/plain": [
       "   ID  prediction\n",
       "0   1    0.116717\n",
       "1   2   -0.070377\n",
       "2   3    0.138507\n",
       "3   4   -0.074759\n",
       "4   5    0.144158"
      ]
     },
     "execution_count": 21,
     "metadata": {},
     "output_type": "execute_result"
    }
   ],
   "source": [
    "sub = pd.read_csv(CFG.sample_sub_path)\n",
    "sub[\"prediction\"] = ridge_test_preds\n",
    "sub.to_csv(f\"sub_ridge_{overall_scores['Ridge (ensemble)'][0]:.6f}.csv\", index=False)\n",
    "sub.head()"
   ]
  }
 ],
 "metadata": {
  "kaggle": {
   "accelerator": "none",
   "dataSources": [
    {
     "databundleVersionId": 11418275,
     "sourceId": 96164,
     "sourceType": "competition"
    }
   ],
   "dockerImageVersionId": 31040,
   "isGpuEnabled": false,
   "isInternetEnabled": true,
   "language": "python",
   "sourceType": "notebook"
  },
  "kernelspec": {
   "display_name": "Python 3",
   "language": "python",
   "name": "python3"
  },
  "language_info": {
   "codemirror_mode": {
    "name": "ipython",
    "version": 3
   },
   "file_extension": ".py",
   "mimetype": "text/x-python",
   "name": "python",
   "nbconvert_exporter": "python",
   "pygments_lexer": "ipython3",
   "version": "3.11.11"
  },
  "papermill": {
   "default_parameters": {},
   "duration": 824.801141,
   "end_time": "2025-06-23T08:00:08.515505",
   "environment_variables": {},
   "exception": null,
   "input_path": "__notebook__.ipynb",
   "output_path": "__notebook__.ipynb",
   "parameters": {},
   "start_time": "2025-06-23T07:46:23.714364",
   "version": "2.6.0"
  }
 },
 "nbformat": 4,
 "nbformat_minor": 5
}
